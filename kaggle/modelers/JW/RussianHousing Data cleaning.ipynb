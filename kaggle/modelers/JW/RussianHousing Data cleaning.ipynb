{
 "cells": [
  {
   "cell_type": "code",
   "execution_count": 1,
   "metadata": {
    "collapsed": true
   },
   "outputs": [],
   "source": [
    "import numpy as np # linear algebra\n",
    "import pandas as pd # data processing, CSV file I/O (e.g. pd.read_csv)\n",
    "import matplotlib.pyplot as plt\n",
    "import seaborn as sns\n",
    "from sklearn import model_selection, preprocessing\n",
    "\n",
    "color = sns.color_palette()\n",
    "%matplotlib inline\n",
    "\n",
    "pd.options.mode.chained_assignment = None  # default='warn'\n",
    "pd.set_option('display.max_columns', 500)"
   ]
  },
  {
   "cell_type": "code",
   "execution_count": 2,
   "metadata": {
    "collapsed": true
   },
   "outputs": [],
   "source": [
    "train = pd.read_csv(\"Desktop/Kaggle/train.csv\",parse_dates=['timestamp'] )\n",
    "test = pd.read_csv(\"Desktop/Kaggle/test.csv\", parse_dates=['timestamp'])"
   ]
  },
  {
   "cell_type": "code",
   "execution_count": 3,
   "metadata": {
    "collapsed": true
   },
   "outputs": [],
   "source": [
    "first_feat = [\"id\",\"timestamp\",\"price_doc\", \"full_sq\", \"life_sq\",\n",
    "\"floor\", \"max_floor\", \"material\", \"build_year\", \"num_room\",\n",
    "\"kitch_sq\", \"state\", \"product_type\", \"sub_area\"]"
   ]
  },
  {
   "cell_type": "code",
   "execution_count": 4,
   "metadata": {
    "collapsed": true
   },
   "outputs": [],
   "source": [
    "bad_index = train[train.life_sq > train.full_sq].index\n",
    "train.ix[bad_index, \"life_sq\"] = train.ix[bad_index,'full_sq']"
   ]
  },
  {
   "cell_type": "code",
   "execution_count": 5,
   "metadata": {
    "collapsed": false
   },
   "outputs": [],
   "source": [
    "bad_index = test[test.life_sq > test.full_sq].index\n",
    "test.ix[bad_index, \"life_sq\"] = test.ix[bad_index,'full_sq']"
   ]
  },
  {
   "cell_type": "code",
   "execution_count": 6,
   "metadata": {
    "collapsed": true
   },
   "outputs": [],
   "source": [
    "bad_index = train[train.life_sq < 5].index\n",
    "train.ix[bad_index, \"life_sq\"] = 5"
   ]
  },
  {
   "cell_type": "code",
   "execution_count": 7,
   "metadata": {
    "collapsed": true
   },
   "outputs": [],
   "source": [
    "bad_index = test[test.life_sq < 5].index\n",
    "test.ix[bad_index, \"life_sq\"] = 5"
   ]
  },
  {
   "cell_type": "code",
   "execution_count": 8,
   "metadata": {
    "collapsed": true
   },
   "outputs": [],
   "source": [
    "bad_index = train[train.full_sq < 5].index\n",
    "train.ix[bad_index, \"full_sq\"] = 5"
   ]
  },
  {
   "cell_type": "code",
   "execution_count": 9,
   "metadata": {
    "collapsed": true
   },
   "outputs": [],
   "source": [
    "bad_index = test[test.full_sq < 5].index\n",
    "test.ix[bad_index, \"full_sq\"] = 5"
   ]
  },
  {
   "cell_type": "code",
   "execution_count": 10,
   "metadata": {
    "collapsed": false
   },
   "outputs": [],
   "source": [
    "kitch_is_build_year = [13117]\n",
    "train.ix[kitch_is_build_year, \"build_year\"] = train.ix[kitch_is_build_year, \"kitch_sq\"]"
   ]
  },
  {
   "cell_type": "code",
   "execution_count": 11,
   "metadata": {
    "collapsed": true
   },
   "outputs": [],
   "source": [
    "bad_index = train[train.build_year < 1500].index\n",
    "train.ix[bad_index, \"build_year\"] = np.NaN\n",
    "bad_index = test[test.build_year < 1500].index\n",
    "test.ix[bad_index, \"build_year\"] = np.NaN"
   ]
  },
  {
   "cell_type": "code",
   "execution_count": 12,
   "metadata": {
    "collapsed": true
   },
   "outputs": [],
   "source": [
    "bad_index = train[train.num_room == 0].index \n",
    "train.ix[bad_index, \"num_room\"] = np.NaN"
   ]
  },
  {
   "cell_type": "code",
   "execution_count": 13,
   "metadata": {
    "collapsed": true
   },
   "outputs": [],
   "source": [
    "bad_index = test[test.num_room == 0].index \n",
    "test.ix[bad_index, \"num_room\"] = np.NaN"
   ]
  },
  {
   "cell_type": "code",
   "execution_count": 14,
   "metadata": {
    "collapsed": false
   },
   "outputs": [],
   "source": [
    "bad_index = train[train.floor > train.max_floor].index\n",
    "train.ix[bad_index, \"floor\"] = train.ix[bad_index, \"max_floor\"]"
   ]
  },
  {
   "cell_type": "code",
   "execution_count": 15,
   "metadata": {
    "collapsed": true
   },
   "outputs": [],
   "source": [
    "bad_index = test[test.floor > test.max_floor].index\n",
    "test.ix[bad_index, \"floor\"] = test.ix[bad_index, \"max_floor\"]"
   ]
  },
  {
   "cell_type": "code",
   "execution_count": 16,
   "metadata": {
    "collapsed": false
   },
   "outputs": [],
   "source": [
    "bad_index = train[train.state == 33].index\n",
    "train.ix[bad_index, \"state\"] = np.NaN"
   ]
  },
  {
   "cell_type": "code",
   "execution_count": 17,
   "metadata": {
    "collapsed": false
   },
   "outputs": [],
   "source": [
    "ulimit = np.percentile(train.price_doc.values, 99)\n",
    "llimit = np.percentile(train.price_doc.values, 1)"
   ]
  },
  {
   "cell_type": "code",
   "execution_count": 18,
   "metadata": {
    "collapsed": true
   },
   "outputs": [],
   "source": [
    "train['price_doc'].ix[train['price_doc']>ulimit] = ulimit\n",
    "train['price_doc'].ix[train['price_doc']<llimit] = llimit"
   ]
  },
  {
   "cell_type": "code",
   "execution_count": 19,
   "metadata": {
    "collapsed": false
   },
   "outputs": [
    {
     "data": {
      "text/plain": [
       "6383"
      ]
     },
     "execution_count": 19,
     "metadata": {},
     "output_type": "execute_result"
    }
   ],
   "source": [
    "train['life_sq'].isnull().sum()"
   ]
  },
  {
   "cell_type": "code",
   "execution_count": 20,
   "metadata": {
    "collapsed": false
   },
   "outputs": [],
   "source": [
    "train['life_sq'].fillna(train['full_sq'],inplace = True)"
   ]
  },
  {
   "cell_type": "code",
   "execution_count": 21,
   "metadata": {
    "collapsed": false
   },
   "outputs": [
    {
     "name": "stdout",
     "output_type": "stream",
     "text": [
      "floor\n",
      "167\n",
      "max_floor\n",
      "9572\n",
      "material\n",
      "9572\n",
      "build_year\n",
      "14507\n",
      "num_room\n",
      "9586\n",
      "kitch_sq\n",
      "9572\n",
      "state\n",
      "13560\n",
      "preschool_quota\n",
      "6688\n",
      "school_quota\n",
      "6685\n",
      "hospital_beds_raion\n",
      "14441\n",
      "raion_build_count_with_material_info\n",
      "4991\n",
      "build_count_block\n",
      "4991\n",
      "build_count_wood\n",
      "4991\n",
      "build_count_frame\n",
      "4991\n",
      "build_count_brick\n",
      "4991\n",
      "build_count_monolith\n",
      "4991\n",
      "build_count_panel\n",
      "4991\n",
      "build_count_foam\n",
      "4991\n",
      "build_count_slag\n",
      "4991\n",
      "build_count_mix\n",
      "4991\n",
      "raion_build_count_with_builddate_info\n",
      "4991\n",
      "build_count_before_1920\n",
      "4991\n",
      "build_count_1921-1945\n",
      "4991\n",
      "build_count_1946-1970\n",
      "4991\n",
      "build_count_1971-1995\n",
      "4991\n",
      "build_count_after_1995\n",
      "4991\n",
      "metro_min_walk\n",
      "25\n",
      "metro_km_walk\n",
      "25\n",
      "railroad_station_walk_km\n",
      "25\n",
      "railroad_station_walk_min\n",
      "25\n",
      "ID_railroad_station_walk\n",
      "25\n",
      "cafe_sum_500_min_price_avg\n",
      "13281\n",
      "cafe_sum_500_max_price_avg\n",
      "13281\n",
      "cafe_avg_price_500\n",
      "13281\n",
      "cafe_sum_1000_min_price_avg\n",
      "6524\n",
      "cafe_sum_1000_max_price_avg\n",
      "6524\n",
      "cafe_avg_price_1000\n",
      "6524\n",
      "cafe_sum_1500_min_price_avg\n",
      "4199\n",
      "cafe_sum_1500_max_price_avg\n",
      "4199\n",
      "cafe_avg_price_1500\n",
      "4199\n",
      "cafe_sum_2000_min_price_avg\n",
      "1725\n",
      "cafe_sum_2000_max_price_avg\n",
      "1725\n",
      "cafe_avg_price_2000\n",
      "1725\n",
      "cafe_sum_3000_min_price_avg\n",
      "991\n",
      "cafe_sum_3000_max_price_avg\n",
      "991\n",
      "cafe_avg_price_3000\n",
      "991\n",
      "prom_part_5000\n",
      "178\n",
      "cafe_sum_5000_min_price_avg\n",
      "297\n",
      "cafe_sum_5000_max_price_avg\n",
      "297\n",
      "cafe_avg_price_5000\n",
      "297\n"
     ]
    }
   ],
   "source": [
    "for f in train.columns:\n",
    "    if train[f].isnull().sum()>0:\n",
    "        print(f)\n",
    "        print(train[f].isnull().sum())"
   ]
  },
  {
   "cell_type": "code",
   "execution_count": 22,
   "metadata": {
    "collapsed": false
   },
   "outputs": [],
   "source": [
    "train['state'].fillna(train['state'].median(),inplace=True)"
   ]
  },
  {
   "cell_type": "code",
   "execution_count": 23,
   "metadata": {
    "collapsed": true
   },
   "outputs": [],
   "source": [
    "train['build_year'].fillna(train['build_year'].median(),inplace=True)"
   ]
  },
  {
   "cell_type": "code",
   "execution_count": 24,
   "metadata": {
    "collapsed": false
   },
   "outputs": [
    {
     "data": {
      "text/plain": [
       "array([ nan,   1.,   2.,   4.,   6.,   5.,   3.])"
      ]
     },
     "execution_count": 24,
     "metadata": {},
     "output_type": "execute_result"
    }
   ],
   "source": [
    "train['material'].unique()"
   ]
  },
  {
   "cell_type": "code",
   "execution_count": 25,
   "metadata": {
    "collapsed": false
   },
   "outputs": [
    {
     "data": {
      "text/plain": [
       "array([ nan,   2.,   1.,   3.,   4.,   5.,   6.,  19.,  10.,   8.,   7.,\n",
       "        17.,   9.])"
      ]
     },
     "execution_count": 25,
     "metadata": {},
     "output_type": "execute_result"
    }
   ],
   "source": [
    "train['num_room'].unique()"
   ]
  },
  {
   "cell_type": "code",
   "execution_count": 26,
   "metadata": {
    "collapsed": true
   },
   "outputs": [],
   "source": [
    "bad_index = [10076, 11621, 17764, 19390, 24007, 26713, 29172]\n",
    "train.ix[bad_index, \"num_room\"] = np.NaN"
   ]
  },
  {
   "cell_type": "code",
   "execution_count": 27,
   "metadata": {
    "collapsed": true
   },
   "outputs": [],
   "source": [
    "bad_index = [3174, 7313]\n",
    "test.ix[bad_index, \"num_room\"] = np.NaN"
   ]
  },
  {
   "cell_type": "code",
   "execution_count": 28,
   "metadata": {
    "collapsed": true
   },
   "outputs": [],
   "source": [
    "train['num_room'].fillna(train['num_room'].median(),inplace=True)"
   ]
  },
  {
   "cell_type": "code",
   "execution_count": 29,
   "metadata": {
    "collapsed": true
   },
   "outputs": [],
   "source": [
    "test['state'].fillna(train['state'].median(),inplace=True)\n",
    "test['build_year'].fillna(train['build_year'].median(),inplace=True)\n",
    "test['num_room'].fillna(train['num_room'].median(),inplace=True)"
   ]
  },
  {
   "cell_type": "code",
   "execution_count": 30,
   "metadata": {
    "collapsed": false
   },
   "outputs": [
    {
     "name": "stdout",
     "output_type": "stream",
     "text": [
      "max_floor\n",
      "9572\n",
      "material\n",
      "9572\n",
      "kitch_sq\n",
      "9572\n",
      "hospital_beds_raion\n",
      "14441\n",
      "cafe_sum_500_min_price_avg\n",
      "13281\n",
      "cafe_sum_500_max_price_avg\n",
      "13281\n",
      "cafe_avg_price_500\n",
      "13281\n"
     ]
    }
   ],
   "source": [
    "for f in train.columns:\n",
    "    if train[f].isnull().sum()>9000:\n",
    "        print(f)\n",
    "        print(train[f].isnull().sum())\n",
    "        train.drop(f,axis=1,inplace=True)\n",
    "        test.drop(f,axis=1,inplace=True)"
   ]
  },
  {
   "cell_type": "code",
   "execution_count": 31,
   "metadata": {
    "collapsed": false
   },
   "outputs": [
    {
     "name": "stdout",
     "output_type": "stream",
     "text": [
      "floor\n",
      "167\n",
      "preschool_quota\n",
      "6688\n",
      "school_quota\n",
      "6685\n",
      "raion_build_count_with_material_info\n",
      "4991\n",
      "build_count_block\n",
      "4991\n",
      "build_count_wood\n",
      "4991\n",
      "build_count_frame\n",
      "4991\n",
      "build_count_brick\n",
      "4991\n",
      "build_count_monolith\n",
      "4991\n",
      "build_count_panel\n",
      "4991\n",
      "build_count_foam\n",
      "4991\n",
      "build_count_slag\n",
      "4991\n",
      "build_count_mix\n",
      "4991\n",
      "raion_build_count_with_builddate_info\n",
      "4991\n",
      "build_count_before_1920\n",
      "4991\n",
      "build_count_1921-1945\n",
      "4991\n",
      "build_count_1946-1970\n",
      "4991\n",
      "build_count_1971-1995\n",
      "4991\n",
      "build_count_after_1995\n",
      "4991\n",
      "metro_min_walk\n",
      "25\n",
      "metro_km_walk\n",
      "25\n",
      "railroad_station_walk_km\n",
      "25\n",
      "railroad_station_walk_min\n",
      "25\n",
      "ID_railroad_station_walk\n",
      "25\n",
      "cafe_sum_1000_min_price_avg\n",
      "6524\n",
      "cafe_sum_1000_max_price_avg\n",
      "6524\n",
      "cafe_avg_price_1000\n",
      "6524\n",
      "cafe_sum_1500_min_price_avg\n",
      "4199\n",
      "cafe_sum_1500_max_price_avg\n",
      "4199\n",
      "cafe_avg_price_1500\n",
      "4199\n",
      "cafe_sum_2000_min_price_avg\n",
      "1725\n",
      "cafe_sum_2000_max_price_avg\n",
      "1725\n",
      "cafe_avg_price_2000\n",
      "1725\n",
      "cafe_sum_3000_min_price_avg\n",
      "991\n",
      "cafe_sum_3000_max_price_avg\n",
      "991\n",
      "cafe_avg_price_3000\n",
      "991\n",
      "prom_part_5000\n",
      "178\n",
      "cafe_sum_5000_min_price_avg\n",
      "297\n",
      "cafe_sum_5000_max_price_avg\n",
      "297\n",
      "cafe_avg_price_5000\n",
      "297\n"
     ]
    }
   ],
   "source": [
    "for f in train.columns:\n",
    "    if train[f].isnull().sum()>0:\n",
    "        print(f)\n",
    "        print(train[f].isnull().sum())\n",
    "        train[f].fillna(train[f].median(),inplace=True)\n",
    "        test[f].fillna(train[f].median(),inplace=True)"
   ]
  },
  {
   "cell_type": "code",
   "execution_count": 32,
   "metadata": {
    "collapsed": false
   },
   "outputs": [
    {
     "data": {
      "text/plain": [
       "(30471, 285)"
      ]
     },
     "execution_count": 32,
     "metadata": {},
     "output_type": "execute_result"
    }
   ],
   "source": [
    "train.shape"
   ]
  },
  {
   "cell_type": "code",
   "execution_count": 33,
   "metadata": {
    "collapsed": false
   },
   "outputs": [
    {
     "data": {
      "text/plain": [
       "(7662, 284)"
      ]
     },
     "execution_count": 33,
     "metadata": {},
     "output_type": "execute_result"
    }
   ],
   "source": [
    "test.shape"
   ]
  },
  {
   "cell_type": "code",
   "execution_count": 34,
   "metadata": {
    "collapsed": false
   },
   "outputs": [
    {
     "data": {
      "text/plain": [
       "array(['good', 'excellent', 'poor', 'satisfactory', 'no data'], dtype=object)"
      ]
     },
     "execution_count": 34,
     "metadata": {},
     "output_type": "execute_result"
    }
   ],
   "source": [
    "train['ecology'].unique()"
   ]
  },
  {
   "cell_type": "code",
   "execution_count": 35,
   "metadata": {
    "collapsed": true
   },
   "outputs": [],
   "source": [
    "train['ecology'][train['ecology']=='poor']=0\n",
    "\n",
    "test['ecology'][test['ecology']=='poor']=0\n",
    "train['ecology'][train['ecology']=='satisfactory']=1\n",
    "test['ecology'][test['ecology']=='satisfactory']=1\n",
    "train['ecology'][train['ecology']=='good']=3\n",
    "test['ecology'][test['ecology']=='good']=3\n",
    "train['ecology'][train['ecology']=='excellent']=4\n",
    "test['ecology'][test['ecology']=='excellent']=4\n",
    "train['ecology'][train['ecology']=='no data']=2\n",
    "test['ecology'][test['ecology']=='no data']=2"
   ]
  },
  {
   "cell_type": "code",
   "execution_count": 36,
   "metadata": {
    "collapsed": true
   },
   "outputs": [],
   "source": [
    "train['ecology']=train['ecology'].astype('int64')\n",
    "test['ecology']=test['ecology'].astype('int64')"
   ]
  },
  {
   "cell_type": "code",
   "execution_count": 37,
   "metadata": {
    "collapsed": false
   },
   "outputs": [
    {
     "name": "stdout",
     "output_type": "stream",
     "text": [
      "product_type\n",
      "culture_objects_top_25\n",
      "thermal_power_plant_raion\n",
      "incineration_raion\n",
      "oil_chemistry_raion\n",
      "radiation_raion\n",
      "railroad_terminal_raion\n",
      "big_market_raion\n",
      "nuclear_reactor_raion\n",
      "detention_facility_raion\n",
      "water_1line\n",
      "big_road1_1line\n",
      "railroad_1line\n"
     ]
    }
   ],
   "source": [
    "for f in train.columns:\n",
    "    if (train[f].dtype=='object') & ('ecology' not in f) & ('sub_area' not in f):\n",
    "        print(f)\n",
    "        lbl = preprocessing.LabelEncoder()\n",
    "        lbl.fit(list(train[f].values.astype('str')) + list(test[f].values.astype('str')))\n",
    "        train[f] = lbl.transform(list(train[f].values.astype('str')))\n",
    "        test[f] = lbl.transform(list(test[f].values.astype('str')))"
   ]
  },
  {
   "cell_type": "code",
   "execution_count": 38,
   "metadata": {
    "collapsed": false
   },
   "outputs": [
    {
     "data": {
      "text/plain": [
       "0                         Bibirevo\n",
       "1                Nagatinskij Zaton\n",
       "2                   Tekstil'shhiki\n",
       "3                           Mitino\n",
       "4                        Basmannoe\n",
       "5                   Nizhegorodskoe\n",
       "6                       Sokol'niki\n",
       "7                         Bibirevo\n",
       "8                          Koptevo\n",
       "9                          Kuncevo\n",
       "10                Kosino-Uhtomskoe\n",
       "11               Zapadnoe Degunino\n",
       "12                         Kuncevo\n",
       "13                     Presnenskoe\n",
       "14                       Lefortovo\n",
       "15                         Mar'ino\n",
       "16                       Kuz'minki\n",
       "17                        Nagornoe\n",
       "18                Kosino-Uhtomskoe\n",
       "19                      Gol'janovo\n",
       "20                         Vnukovo\n",
       "21                 Juzhnoe Tushino\n",
       "22                Severnoe Tushino\n",
       "23          Chertanovo Central'noe\n",
       "24                 Juzhnoe Tushino\n",
       "25                  Fili Davydkovo\n",
       "26                        Otradnoe\n",
       "27                Novo-Peredelkino\n",
       "28                     Bogorodskoe\n",
       "29                    Jaroslavskoe\n",
       "                   ...            \n",
       "30441                     Tverskoe\n",
       "30442      Poselenie Voskresenskoe\n",
       "30443                     Solncevo\n",
       "30444                       Mitino\n",
       "30445               Filevskij Park\n",
       "30446          Poselenie Sosenskoe\n",
       "30447                     Solncevo\n",
       "30448         Poselenie Moskovskij\n",
       "30449               Filevskij Park\n",
       "30450                     Otradnoe\n",
       "30451    Poselenie Novofedorovskoe\n",
       "30452         Ochakovo-Matveevskoe\n",
       "30453               Juzhnoe Butovo\n",
       "30454                  Bogorodskoe\n",
       "30455         Poselenie Vnukovskoe\n",
       "30456                       Mitino\n",
       "30457                 Jaroslavskoe\n",
       "30458         Poselenie Moskovskij\n",
       "30459                     Solncevo\n",
       "30460                     Jasenevo\n",
       "30461                 Obruchevskoe\n",
       "30462               Filevskij Park\n",
       "30463             Severnoe Tushino\n",
       "30464                     Sviblovo\n",
       "30465                     Tverskoe\n",
       "30466                     Otradnoe\n",
       "30467                     Tverskoe\n",
       "30468         Poselenie Vnukovskoe\n",
       "30469                 Obruchevskoe\n",
       "30470                  Novogireevo\n",
       "Name: sub_area, dtype: object"
      ]
     },
     "execution_count": 38,
     "metadata": {},
     "output_type": "execute_result"
    }
   ],
   "source": [
    "train['sub_area']"
   ]
  },
  {
   "cell_type": "code",
   "execution_count": 39,
   "metadata": {
    "collapsed": false
   },
   "outputs": [
    {
     "data": {
      "text/plain": [
       "(146,)"
      ]
     },
     "execution_count": 39,
     "metadata": {},
     "output_type": "execute_result"
    }
   ],
   "source": [
    "train['sub_area'].unique().shape"
   ]
  },
  {
   "cell_type": "code",
   "execution_count": 40,
   "metadata": {
    "collapsed": false
   },
   "outputs": [
    {
     "data": {
      "text/plain": [
       "(30471, 285)"
      ]
     },
     "execution_count": 40,
     "metadata": {},
     "output_type": "execute_result"
    }
   ],
   "source": [
    "train.shape"
   ]
  },
  {
   "cell_type": "code",
   "execution_count": 41,
   "metadata": {
    "collapsed": true
   },
   "outputs": [],
   "source": [
    "temp = pd.get_dummies(train)"
   ]
  },
  {
   "cell_type": "code",
   "execution_count": 45,
   "metadata": {
    "collapsed": false
   },
   "outputs": [],
   "source": [
    "test = pd.get_dummies(test)"
   ]
  },
  {
   "cell_type": "code",
   "execution_count": 46,
   "metadata": {
    "collapsed": false
   },
   "outputs": [
    {
     "data": {
      "text/plain": [
       "(7662, 428)"
      ]
     },
     "execution_count": 46,
     "metadata": {},
     "output_type": "execute_result"
    }
   ],
   "source": [
    "test.shape"
   ]
  },
  {
   "cell_type": "code",
   "execution_count": 47,
   "metadata": {
    "collapsed": false
   },
   "outputs": [
    {
     "data": {
      "text/plain": [
       "(30471, 430)"
      ]
     },
     "execution_count": 47,
     "metadata": {},
     "output_type": "execute_result"
    }
   ],
   "source": [
    "temp.shape"
   ]
  },
  {
   "cell_type": "code",
   "execution_count": 48,
   "metadata": {
    "collapsed": false
   },
   "outputs": [
    {
     "name": "stdout",
     "output_type": "stream",
     "text": [
      "price_doc\n",
      "sub_area_Poselenie Klenovskoe\n"
     ]
    }
   ],
   "source": [
    "for f in temp.columns:\n",
    "    if f not in test.columns:\n",
    "        print(f)\n",
    "    "
   ]
  },
  {
   "cell_type": "code",
   "execution_count": 49,
   "metadata": {
    "collapsed": true
   },
   "outputs": [],
   "source": [
    "temp.drop('sub_area_Poselenie Klenovskoe',axis=1, inplace=True)"
   ]
  },
  {
   "cell_type": "code",
   "execution_count": 50,
   "metadata": {
    "collapsed": true
   },
   "outputs": [],
   "source": [
    "train = temp"
   ]
  },
  {
   "cell_type": "code",
   "execution_count": 51,
   "metadata": {
    "collapsed": false
   },
   "outputs": [
    {
     "data": {
      "text/plain": [
       "(30471, 429)"
      ]
     },
     "execution_count": 51,
     "metadata": {},
     "output_type": "execute_result"
    }
   ],
   "source": [
    "train.shape"
   ]
  },
  {
   "cell_type": "code",
   "execution_count": 53,
   "metadata": {
    "collapsed": false
   },
   "outputs": [
    {
     "data": {
      "text/plain": [
       "(7662, 428)"
      ]
     },
     "execution_count": 53,
     "metadata": {},
     "output_type": "execute_result"
    }
   ],
   "source": [
    "test.shape"
   ]
  },
  {
   "cell_type": "code",
   "execution_count": 55,
   "metadata": {
    "collapsed": false
   },
   "outputs": [],
   "source": [
    "for f in train.columns:\n",
    "    if '_all' in f:\n",
    "        train.drop(f,axis=1,inplace=True)\n",
    "        test.drop(f,axis=1,inplace=True)"
   ]
  },
  {
   "cell_type": "code",
   "execution_count": 56,
   "metadata": {
    "collapsed": false
   },
   "outputs": [
    {
     "data": {
      "text/plain": [
       "(30471, 420)"
      ]
     },
     "execution_count": 56,
     "metadata": {},
     "output_type": "execute_result"
    }
   ],
   "source": [
    "train.shape"
   ]
  },
  {
   "cell_type": "code",
   "execution_count": 57,
   "metadata": {
    "collapsed": false
   },
   "outputs": [
    {
     "data": {
      "text/plain": [
       "(7662, 419)"
      ]
     },
     "execution_count": 57,
     "metadata": {},
     "output_type": "execute_result"
    }
   ],
   "source": [
    "test.shape"
   ]
  },
  {
   "cell_type": "code",
   "execution_count": 58,
   "metadata": {
    "collapsed": true
   },
   "outputs": [],
   "source": [
    "train[\"yearmonth\"] = train[\"timestamp\"].dt.year*100 + train[\"timestamp\"].dt.month\n",
    "test[\"yearmonth\"] = test[\"timestamp\"].dt.year*100 + test[\"timestamp\"].dt.month"
   ]
  },
  {
   "cell_type": "code",
   "execution_count": 59,
   "metadata": {
    "collapsed": true
   },
   "outputs": [],
   "source": [
    "train[\"year\"] = train[\"timestamp\"].dt.year\n",
    "test[\"year\"] = test[\"timestamp\"].dt.year\n"
   ]
  },
  {
   "cell_type": "code",
   "execution_count": 60,
   "metadata": {
    "collapsed": true
   },
   "outputs": [],
   "source": [
    "train[\"yearweek\"] = train[\"timestamp\"].dt.year*100 + train[\"timestamp\"].dt.weekofyear\n",
    "test[\"yearweek\"] = test[\"timestamp\"].dt.year*100 + test[\"timestamp\"].dt.weekofyear"
   ]
  },
  {
   "cell_type": "code",
   "execution_count": 61,
   "metadata": {
    "collapsed": true
   },
   "outputs": [],
   "source": [
    "train[\"ratio_life_sq_full_sq\"] = train[\"life_sq\"] / train[\"full_sq\"]\n",
    "test[\"ratio_life_sq_full_sq\"] = test[\"life_sq\"] / train[\"full_sq\"]"
   ]
  },
  {
   "cell_type": "code",
   "execution_count": 63,
   "metadata": {
    "collapsed": false
   },
   "outputs": [],
   "source": [
    "train[\"age_of_building\"] = train[\"build_year\"] - train[\"year\"]\n",
    "test[\"age_of_building\"] = test[\"build_year\"] - test[\"year\"]"
   ]
  },
  {
   "cell_type": "code",
   "execution_count": 64,
   "metadata": {
    "collapsed": true
   },
   "outputs": [],
   "source": [
    "train.drop('year',axis=1,inplace = True)\n",
    "test.drop('year',axis=1,inplace = True)"
   ]
  },
  {
   "cell_type": "code",
   "execution_count": 66,
   "metadata": {
    "collapsed": false
   },
   "outputs": [],
   "source": [
    "train[\"ratio_preschool\"] = train[\"children_preschool\"] / train[\"preschool_quota\"]\n",
    "test[\"ratio_preschool\"] = test[\"children_preschool\"] / test[\"preschool_quota\"]\n"
   ]
  },
  {
   "cell_type": "code",
   "execution_count": 67,
   "metadata": {
    "collapsed": false
   },
   "outputs": [
    {
     "data": {
      "text/plain": [
       "0        1.914817\n",
       "1        2.205835\n",
       "2        4.018455\n",
       "3        1.913584\n",
       "4        1.761111\n",
       "5        2.838028\n",
       "6        2.635584\n",
       "7        1.914817\n",
       "8        1.988692\n",
       "9        2.307901\n",
       "10       1.966476\n",
       "11       3.671989\n",
       "12       2.307901\n",
       "13       2.199074\n",
       "14       2.824095\n",
       "15       1.889238\n",
       "16       1.705080\n",
       "17       2.068012\n",
       "18       1.966476\n",
       "19       1.537592\n",
       "20       1.349321\n",
       "21       2.212412\n",
       "22       2.475705\n",
       "23       2.790259\n",
       "24       2.212412\n",
       "25       2.079486\n",
       "26       1.916863\n",
       "27       1.495411\n",
       "28       2.286128\n",
       "29       2.014459\n",
       "           ...   \n",
       "30441    2.260939\n",
       "30442    0.171338\n",
       "30443    2.109790\n",
       "30444    1.913584\n",
       "30445    2.564389\n",
       "30446    0.229853\n",
       "30447    2.109790\n",
       "30448    0.524527\n",
       "30449    2.564389\n",
       "30450    1.916863\n",
       "30451    0.136650\n",
       "30452    4.073224\n",
       "30453    1.180614\n",
       "30454    2.286128\n",
       "30455    0.096356\n",
       "30456    1.913584\n",
       "30457    2.014459\n",
       "30458    0.524527\n",
       "30459    2.109790\n",
       "30460    2.567593\n",
       "30461    1.776981\n",
       "30462    2.564389\n",
       "30463    2.475705\n",
       "30464    1.795819\n",
       "30465    2.260939\n",
       "30466    1.916863\n",
       "30467    2.260939\n",
       "30468    0.096356\n",
       "30469    1.776981\n",
       "30470    2.762980\n",
       "Name: ratio_preschool, dtype: float64"
      ]
     },
     "execution_count": 67,
     "metadata": {},
     "output_type": "execute_result"
    }
   ],
   "source": [
    "train['ratio_preschool']"
   ]
  },
  {
   "cell_type": "code",
   "execution_count": 68,
   "metadata": {
    "collapsed": true
   },
   "outputs": [],
   "source": [
    "train[\"ratio_school\"] = train[\"children_school\"] / train[\"school_quota\"]\n",
    "test[\"ratio_school\"] = test[\"children_school\"] / test[\"school_quota\"]"
   ]
  },
  {
   "cell_type": "code",
   "execution_count": 69,
   "metadata": {
    "collapsed": true
   },
   "outputs": [],
   "source": [
    "train_X = train.drop([\"id\", \"timestamp\", \"price_doc\"], axis=1)\n",
    "test_X = test.drop([\"id\", \"timestamp\"] , axis=1)"
   ]
  },
  {
   "cell_type": "code",
   "execution_count": 71,
   "metadata": {
    "collapsed": false
   },
   "outputs": [],
   "source": [
    "train_y = np.log1p(train['price_doc']+1)\n"
   ]
  },
  {
   "cell_type": "code",
   "execution_count": 73,
   "metadata": {
    "collapsed": true
   },
   "outputs": [],
   "source": [
    "train_X.to_csv(\"Desktop/Kaggle/train_clean_X.csv\", index= False)\n",
    "test_X.to_csv(\"Desktop/Kaggle/test_clean_X.csv\", index = False)\n",
    "train_y.to_csv(\"Desktop/Kaggle/train_clean_y.csv\", index= False)\n"
   ]
  },
  {
   "cell_type": "code",
   "execution_count": null,
   "metadata": {
    "collapsed": true
   },
   "outputs": [],
   "source": []
  }
 ],
 "metadata": {
  "anaconda-cloud": {},
  "kernelspec": {
   "display_name": "Python [conda root]",
   "language": "python",
   "name": "conda-root-py"
  },
  "language_info": {
   "codemirror_mode": {
    "name": "ipython",
    "version": 3
   },
   "file_extension": ".py",
   "mimetype": "text/x-python",
   "name": "python",
   "nbconvert_exporter": "python",
   "pygments_lexer": "ipython3",
   "version": "3.5.2"
  }
 },
 "nbformat": 4,
 "nbformat_minor": 1
}
