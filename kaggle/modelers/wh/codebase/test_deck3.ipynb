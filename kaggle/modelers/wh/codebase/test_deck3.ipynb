{
 "cells": [
  {
   "cell_type": "code",
   "execution_count": 3,
   "metadata": {
    "collapsed": false
   },
   "outputs": [],
   "source": [
    "import utils.conf as conf\n",
    "import preprocessing.data_cleaner as cleaner\n",
    "import preprocessing.feature_extractor as extractor\n",
    "import pandas as pd\n",
    "\n",
    "import numpy as np\n",
    "import scipy as sp\n",
    "%load_ext autoreload\n",
    "%autoreload 2"
   ]
  },
  {
   "cell_type": "code",
   "execution_count": 75,
   "metadata": {
    "collapsed": true
   },
   "outputs": [],
   "source": [
    "train, _ = cleaner.clean()"
   ]
  },
  {
   "cell_type": "code",
   "execution_count": 76,
   "metadata": {
    "collapsed": false
   },
   "outputs": [],
   "source": [
    "X, y = extractor.aggregate_features(train)"
   ]
  },
  {
   "cell_type": "code",
   "execution_count": 77,
   "metadata": {
    "collapsed": false
   },
   "outputs": [],
   "source": [
    "from sklearn.model_selection import train_test_split\n",
    "\n",
    "idx_train, idx_test = train_test_split(range(train['VisitNumber'].unique().shape[0]), test_size=0.33, random_state=32)\n",
    "y_train = y[idx_train]\n",
    "y_test = y[idx_test]\n",
    "X_train = X[idx_train]\n",
    "X_test = X[idx_test]"
   ]
  },
  {
   "cell_type": "code",
   "execution_count": 78,
   "metadata": {
    "collapsed": false
   },
   "outputs": [
    {
     "name": "stdout",
     "output_type": "stream",
     "text": [
      "0.839556834786\n"
     ]
    }
   ],
   "source": [
    "import models.models as models\n",
    "depth = 10\n",
    "eta = 0.2\n",
    "xgb_clf = models.XGBoostMutliClass(nthread=8, eta=eta, max_depth=depth, num_round=50, silent=0)\n",
    "xgb_clf.fit(X_train, y_train)\n",
    "yprob, preds = xgb_clf.predict_proba(X_test)\n",
    "from sklearn.metrics import log_loss\n",
    "logloss_score = log_loss(y_test, yprob)\n",
    "print(logloss_score)"
   ]
  },
  {
   "cell_type": "code",
   "execution_count": 79,
   "metadata": {
    "collapsed": false
   },
   "outputs": [
    {
     "data": {
      "text/plain": [
       "(64101, 39121)"
      ]
     },
     "execution_count": 79,
     "metadata": {},
     "output_type": "execute_result"
    }
   ],
   "source": [
    "X_train.shape"
   ]
  },
  {
   "cell_type": "code",
   "execution_count": null,
   "metadata": {
    "collapsed": true
   },
   "outputs": [],
   "source": []
  }
 ],
 "metadata": {
  "kernelspec": {
   "display_name": "Python 2",
   "language": "python",
   "name": "python2"
  },
  "language_info": {
   "codemirror_mode": {
    "name": "ipython",
    "version": 2
   },
   "file_extension": ".py",
   "mimetype": "text/x-python",
   "name": "python",
   "nbconvert_exporter": "python",
   "pygments_lexer": "ipython2",
   "version": "2.7.13"
  }
 },
 "nbformat": 4,
 "nbformat_minor": 0
}
