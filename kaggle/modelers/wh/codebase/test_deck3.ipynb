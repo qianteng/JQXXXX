{
 "cells": [
  {
   "cell_type": "code",
   "execution_count": 1,
   "metadata": {
    "collapsed": false
   },
   "outputs": [],
   "source": [
    "import utils.conf as conf\n",
    "import preprocessing.data_cleaner as cleaner\n",
    "import preprocessing.feature_extractor as extractor\n",
    "import pandas as pd\n",
    "\n",
    "import numpy as np\n",
    "import scipy as sp\n",
    "%load_ext autoreload\n",
    "%autoreload 2"
   ]
  },
  {
   "cell_type": "code",
   "execution_count": 2,
   "metadata": {
    "collapsed": true
   },
   "outputs": [],
   "source": [
    "train = pd.read_csv(conf.train_data_path, sep=',')"
   ]
  },
  {
   "cell_type": "code",
   "execution_count": 8,
   "metadata": {
    "collapsed": false
   },
   "outputs": [
    {
     "data": {
      "text/plain": [
       "5195"
      ]
     },
     "execution_count": 8,
     "metadata": {},
     "output_type": "execute_result"
    }
   ],
   "source": [
    "train['FinelineNumber'].nunique()"
   ]
  },
  {
   "cell_type": "code",
   "execution_count": 245,
   "metadata": {
    "collapsed": false
   },
   "outputs": [],
   "source": [
    "train, test = cleaner.clean()\n"
   ]
  },
  {
   "cell_type": "code",
   "execution_count": 35,
   "metadata": {
    "collapsed": false
   },
   "outputs": [
    {
     "data": {
      "text/plain": [
       "array([999,  30,  26,   8,  35,  41,  21,   6,  42,   7,   9,  39,  25,\n",
       "        38,  15,  36,  20,  37,  32,  40,   5,   3,   4,  24,  33,  43,\n",
       "        31,  27,  34,  18,  29,  44,  19,  23,  22,  28,  14,  12])"
      ]
     },
     "execution_count": 35,
     "metadata": {},
     "output_type": "execute_result"
    }
   ],
   "source": [
    "train['TripType'].unique()"
   ]
  },
  {
   "cell_type": "code",
   "execution_count": 33,
   "metadata": {
    "collapsed": true
   },
   "outputs": [
    {
     "data": {
      "text/plain": [
       "HARDWARE                       758\n",
       "PAINT AND ACCESSORIES          369\n",
       "DSD GROCERY                    149\n",
       "IMPULSE MERCHANDISE            136\n",
       "PERSONAL CARE                  122\n",
       "PRODUCE                        103\n",
       "GROCERY DRY GOODS               86\n",
       "PHARMACY OTC                    63\n",
       "DAIRY                           62\n",
       "HOUSEHOLD CHEMICALS/SUPP        50\n",
       "LAWN AND GARDEN                 43\n",
       "AUTOMOTIVE                      39\n",
       "HOME MANAGEMENT                 39\n",
       "CANDY, TOBACCO, COOKIES         38\n",
       "OFFICE SUPPLIES                 33\n",
       "COOK AND DINE                   31\n",
       "BEAUTY                          30\n",
       "FINANCIAL SERVICES              29\n",
       "HOUSEHOLD PAPER GOODS           23\n",
       "PETS AND SUPPLIES               21\n",
       "HOME DECOR                      21\n",
       "FABRICS AND CRAFTS              21\n",
       "FROZEN FOODS                    21\n",
       "BATH AND SHOWER                 20\n",
       "SERVICE DELI                    17\n",
       "COMM BREAD                      16\n",
       "SHOES                           16\n",
       "SPORTING GOODS                  15\n",
       "CELEBRATION                     14\n",
       "INFANT CONSUMABLE HARDLINES     14\n",
       "BAKERY                          12\n",
       "LIQUOR,WINE,BEER                10\n",
       "TOYS                             8\n",
       "PRE PACKED DELI                  8\n",
       "MENS WEAR                        8\n",
       "INFANT APPAREL                   6\n",
       "MEAT - FRESH & FROZEN            6\n",
       "LADIES SOCKS                     5\n",
       "GIRLS WEAR, 4-6X  AND 7-14       5\n",
       "BOYS WEAR                        5\n",
       "HORTICULTURE AND ACCESS          5\n",
       "SLEEPWEAR/FOUNDATIONS            5\n",
       "ELECTRONICS                      4\n",
       "UNKNOWN                          4\n",
       "LADIESWEAR                       3\n",
       "MEDIA AND GAMING                 3\n",
       "BOOKS AND MAGAZINES              3\n",
       "SEAFOOD                          2\n",
       "SWIMWEAR/OUTERWEAR               1\n",
       "BEDDING                          1\n",
       "ACCESSORIES                      1\n",
       "BRAS & SHAPEWEAR                 1\n",
       "JEWELRY AND SUNGLASSES           1\n",
       "OPTICAL - FRAMES                 1\n",
       "Name: DepartmentDescription, dtype: int64"
      ]
     },
     "execution_count": 33,
     "metadata": {},
     "output_type": "execute_result"
    }
   ],
   "source": [
    "train[train['TripType'] == 26]['DepartmentDescription'].value_counts()"
   ]
  },
  {
   "cell_type": "code",
   "execution_count": 36,
   "metadata": {
    "collapsed": true
   },
   "outputs": [
    {
     "data": {
      "text/plain": [
       "SHOES                          1140\n",
       "JEWELRY AND SUNGLASSES          544\n",
       "IMPULSE MERCHANDISE             365\n",
       "MENS WEAR                       320\n",
       "DSD GROCERY                     314\n",
       "PERSONAL CARE                   221\n",
       "ACCESSORIES                     176\n",
       "GROCERY DRY GOODS               136\n",
       "PHARMACY OTC                    130\n",
       "PRODUCE                         123\n",
       "DAIRY                            94\n",
       "LADIESWEAR                       80\n",
       "BEAUTY                           72\n",
       "GIRLS WEAR, 4-6X  AND 7-14       72\n",
       "HOUSEHOLD CHEMICALS/SUPP         68\n",
       "BOYS WEAR                        66\n",
       "OFFICE SUPPLIES                  63\n",
       "FINANCIAL SERVICES               56\n",
       "CANDY, TOBACCO, COOKIES          54\n",
       "CELEBRATION                      47\n",
       "HOUSEHOLD PAPER GOODS            41\n",
       "FROZEN FOODS                     40\n",
       "SERVICE DELI                     35\n",
       "INFANT APPAREL                   34\n",
       "SHEER HOSIERY                    34\n",
       "INFANT CONSUMABLE HARDLINES      33\n",
       "COMM BREAD                       32\n",
       "LADIES SOCKS                     32\n",
       "SPORTING GOODS                   32\n",
       "FABRICS AND CRAFTS               30\n",
       "PETS AND SUPPLIES                29\n",
       "BATH AND SHOWER                  27\n",
       "HOME DECOR                       26\n",
       "AUTOMOTIVE                       25\n",
       "HOME MANAGEMENT                  24\n",
       "BAKERY                           23\n",
       "COOK AND DINE                    22\n",
       "BRAS & SHAPEWEAR                 18\n",
       "TOYS                             17\n",
       "SLEEPWEAR/FOUNDATIONS            16\n",
       "HARDWARE                         15\n",
       "MEDIA AND GAMING                 15\n",
       "UNKNOWN                          15\n",
       "LAWN AND GARDEN                  13\n",
       "LIQUOR,WINE,BEER                 13\n",
       "ELECTRONICS                      11\n",
       "PRE PACKED DELI                  10\n",
       "HORTICULTURE AND ACCESS          10\n",
       "BEDDING                           8\n",
       "MEAT - FRESH & FROZEN             8\n",
       "PLAYERS AND ELECTRONICS           8\n",
       "PLUS AND MATERNITY                7\n",
       "WIRELESS                          6\n",
       "SWIMWEAR/OUTERWEAR                5\n",
       "SEAFOOD                           3\n",
       "BOOKS AND MAGAZINES               3\n",
       "Name: DepartmentDescription, dtype: int64"
      ]
     },
     "execution_count": 36,
     "metadata": {},
     "output_type": "execute_result"
    }
   ],
   "source": [
    "train[train['TripType'] == 30]['DepartmentDescription'].value_counts()"
   ]
  },
  {
   "cell_type": "code",
   "execution_count": 37,
   "metadata": {
    "collapsed": true
   },
   "outputs": [
    {
     "data": {
      "text/plain": [
       "DSD GROCERY                    4747\n",
       "PERSONAL CARE                  2650\n",
       "IMPULSE MERCHANDISE            2488\n",
       "PRODUCE                        1974\n",
       "DAIRY                          1813\n",
       "GROCERY DRY GOODS              1532\n",
       "BEAUTY                         1112\n",
       "HOUSEHOLD CHEMICALS/SUPP        974\n",
       "HOUSEHOLD PAPER GOODS           705\n",
       "PHARMACY OTC                    648\n",
       "CANDY, TOBACCO, COOKIES         579\n",
       "PETS AND SUPPLIES               552\n",
       "COMM BREAD                      476\n",
       "BAKERY                          472\n",
       "FROZEN FOODS                    433\n",
       "INFANT CONSUMABLE HARDLINES     361\n",
       "SERVICE DELI                    218\n",
       "CELEBRATION                     101\n",
       "OFFICE SUPPLIES                  84\n",
       "UNKNOWN                          68\n",
       "PRE PACKED DELI                  61\n",
       "HOME MANAGEMENT                  59\n",
       "AUTOMOTIVE                       56\n",
       "HARDWARE                         54\n",
       "SHOES                            50\n",
       "LIQUOR,WINE,BEER                 49\n",
       "COOK AND DINE                    47\n",
       "FABRICS AND CRAFTS               38\n",
       "BATH AND SHOWER                  36\n",
       "LADIESWEAR                       34\n",
       "MENS WEAR                        34\n",
       "SPORTING GOODS                   31\n",
       "TOYS                             28\n",
       "JEWELRY AND SUNGLASSES           26\n",
       "PAINT AND ACCESSORIES            24\n",
       "MEAT - FRESH & FROZEN            24\n",
       "LAWN AND GARDEN                  24\n",
       "HOME DECOR                       22\n",
       "BOOKS AND MAGAZINES              17\n",
       "BOYS WEAR                        16\n",
       "INFANT APPAREL                   16\n",
       "GIRLS WEAR, 4-6X  AND 7-14       16\n",
       "ELECTRONICS                      11\n",
       "HORTICULTURE AND ACCESS          10\n",
       "PHARMACY RX                      10\n",
       "SWIMWEAR/OUTERWEAR                9\n",
       "SLEEPWEAR/FOUNDATIONS             9\n",
       "WIRELESS                          8\n",
       "BEDDING                           6\n",
       "ACCESSORIES                       6\n",
       "BRAS & SHAPEWEAR                  6\n",
       "MEDIA AND GAMING                  5\n",
       "LADIES SOCKS                      4\n",
       "OPTICAL - FRAMES                  3\n",
       "SHEER HOSIERY                     3\n",
       "SEAFOOD                           2\n",
       "PLUS AND MATERNITY                2\n",
       "PLAYERS AND ELECTRONICS           1\n",
       "Name: DepartmentDescription, dtype: int64"
      ]
     },
     "execution_count": 37,
     "metadata": {},
     "output_type": "execute_result"
    }
   ],
   "source": [
    "train[train['TripType'] == 8]['DepartmentDescription'].value_counts()"
   ]
  },
  {
   "cell_type": "code",
   "execution_count": 38,
   "metadata": {
    "collapsed": true
   },
   "outputs": [
    {
     "data": {
      "text/plain": [
       "DSD GROCERY                    6135\n",
       "IMPULSE MERCHANDISE            1757\n",
       "PRODUCE                         706\n",
       "GROCERY DRY GOODS               682\n",
       "CANDY, TOBACCO, COOKIES         437\n",
       "DAIRY                           406\n",
       "COMM BREAD                      265\n",
       "HOUSEHOLD CHEMICALS/SUPP        214\n",
       "PERSONAL CARE                   207\n",
       "FROZEN FOODS                    196\n",
       "HOUSEHOLD PAPER GOODS           186\n",
       "BAKERY                          186\n",
       "PHARMACY OTC                    141\n",
       "SERVICE DELI                    138\n",
       "PRE PACKED DELI                  77\n",
       "FINANCIAL SERVICES               68\n",
       "OFFICE SUPPLIES                  59\n",
       "INFANT CONSUMABLE HARDLINES      52\n",
       "CELEBRATION                      45\n",
       "BEAUTY                           41\n",
       "MENS WEAR                        40\n",
       "PETS AND SUPPLIES                36\n",
       "COOK AND DINE                    36\n",
       "LIQUOR,WINE,BEER                 31\n",
       "FABRICS AND CRAFTS               27\n",
       "AUTOMOTIVE                       27\n",
       "TOYS                             26\n",
       "MEAT - FRESH & FROZEN            25\n",
       "LADIESWEAR                       25\n",
       "SPORTING GOODS                   22\n",
       "HARDWARE                         21\n",
       "SHOES                            19\n",
       "HOME DECOR                       18\n",
       "GIRLS WEAR, 4-6X  AND 7-14       17\n",
       "BOYS WEAR                        17\n",
       "BATH AND SHOWER                  13\n",
       "HOME MANAGEMENT                  12\n",
       "INFANT APPAREL                   10\n",
       "LAWN AND GARDEN                  10\n",
       "UNKNOWN                           9\n",
       "HORTICULTURE AND ACCESS           9\n",
       "BOOKS AND MAGAZINES               9\n",
       "ELECTRONICS                       7\n",
       "MEDIA AND GAMING                  5\n",
       "PAINT AND ACCESSORIES             5\n",
       "BEDDING                           4\n",
       "LADIES SOCKS                      4\n",
       "PLAYERS AND ELECTRONICS           3\n",
       "BRAS & SHAPEWEAR                  3\n",
       "ACCESSORIES                       3\n",
       "JEWELRY AND SUNGLASSES            3\n",
       "1-HR PHOTO                        3\n",
       "SLEEPWEAR/FOUNDATIONS             2\n",
       "SWIMWEAR/OUTERWEAR                1\n",
       "SEAFOOD                           1\n",
       "Name: DepartmentDescription, dtype: int64"
      ]
     },
     "execution_count": 38,
     "metadata": {},
     "output_type": "execute_result"
    }
   ],
   "source": [
    "train[train['TripType'] == 35]['DepartmentDescription'].value_counts()"
   ]
  },
  {
   "cell_type": "code",
   "execution_count": 39,
   "metadata": {
    "collapsed": true
   },
   "outputs": [
    {
     "data": {
      "text/plain": [
       "SHOES                          340\n",
       "IMPULSE MERCHANDISE            328\n",
       "PERSONAL CARE                  326\n",
       "DSD GROCERY                    300\n",
       "MENS WEAR                      284\n",
       "HARDWARE                       209\n",
       "COOK AND DINE                  199\n",
       "SPORTING GOODS                 188\n",
       "INFANT APPAREL                 152\n",
       "BATH AND SHOWER                147\n",
       "TOYS                           142\n",
       "GROCERY DRY GOODS              140\n",
       "PHARMACY OTC                   139\n",
       "GIRLS WEAR, 4-6X  AND 7-14     134\n",
       "LADIESWEAR                     124\n",
       "HOME DECOR                     123\n",
       "CELEBRATION                    120\n",
       "BEAUTY                         118\n",
       "HOUSEHOLD CHEMICALS/SUPP       118\n",
       "BOYS WEAR                      113\n",
       "HOME MANAGEMENT                112\n",
       "AUTOMOTIVE                     105\n",
       "LAWN AND GARDEN                 99\n",
       "INFANT CONSUMABLE HARDLINES     96\n",
       "OFFICE SUPPLIES                 95\n",
       "JEWELRY AND SUNGLASSES          94\n",
       "ELECTRONICS                     93\n",
       "DAIRY                           82\n",
       "ACCESSORIES                     80\n",
       "PRODUCE                         78\n",
       "                              ... \n",
       "BEDDING                         50\n",
       "FROZEN FOODS                    48\n",
       "FABRICS AND CRAFTS              44\n",
       "SERVICE DELI                    40\n",
       "FINANCIAL SERVICES              39\n",
       "SLEEPWEAR/FOUNDATIONS           38\n",
       "HORTICULTURE AND ACCESS         37\n",
       "BAKERY                          37\n",
       "WIRELESS                        34\n",
       "BRAS & SHAPEWEAR                31\n",
       "COMM BREAD                      28\n",
       "PAINT AND ACCESSORIES           25\n",
       "LIQUOR,WINE,BEER                22\n",
       "FURNITURE                       18\n",
       "UNKNOWN                         17\n",
       "MEDIA AND GAMING                16\n",
       "LADIES SOCKS                    15\n",
       "BOOKS AND MAGAZINES             12\n",
       "PLAYERS AND ELECTRONICS         11\n",
       "MEAT - FRESH & FROZEN           10\n",
       "PRE PACKED DELI                  9\n",
       "PLUS AND MATERNITY               7\n",
       "SHEER HOSIERY                    3\n",
       "CAMERAS AND SUPPLIES             2\n",
       "OPTICAL - FRAMES                 2\n",
       "PHARMACY RX                      1\n",
       "SEAFOOD                          1\n",
       "OTHER DEPARTMENTS                1\n",
       "SEASONAL                         1\n",
       "1-HR PHOTO                       1\n",
       "Name: DepartmentDescription, dtype: int64"
      ]
     },
     "execution_count": 39,
     "metadata": {},
     "output_type": "execute_result"
    }
   ],
   "source": [
    "train[train['TripType'] == 41]['DepartmentDescription'].value_counts()"
   ]
  },
  {
   "cell_type": "code",
   "execution_count": 40,
   "metadata": {
    "collapsed": true
   },
   "outputs": [
    {
     "data": {
      "text/plain": [
       "FABRICS AND CRAFTS             1283\n",
       "OFFICE SUPPLIES                1257\n",
       "IMPULSE MERCHANDISE             247\n",
       "DSD GROCERY                     137\n",
       "CELEBRATION                     129\n",
       "BOOKS AND MAGAZINES              91\n",
       "PERSONAL CARE                    79\n",
       "PHARMACY OTC                     65\n",
       "HOUSEHOLD PAPER GOODS            53\n",
       "TOYS                             47\n",
       "PRODUCE                          44\n",
       "GROCERY DRY GOODS                43\n",
       "DAIRY                            39\n",
       "HOUSEHOLD CHEMICALS/SUPP         35\n",
       "CANDY, TOBACCO, COOKIES          35\n",
       "FROZEN FOODS                     34\n",
       "PAINT AND ACCESSORIES            31\n",
       "HOME DECOR                       29\n",
       "HOME MANAGEMENT                  29\n",
       "LADIESWEAR                       29\n",
       "BEAUTY                           28\n",
       "MENS WEAR                        27\n",
       "SPORTING GOODS                   27\n",
       "FINANCIAL SERVICES               26\n",
       "HARDWARE                         18\n",
       "COMM BREAD                       17\n",
       "SHOES                            13\n",
       "SERVICE DELI                     12\n",
       "COOK AND DINE                    12\n",
       "BAKERY                           11\n",
       "INFANT CONSUMABLE HARDLINES      11\n",
       "BOYS WEAR                         9\n",
       "BEDDING                           7\n",
       "UNKNOWN                           7\n",
       "BATH AND SHOWER                   7\n",
       "JEWELRY AND SUNGLASSES            7\n",
       "ELECTRONICS                       6\n",
       "LAWN AND GARDEN                   5\n",
       "AUTOMOTIVE                        5\n",
       "PETS AND SUPPLIES                 5\n",
       "ACCESSORIES                       5\n",
       "LIQUOR,WINE,BEER                  5\n",
       "SLEEPWEAR/FOUNDATIONS             4\n",
       "INFANT APPAREL                    4\n",
       "MEDIA AND GAMING                  3\n",
       "1-HR PHOTO                        3\n",
       "PRE PACKED DELI                   3\n",
       "WIRELESS                          2\n",
       "LADIES SOCKS                      2\n",
       "BRAS & SHAPEWEAR                  2\n",
       "HORTICULTURE AND ACCESS           1\n",
       "MEAT - FRESH & FROZEN             1\n",
       "GIRLS WEAR, 4-6X  AND 7-14        1\n",
       "Name: DepartmentDescription, dtype: int64"
      ]
     },
     "execution_count": 40,
     "metadata": {},
     "output_type": "execute_result"
    }
   ],
   "source": [
    "train[train['TripType'] == 21]['DepartmentDescription'].value_counts()"
   ]
  },
  {
   "cell_type": "code",
   "execution_count": 227,
   "metadata": {
    "collapsed": false
   },
   "outputs": [],
   "source": [
    "train['expanded_dept'] = train.apply(lambda x : '#'.join([x.DepartmentDescription]*abs(x.ScanCount)), axis=1)"
   ]
  },
  {
   "cell_type": "code",
   "execution_count": 228,
   "metadata": {
    "collapsed": false
   },
   "outputs": [
    {
     "data": {
      "text/html": [
       "<div>\n",
       "<table border=\"1\" class=\"dataframe\">\n",
       "  <thead>\n",
       "    <tr style=\"text-align: right;\">\n",
       "      <th></th>\n",
       "      <th>TripType</th>\n",
       "      <th>VisitNumber</th>\n",
       "      <th>Weekday</th>\n",
       "      <th>Upc</th>\n",
       "      <th>ScanCount</th>\n",
       "      <th>DepartmentDescription</th>\n",
       "      <th>FinelineNumber</th>\n",
       "      <th>neg_count</th>\n",
       "      <th>pos_count</th>\n",
       "      <th>Friday</th>\n",
       "      <th>Monday</th>\n",
       "      <th>Saturday</th>\n",
       "      <th>Sunday</th>\n",
       "      <th>Thursday</th>\n",
       "      <th>Tuesday</th>\n",
       "      <th>Wednesday</th>\n",
       "      <th>expanded_dept</th>\n",
       "    </tr>\n",
       "  </thead>\n",
       "  <tbody>\n",
       "    <tr>\n",
       "      <th>0</th>\n",
       "      <td>999</td>\n",
       "      <td>5</td>\n",
       "      <td>Friday</td>\n",
       "      <td>6.811315e+10</td>\n",
       "      <td>-1</td>\n",
       "      <td>FINANCIAL SERVICES</td>\n",
       "      <td>1000</td>\n",
       "      <td>-1</td>\n",
       "      <td>0</td>\n",
       "      <td>1</td>\n",
       "      <td>0</td>\n",
       "      <td>0</td>\n",
       "      <td>0</td>\n",
       "      <td>0</td>\n",
       "      <td>0</td>\n",
       "      <td>0</td>\n",
       "      <td>FINANCIAL SERVICES</td>\n",
       "    </tr>\n",
       "    <tr>\n",
       "      <th>1</th>\n",
       "      <td>30</td>\n",
       "      <td>7</td>\n",
       "      <td>Friday</td>\n",
       "      <td>6.053882e+10</td>\n",
       "      <td>1</td>\n",
       "      <td>SHOES</td>\n",
       "      <td>8931</td>\n",
       "      <td>0</td>\n",
       "      <td>1</td>\n",
       "      <td>1</td>\n",
       "      <td>0</td>\n",
       "      <td>0</td>\n",
       "      <td>0</td>\n",
       "      <td>0</td>\n",
       "      <td>0</td>\n",
       "      <td>0</td>\n",
       "      <td>SHOES</td>\n",
       "    </tr>\n",
       "    <tr>\n",
       "      <th>2</th>\n",
       "      <td>30</td>\n",
       "      <td>7</td>\n",
       "      <td>Friday</td>\n",
       "      <td>7.410811e+09</td>\n",
       "      <td>1</td>\n",
       "      <td>PERSONAL CARE</td>\n",
       "      <td>4504</td>\n",
       "      <td>0</td>\n",
       "      <td>1</td>\n",
       "      <td>1</td>\n",
       "      <td>0</td>\n",
       "      <td>0</td>\n",
       "      <td>0</td>\n",
       "      <td>0</td>\n",
       "      <td>0</td>\n",
       "      <td>0</td>\n",
       "      <td>PERSONAL CARE</td>\n",
       "    </tr>\n",
       "    <tr>\n",
       "      <th>3</th>\n",
       "      <td>26</td>\n",
       "      <td>8</td>\n",
       "      <td>Friday</td>\n",
       "      <td>2.238404e+09</td>\n",
       "      <td>2</td>\n",
       "      <td>PAINT AND ACCESSORIES</td>\n",
       "      <td>3565</td>\n",
       "      <td>0</td>\n",
       "      <td>2</td>\n",
       "      <td>1</td>\n",
       "      <td>0</td>\n",
       "      <td>0</td>\n",
       "      <td>0</td>\n",
       "      <td>0</td>\n",
       "      <td>0</td>\n",
       "      <td>0</td>\n",
       "      <td>PAINT AND ACCESSORIES#PAINT AND ACCESSORIES</td>\n",
       "    </tr>\n",
       "    <tr>\n",
       "      <th>4</th>\n",
       "      <td>26</td>\n",
       "      <td>8</td>\n",
       "      <td>Friday</td>\n",
       "      <td>2.006614e+09</td>\n",
       "      <td>2</td>\n",
       "      <td>PAINT AND ACCESSORIES</td>\n",
       "      <td>1017</td>\n",
       "      <td>0</td>\n",
       "      <td>2</td>\n",
       "      <td>1</td>\n",
       "      <td>0</td>\n",
       "      <td>0</td>\n",
       "      <td>0</td>\n",
       "      <td>0</td>\n",
       "      <td>0</td>\n",
       "      <td>0</td>\n",
       "      <td>PAINT AND ACCESSORIES#PAINT AND ACCESSORIES</td>\n",
       "    </tr>\n",
       "  </tbody>\n",
       "</table>\n",
       "</div>"
      ],
      "text/plain": [
       "   TripType  VisitNumber Weekday           Upc  ScanCount  \\\n",
       "0       999            5  Friday  6.811315e+10         -1   \n",
       "1        30            7  Friday  6.053882e+10          1   \n",
       "2        30            7  Friday  7.410811e+09          1   \n",
       "3        26            8  Friday  2.238404e+09          2   \n",
       "4        26            8  Friday  2.006614e+09          2   \n",
       "\n",
       "   DepartmentDescription  FinelineNumber  neg_count  pos_count  Friday  \\\n",
       "0     FINANCIAL SERVICES            1000         -1          0       1   \n",
       "1                  SHOES            8931          0          1       1   \n",
       "2          PERSONAL CARE            4504          0          1       1   \n",
       "3  PAINT AND ACCESSORIES            3565          0          2       1   \n",
       "4  PAINT AND ACCESSORIES            1017          0          2       1   \n",
       "\n",
       "   Monday  Saturday  Sunday  Thursday  Tuesday  Wednesday  \\\n",
       "0       0         0       0         0        0          0   \n",
       "1       0         0       0         0        0          0   \n",
       "2       0         0       0         0        0          0   \n",
       "3       0         0       0         0        0          0   \n",
       "4       0         0       0         0        0          0   \n",
       "\n",
       "                                 expanded_dept  \n",
       "0                           FINANCIAL SERVICES  \n",
       "1                                        SHOES  \n",
       "2                                PERSONAL CARE  \n",
       "3  PAINT AND ACCESSORIES#PAINT AND ACCESSORIES  \n",
       "4  PAINT AND ACCESSORIES#PAINT AND ACCESSORIES  "
      ]
     },
     "execution_count": 228,
     "metadata": {},
     "output_type": "execute_result"
    }
   ],
   "source": [
    "train.head()"
   ]
  },
  {
   "cell_type": "code",
   "execution_count": 229,
   "metadata": {
    "collapsed": false
   },
   "outputs": [],
   "source": [
    "dep_text = train.groupby('VisitNumber', as_index=True)\\\n",
    ".agg({'expanded_dept': lambda x : '#'.join(x)})"
   ]
  },
  {
   "cell_type": "code",
   "execution_count": 234,
   "metadata": {
    "collapsed": false
   },
   "outputs": [
    {
     "data": {
      "text/plain": [
       "array([ 'PAINT AND ACCESSORIES#PAINT AND ACCESSORIES#PAINT AND ACCESSORIES#PAINT AND ACCESSORIES#PAINT AND ACCESSORIES#PAINT AND ACCESSORIES#PAINT AND ACCESSORIES#PAINT AND ACCESSORIES#PAINT AND ACCESSORIES#PAINT AND ACCESSORIES#DSD GROCERY#PAINT AND ACCESSORIES#PAINT AND ACCESSORIES#MEAT - FRESH & FROZEN#PAINT AND ACCESSORIES#PAINT AND ACCESSORIES#PAINT AND ACCESSORIES#PAINT AND ACCESSORIES#PAINT AND ACCESSORIES#PAINT AND ACCESSORIES#DAIRY#DAIRY#PETS AND SUPPLIES#PAINT AND ACCESSORIES#PAINT AND ACCESSORIES#HOUSEHOLD CHEMICALS/SUPP#PAINT AND ACCESSORIES#PAINT AND ACCESSORIES#PETS AND SUPPLIES#PETS AND SUPPLIES#PETS AND SUPPLIES#UNKNOWN'], dtype=object)"
      ]
     },
     "execution_count": 234,
     "metadata": {},
     "output_type": "execute_result"
    }
   ],
   "source": [
    "dep_text.ix[8].values"
   ]
  },
  {
   "cell_type": "code",
   "execution_count": 116,
   "metadata": {
    "collapsed": false,
    "scrolled": true
   },
   "outputs": [],
   "source": [
    "test = dep_text.ix[5:8,:]"
   ]
  },
  {
   "cell_type": "code",
   "execution_count": 117,
   "metadata": {
    "collapsed": false
   },
   "outputs": [
    {
     "data": {
      "text/html": [
       "<div>\n",
       "<table border=\"1\" class=\"dataframe\">\n",
       "  <thead>\n",
       "    <tr style=\"text-align: right;\">\n",
       "      <th></th>\n",
       "      <th>DepartmentDescription</th>\n",
       "    </tr>\n",
       "    <tr>\n",
       "      <th>VisitNumber</th>\n",
       "      <th></th>\n",
       "    </tr>\n",
       "  </thead>\n",
       "  <tbody>\n",
       "    <tr>\n",
       "      <th>5</th>\n",
       "      <td>FINANCIAL SERVICES</td>\n",
       "    </tr>\n",
       "    <tr>\n",
       "      <th>7</th>\n",
       "      <td>SHOES#PERSONAL CARE</td>\n",
       "    </tr>\n",
       "    <tr>\n",
       "      <th>8</th>\n",
       "      <td>PAINT AND ACCESSORIES#PAINT AND ACCESSORIES#PA...</td>\n",
       "    </tr>\n",
       "  </tbody>\n",
       "</table>\n",
       "</div>"
      ],
      "text/plain": [
       "                                         DepartmentDescription\n",
       "VisitNumber                                                   \n",
       "5                                           FINANCIAL SERVICES\n",
       "7                                          SHOES#PERSONAL CARE\n",
       "8            PAINT AND ACCESSORIES#PAINT AND ACCESSORIES#PA..."
      ]
     },
     "execution_count": 117,
     "metadata": {},
     "output_type": "execute_result"
    }
   ],
   "source": [
    "test"
   ]
  },
  {
   "cell_type": "code",
   "execution_count": 235,
   "metadata": {
    "collapsed": false
   },
   "outputs": [
    {
     "data": {
      "text/plain": [
       "CountVectorizer(analyzer=u'word', binary=False, decode_error=u'strict',\n",
       "        dtype=<type 'numpy.int64'>, encoding=u'utf-8', input=u'content',\n",
       "        lowercase=True, max_df=1.0, max_features=None, min_df=0,\n",
       "        ngram_range=(1, 1), preprocessor=None, stop_words=None,\n",
       "        strip_accents=None, token_pattern=u'(?u)\\\\b\\\\w\\\\w+\\\\b',\n",
       "        tokenizer=<function tokenizer at 0x7f32730a3668>, vocabulary=None)"
      ]
     },
     "execution_count": 235,
     "metadata": {},
     "output_type": "execute_result"
    }
   ],
   "source": [
    "from sklearn.feature_extraction.text import CountVectorizer\n",
    "from sklearn.feature_extraction.text import TfidfTransformer\n",
    "\n",
    "\n",
    "def tokenizer(text):\n",
    "    return  (text.split('#'))\n",
    "cvec = CountVectorizer(min_df=0, tokenizer=tokenizer)\n",
    "cvec"
   ]
  },
  {
   "cell_type": "code",
   "execution_count": 237,
   "metadata": {
    "collapsed": false
   },
   "outputs": [
    {
     "data": {
      "text/plain": [
       "[(u'seasonal', 58),\n",
       " (u'ladies socks', 36),\n",
       " (u'shoes', 61),\n",
       " (u'paint and accessories', 48),\n",
       " (u'meat - fresh & frozen', 41),\n",
       " (u'pharmacy rx', 52),\n",
       " (u'candy, tobacco, cookies', 11),\n",
       " (u'toys', 65),\n",
       " (u'large household goods', 38),\n",
       " (u'bath and shower', 4),\n",
       " (u'bras & shapewear', 9),\n",
       " (u'unknown', 66),\n",
       " (u'liquor,wine,beer', 40),\n",
       " (u'dairy', 16),\n",
       " (u'fabrics and crafts', 19),\n",
       " (u'automotive', 2),\n",
       " (u'players and electronics', 53),\n",
       " (u'lawn and garden', 39),\n",
       " (u'wireless', 67),\n",
       " (u'other departments', 47),\n",
       " (u'horticulture and access', 29),\n",
       " (u'home management', 28),\n",
       " (u'office supplies', 44),\n",
       " (u'furniture', 22),\n",
       " (u'optical - frames', 45),\n",
       " (u'sheer hosiery', 60),\n",
       " (u'optical - lenses', 46),\n",
       " (u'media and gaming', 42),\n",
       " (u'financial services', 20),\n",
       " (u'health and beauty aids', 26),\n",
       " (u'impulse merchandise', 32),\n",
       " (u'frozen foods', 21),\n",
       " (u'mens wear', 43),\n",
       " (u'grocery dry goods', 24),\n",
       " (u'accessories', 1),\n",
       " (u'hardware', 25),\n",
       " (u'personal care', 49),\n",
       " (u'books and magazines', 7),\n",
       " (u'cook and dine', 15),\n",
       " (u'pharmacy otc', 51),\n",
       " (u'ladieswear', 37),\n",
       " (u'sleepwear/foundations', 62),\n",
       " (u'pets and supplies', 50),\n",
       " (u'bedding', 6),\n",
       " (u'home decor', 27),\n",
       " (u'dsd grocery', 17),\n",
       " (u'concept stores', 14),\n",
       " (u'electronics', 18),\n",
       " (u'household chemicals/supp', 30),\n",
       " (u'beauty', 5),\n",
       " (u'pre packed deli', 55),\n",
       " (u'sporting goods', 63),\n",
       " (u'infant apparel', 33),\n",
       " (u'produce', 56),\n",
       " (u'1-hr photo', 0),\n",
       " (u'girls wear, 4-6x  and 7-14', 23),\n",
       " (u'swimwear/outerwear', 64),\n",
       " (u'celebration', 12),\n",
       " (u'comm bread', 13),\n",
       " (u'infant consumable hardlines', 34),\n",
       " (u'seafood', 57),\n",
       " (u'boys wear', 8),\n",
       " (u'plus and maternity', 54),\n",
       " (u'bakery', 3),\n",
       " (u'jewelry and sunglasses', 35),\n",
       " (u'service deli', 59),\n",
       " (u'cameras and supplies', 10),\n",
       " (u'household paper goods', 31)]"
      ]
     },
     "execution_count": 237,
     "metadata": {},
     "output_type": "execute_result"
    }
   ],
   "source": [
    "from itertools import islice\n",
    "cvec.fit(dep_text.expanded_dept)\n",
    "list(cvec.vocabulary_.items())"
   ]
  },
  {
   "cell_type": "code",
   "execution_count": 238,
   "metadata": {
    "collapsed": false
   },
   "outputs": [
    {
     "name": "stdout",
     "output_type": "stream",
     "text": [
      "sparse matrix shape: (95674, 68)\n",
      "nonzero count: 322053\n",
      "sparsity: 4.95%\n"
     ]
    }
   ],
   "source": [
    "cvec_counts = cvec.transform(dep_text.expanded_dept)\n",
    "print 'sparse matrix shape:', cvec_counts.shape\n",
    "print 'nonzero count:', cvec_counts.nnz\n",
    "print 'sparsity: %.2f%%' % (100.0 * cvec_counts.nnz / (cvec_counts.shape[0] * cvec_counts.shape[1]))"
   ]
  },
  {
   "cell_type": "code",
   "execution_count": 239,
   "metadata": {
    "collapsed": false,
    "scrolled": true
   },
   "outputs": [
    {
     "data": {
      "text/html": [
       "<div>\n",
       "<table border=\"1\" class=\"dataframe\">\n",
       "  <thead>\n",
       "    <tr style=\"text-align: right;\">\n",
       "      <th></th>\n",
       "      <th>occurrences</th>\n",
       "      <th>term</th>\n",
       "    </tr>\n",
       "  </thead>\n",
       "  <tbody>\n",
       "    <tr>\n",
       "      <th>24</th>\n",
       "      <td>90188</td>\n",
       "      <td>grocery dry goods</td>\n",
       "    </tr>\n",
       "    <tr>\n",
       "      <th>17</th>\n",
       "      <td>81400</td>\n",
       "      <td>dsd grocery</td>\n",
       "    </tr>\n",
       "    <tr>\n",
       "      <th>56</th>\n",
       "      <td>54383</td>\n",
       "      <td>produce</td>\n",
       "    </tr>\n",
       "    <tr>\n",
       "      <th>16</th>\n",
       "      <td>51318</td>\n",
       "      <td>dairy</td>\n",
       "    </tr>\n",
       "    <tr>\n",
       "      <th>49</th>\n",
       "      <td>46331</td>\n",
       "      <td>personal care</td>\n",
       "    </tr>\n",
       "    <tr>\n",
       "      <th>32</th>\n",
       "      <td>32805</td>\n",
       "      <td>impulse merchandise</td>\n",
       "    </tr>\n",
       "    <tr>\n",
       "      <th>30</th>\n",
       "      <td>27771</td>\n",
       "      <td>household chemicals/supp</td>\n",
       "    </tr>\n",
       "    <tr>\n",
       "      <th>51</th>\n",
       "      <td>26646</td>\n",
       "      <td>pharmacy otc</td>\n",
       "    </tr>\n",
       "    <tr>\n",
       "      <th>21</th>\n",
       "      <td>25710</td>\n",
       "      <td>frozen foods</td>\n",
       "    </tr>\n",
       "    <tr>\n",
       "      <th>31</th>\n",
       "      <td>18364</td>\n",
       "      <td>household paper goods</td>\n",
       "    </tr>\n",
       "    <tr>\n",
       "      <th>13</th>\n",
       "      <td>17788</td>\n",
       "      <td>comm bread</td>\n",
       "    </tr>\n",
       "    <tr>\n",
       "      <th>5</th>\n",
       "      <td>16063</td>\n",
       "      <td>beauty</td>\n",
       "    </tr>\n",
       "    <tr>\n",
       "      <th>34</th>\n",
       "      <td>13791</td>\n",
       "      <td>infant consumable hardlines</td>\n",
       "    </tr>\n",
       "    <tr>\n",
       "      <th>43</th>\n",
       "      <td>13356</td>\n",
       "      <td>mens wear</td>\n",
       "    </tr>\n",
       "    <tr>\n",
       "      <th>50</th>\n",
       "      <td>13056</td>\n",
       "      <td>pets and supplies</td>\n",
       "    </tr>\n",
       "    <tr>\n",
       "      <th>11</th>\n",
       "      <td>12019</td>\n",
       "      <td>candy, tobacco, cookies</td>\n",
       "    </tr>\n",
       "    <tr>\n",
       "      <th>20</th>\n",
       "      <td>11383</td>\n",
       "      <td>financial services</td>\n",
       "    </tr>\n",
       "    <tr>\n",
       "      <th>41</th>\n",
       "      <td>11042</td>\n",
       "      <td>meat - fresh &amp; frozen</td>\n",
       "    </tr>\n",
       "    <tr>\n",
       "      <th>59</th>\n",
       "      <td>11041</td>\n",
       "      <td>service deli</td>\n",
       "    </tr>\n",
       "    <tr>\n",
       "      <th>55</th>\n",
       "      <td>10840</td>\n",
       "      <td>pre packed deli</td>\n",
       "    </tr>\n",
       "  </tbody>\n",
       "</table>\n",
       "</div>"
      ],
      "text/plain": [
       "    occurrences                         term\n",
       "24        90188            grocery dry goods\n",
       "17        81400                  dsd grocery\n",
       "56        54383                      produce\n",
       "16        51318                        dairy\n",
       "49        46331                personal care\n",
       "32        32805          impulse merchandise\n",
       "30        27771     household chemicals/supp\n",
       "51        26646                 pharmacy otc\n",
       "21        25710                 frozen foods\n",
       "31        18364        household paper goods\n",
       "13        17788                   comm bread\n",
       "5         16063                       beauty\n",
       "34        13791  infant consumable hardlines\n",
       "43        13356                    mens wear\n",
       "50        13056            pets and supplies\n",
       "11        12019      candy, tobacco, cookies\n",
       "20        11383           financial services\n",
       "41        11042        meat - fresh & frozen\n",
       "59        11041                 service deli\n",
       "55        10840              pre packed deli"
      ]
     },
     "execution_count": 239,
     "metadata": {},
     "output_type": "execute_result"
    }
   ],
   "source": [
    "occ = np.asarray(cvec_counts.sum(axis=0)).ravel().tolist()\n",
    "counts_df = pd.DataFrame({'term': cvec.get_feature_names(), 'occurrences': occ})\n",
    "counts_df.sort_values(by='occurrences', ascending=False).head(20)\n",
    "occ = np.asarray(cvec_counts.sum(axis=0)).ravel().tolist()\n",
    "counts_df = pd.DataFrame({'term': cvec.get_feature_names(), 'occurrences': occ})\n",
    "counts_df.sort_values(by='occurrences', ascending=False).head(20)"
   ]
  },
  {
   "cell_type": "code",
   "execution_count": 240,
   "metadata": {
    "collapsed": false
   },
   "outputs": [
    {
     "data": {
      "text/plain": [
       "<95674x68 sparse matrix of type '<type 'numpy.float64'>'\n",
       "\twith 322053 stored elements in Compressed Sparse Row format>"
      ]
     },
     "execution_count": 240,
     "metadata": {},
     "output_type": "execute_result"
    }
   ],
   "source": [
    "transformer = TfidfTransformer()\n",
    "transformed_weights = transformer.fit_transform(cvec_counts)\n",
    "transformed_weights"
   ]
  },
  {
   "cell_type": "code",
   "execution_count": 241,
   "metadata": {
    "collapsed": false
   },
   "outputs": [
    {
     "data": {
      "text/plain": [
       "array([[ 0.        ,  0.        ,  0.        , ...,  0.        ,\n",
       "         0.        ,  0.        ],\n",
       "       [ 0.        ,  0.        ,  0.        , ...,  0.        ,\n",
       "         0.        ,  0.        ],\n",
       "       [ 0.        ,  0.        ,  0.        , ...,  0.        ,\n",
       "         0.04397541,  0.        ],\n",
       "       ..., \n",
       "       [ 0.        ,  0.        ,  0.        , ...,  0.        ,\n",
       "         0.        ,  0.        ],\n",
       "       [ 0.        ,  0.        ,  0.        , ...,  0.        ,\n",
       "         0.        ,  0.        ],\n",
       "       [ 0.        ,  0.        ,  0.        , ...,  0.        ,\n",
       "         0.        ,  0.        ]])"
      ]
     },
     "execution_count": 241,
     "metadata": {},
     "output_type": "execute_result"
    }
   ],
   "source": [
    "transformed_weights.toarray()"
   ]
  },
  {
   "cell_type": "code",
   "execution_count": 242,
   "metadata": {
    "collapsed": false
   },
   "outputs": [
    {
     "data": {
      "text/html": [
       "<div>\n",
       "<table border=\"1\" class=\"dataframe\">\n",
       "  <thead>\n",
       "    <tr style=\"text-align: right;\">\n",
       "      <th></th>\n",
       "      <th>term</th>\n",
       "      <th>weight</th>\n",
       "    </tr>\n",
       "  </thead>\n",
       "  <tbody>\n",
       "    <tr>\n",
       "      <th>17</th>\n",
       "      <td>dsd grocery</td>\n",
       "      <td>0.122531</td>\n",
       "    </tr>\n",
       "    <tr>\n",
       "      <th>24</th>\n",
       "      <td>grocery dry goods</td>\n",
       "      <td>0.103143</td>\n",
       "    </tr>\n",
       "    <tr>\n",
       "      <th>49</th>\n",
       "      <td>personal care</td>\n",
       "      <td>0.083207</td>\n",
       "    </tr>\n",
       "    <tr>\n",
       "      <th>56</th>\n",
       "      <td>produce</td>\n",
       "      <td>0.081158</td>\n",
       "    </tr>\n",
       "    <tr>\n",
       "      <th>32</th>\n",
       "      <td>impulse merchandise</td>\n",
       "      <td>0.080283</td>\n",
       "    </tr>\n",
       "    <tr>\n",
       "      <th>16</th>\n",
       "      <td>dairy</td>\n",
       "      <td>0.073643</td>\n",
       "    </tr>\n",
       "    <tr>\n",
       "      <th>51</th>\n",
       "      <td>pharmacy otc</td>\n",
       "      <td>0.063161</td>\n",
       "    </tr>\n",
       "    <tr>\n",
       "      <th>20</th>\n",
       "      <td>financial services</td>\n",
       "      <td>0.058626</td>\n",
       "    </tr>\n",
       "    <tr>\n",
       "      <th>30</th>\n",
       "      <td>household chemicals/supp</td>\n",
       "      <td>0.046477</td>\n",
       "    </tr>\n",
       "    <tr>\n",
       "      <th>21</th>\n",
       "      <td>frozen foods</td>\n",
       "      <td>0.041687</td>\n",
       "    </tr>\n",
       "    <tr>\n",
       "      <th>43</th>\n",
       "      <td>mens wear</td>\n",
       "      <td>0.039639</td>\n",
       "    </tr>\n",
       "    <tr>\n",
       "      <th>5</th>\n",
       "      <td>beauty</td>\n",
       "      <td>0.036274</td>\n",
       "    </tr>\n",
       "    <tr>\n",
       "      <th>59</th>\n",
       "      <td>service deli</td>\n",
       "      <td>0.035826</td>\n",
       "    </tr>\n",
       "    <tr>\n",
       "      <th>31</th>\n",
       "      <td>household paper goods</td>\n",
       "      <td>0.033286</td>\n",
       "    </tr>\n",
       "    <tr>\n",
       "      <th>13</th>\n",
       "      <td>comm bread</td>\n",
       "      <td>0.032316</td>\n",
       "    </tr>\n",
       "    <tr>\n",
       "      <th>11</th>\n",
       "      <td>candy, tobacco, cookies</td>\n",
       "      <td>0.029348</td>\n",
       "    </tr>\n",
       "    <tr>\n",
       "      <th>34</th>\n",
       "      <td>infant consumable hardlines</td>\n",
       "      <td>0.028598</td>\n",
       "    </tr>\n",
       "    <tr>\n",
       "      <th>37</th>\n",
       "      <td>ladieswear</td>\n",
       "      <td>0.023459</td>\n",
       "    </tr>\n",
       "    <tr>\n",
       "      <th>50</th>\n",
       "      <td>pets and supplies</td>\n",
       "      <td>0.023421</td>\n",
       "    </tr>\n",
       "    <tr>\n",
       "      <th>3</th>\n",
       "      <td>bakery</td>\n",
       "      <td>0.023096</td>\n",
       "    </tr>\n",
       "  </tbody>\n",
       "</table>\n",
       "</div>"
      ],
      "text/plain": [
       "                           term    weight\n",
       "17                  dsd grocery  0.122531\n",
       "24            grocery dry goods  0.103143\n",
       "49                personal care  0.083207\n",
       "56                      produce  0.081158\n",
       "32          impulse merchandise  0.080283\n",
       "16                        dairy  0.073643\n",
       "51                 pharmacy otc  0.063161\n",
       "20           financial services  0.058626\n",
       "30     household chemicals/supp  0.046477\n",
       "21                 frozen foods  0.041687\n",
       "43                    mens wear  0.039639\n",
       "5                        beauty  0.036274\n",
       "59                 service deli  0.035826\n",
       "31        household paper goods  0.033286\n",
       "13                   comm bread  0.032316\n",
       "11      candy, tobacco, cookies  0.029348\n",
       "34  infant consumable hardlines  0.028598\n",
       "37                   ladieswear  0.023459\n",
       "50            pets and supplies  0.023421\n",
       "3                        bakery  0.023096"
      ]
     },
     "execution_count": 242,
     "metadata": {},
     "output_type": "execute_result"
    }
   ],
   "source": [
    "weights = np.asarray(transformed_weights.mean(axis=0)).ravel().tolist()\n",
    "weights_df = pd.DataFrame({'term': cvec.get_feature_names(), 'weight': weights})\n",
    "weights_df.sort_values(by='weight', ascending=False).head(20)"
   ]
  },
  {
   "cell_type": "markdown",
   "metadata": {},
   "source": [
    "*Features to be added*\n",
    "* Dummirized most purchased department\n",
    "* Dummirized most purchased fineline\n",
    "* Dummirized most purchased upc\n",
    "* TF-IDF"
   ]
  },
  {
   "cell_type": "code",
   "execution_count": 182,
   "metadata": {
    "collapsed": false
   },
   "outputs": [],
   "source": [
    "dept_tfidf = extractor.generate_dense_categorical_features_tfidf(train, 'DepartmentDescription', group_by='VisitNumber')"
   ]
  },
  {
   "cell_type": "code",
   "execution_count": 183,
   "metadata": {
    "collapsed": false
   },
   "outputs": [
    {
     "data": {
      "text/plain": [
       "<95674x68 sparse matrix of type '<type 'numpy.float64'>'\n",
       "\twith 322053 stored elements in Compressed Sparse Row format>"
      ]
     },
     "execution_count": 183,
     "metadata": {},
     "output_type": "execute_result"
    }
   ],
   "source": [
    "dept_tfidf"
   ]
  },
  {
   "cell_type": "code",
   "execution_count": 181,
   "metadata": {
    "collapsed": false
   },
   "outputs": [
    {
     "data": {
      "text/plain": [
       "<95674x68 sparse matrix of type '<type 'numpy.float64'>'\n",
       "\twith 322053 stored elements in Compressed Sparse Row format>"
      ]
     },
     "execution_count": 181,
     "metadata": {},
     "output_type": "execute_result"
    }
   ],
   "source": [
    "dept_tfidf"
   ]
  },
  {
   "cell_type": "code",
   "execution_count": 164,
   "metadata": {
    "collapsed": false
   },
   "outputs": [
    {
     "data": {
      "text/plain": [
       "array([[ 1.]])"
      ]
     },
     "execution_count": 164,
     "metadata": {},
     "output_type": "execute_result"
    }
   ],
   "source": [
    "dept_tfidf.toarray()"
   ]
  },
  {
   "cell_type": "code",
   "execution_count": 172,
   "metadata": {
    "collapsed": false,
    "scrolled": true
   },
   "outputs": [],
   "source": [
    "from sklearn.feature_extraction.text import TfidfVectorizer\n",
    "df = train\n",
    "col_name = 'DepartmentDescription'\n",
    "group_by = 'VisitNumber'\n",
    "sep = '#'\n",
    "min_df=0.0\n",
    "max_df=1.0\n",
    "ngram_ragne=(1,1)\n",
    "col2text = df[col_name]\n",
    "if group_by is not None:\n",
    "    col2text = df.groupby(group_by, as_index=True).agg({col_name: lambda x : sep.join(x)})\n",
    "\n",
    "def tokenizer(text): return (text.split(sep))\n",
    "tfv = TfidfVectorizer(min_df=min_df, max_df=max_df, ngram_range=ngram_ragne, tokenizer=tokenizer)\n",
    "out = tfv.fit_transform(col2text[col_name])"
   ]
  },
  {
   "cell_type": "code",
   "execution_count": 177,
   "metadata": {
    "collapsed": false
   },
   "outputs": [
    {
     "data": {
      "text/plain": [
       "<95674x68 sparse matrix of type '<type 'numpy.float64'>'\n",
       "\twith 322053 stored elements in Compressed Sparse Row format>"
      ]
     },
     "execution_count": 177,
     "metadata": {},
     "output_type": "execute_result"
    }
   ],
   "source": [
    "out"
   ]
  },
  {
   "cell_type": "code",
   "execution_count": 174,
   "metadata": {
    "collapsed": false
   },
   "outputs": [
    {
     "data": {
      "text/plain": [
       "6505832"
      ]
     },
     "execution_count": 174,
     "metadata": {},
     "output_type": "execute_result"
    }
   ],
   "source": [
    "95674*68"
   ]
  },
  {
   "cell_type": "code",
   "execution_count": 157,
   "metadata": {
    "collapsed": false
   },
   "outputs": [],
   "source": [
    "def tokenizer(text): return (text.split(sep))\n",
    "tfv = TfidfVectorizer(tokenizer=tokenizer)\n",
    "out = tfv.fit_transform(col2text[col_name])"
   ]
  },
  {
   "cell_type": "code",
   "execution_count": 158,
   "metadata": {
    "collapsed": false
   },
   "outputs": [
    {
     "data": {
      "text/plain": [
       "<95674x68 sparse matrix of type '<type 'numpy.float64'>'\n",
       "\twith 322053 stored elements in Compressed Sparse Row format>"
      ]
     },
     "execution_count": 158,
     "metadata": {},
     "output_type": "execute_result"
    }
   ],
   "source": [
    "out"
   ]
  },
  {
   "cell_type": "code",
   "execution_count": 248,
   "metadata": {
    "collapsed": false
   },
   "outputs": [],
   "source": [
    "X_train, X_test, y_train, y_test, feature_names = extractor.train_cross_validation(train)"
   ]
  },
  {
   "cell_type": "code",
   "execution_count": 250,
   "metadata": {
    "collapsed": false,
    "scrolled": true
   },
   "outputs": [
    {
     "name": "stdout",
     "output_type": "stream",
     "text": [
      "0.657555506287\n",
      "1.58810951116\n"
     ]
    }
   ],
   "source": [
    "from sklearn.ensemble import RandomForestClassifier\n",
    "clf = RandomForestClassifier(n_estimators=100, n_jobs=8)\n",
    "clf.fit(X_train,y_train)\n",
    "clf_probs = clf.predict_proba(X_test)\n",
    "\n",
    "\n",
    "importances = clf.feature_importances_\n",
    "std = np.std([tree.feature_importances_ for tree in clf.estimators_],\n",
    "             axis=0)\n",
    "indices = np.argsort(importances)[::-1]\n",
    "\n",
    "# Print the feature ranking\n",
    "# print(\"Feature ranking:\")\n",
    "# for f in range(X_train.shape[1]):\n",
    "    # print(\"%d. feature %d : %s (%f)\" % (f + 1, indices[f], X_train.columns[indices[f]],importances[indices[f]]))\n",
    "#from sklearn.model_selection import cross_val_score\n",
    "#scores = cross_val_score(clf, X_test, y_test.values)\n",
    "scores = clf.score(X_test,y_test)\n",
    "print(scores)\n",
    "\n",
    "from sklearn.metrics import log_loss\n",
    "logloss_score = log_loss(y_test, clf_probs)\n",
    "print(logloss_score)"
   ]
  },
  {
   "cell_type": "markdown",
   "metadata": {},
   "source": [
    "0.716973363317\n",
    "1.08761473209"
   ]
  },
  {
   "cell_type": "code",
   "execution_count": 190,
   "metadata": {
    "collapsed": false
   },
   "outputs": [
    {
     "name": "stdout",
     "output_type": "stream",
     "text": [
      "eta=0.10 max_depth=10 num_round=300 log_loss=0.700365\n",
      "\n"
     ]
    }
   ],
   "source": [
    "import models.models as models\n",
    "depth = 10\n",
    "eta = 0.1\n",
    "num_round = 300\n",
    "xgb_clf = models.XGBoostMutliClass(nthread=8, eta=eta, max_depth=depth, num_round=num_round, silent=0, booster='gbtree')\n",
    "xgb_clf.fit(X_train, y_train)\n",
    "yprob, preds = xgb_clf.predict_proba(X_test)\n",
    "from sklearn.metrics import log_loss\n",
    "logloss_score = log_loss(y_test, yprob)\n",
    "print(\"eta=%.2f max_depth=%d num_round=%d log_loss=%f\\n\" %(eta, depth, num_round, logloss_score))"
   ]
  },
  {
   "cell_type": "markdown",
   "metadata": {},
   "source": [
    "eta=0.10 max_depth=10 num_round=200 log_loss=0.704327\n"
   ]
  },
  {
   "cell_type": "markdown",
   "metadata": {},
   "source": [
    "\n",
    "0.70344914959\n",
    "1.22921564218"
   ]
  },
  {
   "cell_type": "code",
   "execution_count": 28,
   "metadata": {
    "collapsed": true
   },
   "outputs": [
    {
     "ename": "KeyboardInterrupt",
     "evalue": "",
     "output_type": "error",
     "traceback": [
      "\u001b[1;31m---------------------------------------------------------------------------\u001b[0m",
      "\u001b[1;31mKeyboardInterrupt\u001b[0m                         Traceback (most recent call last)",
      "\u001b[1;32m<ipython-input-28-76bdaf30528e>\u001b[0m in \u001b[0;36m<module>\u001b[1;34m()\u001b[0m\n\u001b[0;32m      5\u001b[0m             xgb_clf = models.XGBoostMutliClass(nthread=8, eta=eta, \n\u001b[0;32m      6\u001b[0m                                                max_depth=depth, num_round=num_round, silent=0, booster='gbtree')\n\u001b[1;32m----> 7\u001b[1;33m             \u001b[0mxgb_clf\u001b[0m\u001b[1;33m.\u001b[0m\u001b[0mfit\u001b[0m\u001b[1;33m(\u001b[0m\u001b[0mX_train\u001b[0m\u001b[1;33m,\u001b[0m \u001b[0my_train\u001b[0m\u001b[1;33m)\u001b[0m\u001b[1;33m\u001b[0m\u001b[0m\n\u001b[0m\u001b[0;32m      8\u001b[0m             \u001b[0myprob\u001b[0m\u001b[1;33m,\u001b[0m \u001b[0mpreds\u001b[0m \u001b[1;33m=\u001b[0m \u001b[0mxgb_clf\u001b[0m\u001b[1;33m.\u001b[0m\u001b[0mpredict_proba\u001b[0m\u001b[1;33m(\u001b[0m\u001b[0mX_test\u001b[0m\u001b[1;33m)\u001b[0m\u001b[1;33m\u001b[0m\u001b[0m\n\u001b[0;32m      9\u001b[0m             \u001b[1;32mfrom\u001b[0m \u001b[0msklearn\u001b[0m\u001b[1;33m.\u001b[0m\u001b[0mmetrics\u001b[0m \u001b[1;32mimport\u001b[0m \u001b[0mlog_loss\u001b[0m\u001b[1;33m\u001b[0m\u001b[0m\n",
      "\u001b[1;32m/home/wei/Coding/qishi/Kaggle3/JQXXXX/kaggle/modelers/wh/codebase/models/models.pyc\u001b[0m in \u001b[0;36mfit\u001b[1;34m(self, X, y)\u001b[0m\n\u001b[0;32m     65\u001b[0m          \u001b[1;34m\"alpha\"\u001b[0m\u001b[1;33m:\u001b[0m \u001b[0mself\u001b[0m\u001b[1;33m.\u001b[0m\u001b[0ml1_reg\u001b[0m\u001b[1;33m\u001b[0m\u001b[0m\n\u001b[0;32m     66\u001b[0m         '''\n\u001b[1;32m---> 67\u001b[1;33m         \u001b[0mself\u001b[0m\u001b[1;33m.\u001b[0m\u001b[0mmodel\u001b[0m \u001b[1;33m=\u001b[0m \u001b[0mxgb\u001b[0m\u001b[1;33m.\u001b[0m\u001b[0mtrain\u001b[0m\u001b[1;33m(\u001b[0m\u001b[0mparams\u001b[0m\u001b[1;33m,\u001b[0m \u001b[0msf\u001b[0m\u001b[1;33m,\u001b[0m \u001b[0mself\u001b[0m\u001b[1;33m.\u001b[0m\u001b[0mnum_round\u001b[0m\u001b[1;33m)\u001b[0m\u001b[1;33m\u001b[0m\u001b[0m\n\u001b[0m\u001b[0;32m     68\u001b[0m         \u001b[1;32mreturn\u001b[0m \u001b[0mself\u001b[0m\u001b[1;33m\u001b[0m\u001b[0m\n\u001b[0;32m     69\u001b[0m \u001b[1;33m\u001b[0m\u001b[0m\n",
      "\u001b[1;32m/home/wei/anaconda2/envs/pt27/lib/python2.7/site-packages/xgboost-0.6-py2.7.egg/xgboost/training.pyc\u001b[0m in \u001b[0;36mtrain\u001b[1;34m(params, dtrain, num_boost_round, evals, obj, feval, maximize, early_stopping_rounds, evals_result, verbose_eval, xgb_model, callbacks, learning_rates)\u001b[0m\n\u001b[0;32m    202\u001b[0m                            \u001b[0mevals\u001b[0m\u001b[1;33m=\u001b[0m\u001b[0mevals\u001b[0m\u001b[1;33m,\u001b[0m\u001b[1;33m\u001b[0m\u001b[0m\n\u001b[0;32m    203\u001b[0m                            \u001b[0mobj\u001b[0m\u001b[1;33m=\u001b[0m\u001b[0mobj\u001b[0m\u001b[1;33m,\u001b[0m \u001b[0mfeval\u001b[0m\u001b[1;33m=\u001b[0m\u001b[0mfeval\u001b[0m\u001b[1;33m,\u001b[0m\u001b[1;33m\u001b[0m\u001b[0m\n\u001b[1;32m--> 204\u001b[1;33m                            xgb_model=xgb_model, callbacks=callbacks)\n\u001b[0m\u001b[0;32m    205\u001b[0m \u001b[1;33m\u001b[0m\u001b[0m\n\u001b[0;32m    206\u001b[0m \u001b[1;33m\u001b[0m\u001b[0m\n",
      "\u001b[1;32m/home/wei/anaconda2/envs/pt27/lib/python2.7/site-packages/xgboost-0.6-py2.7.egg/xgboost/training.pyc\u001b[0m in \u001b[0;36m_train_internal\u001b[1;34m(params, dtrain, num_boost_round, evals, obj, feval, xgb_model, callbacks)\u001b[0m\n\u001b[0;32m     72\u001b[0m         \u001b[1;31m# Skip the first update if it is a recovery step.\u001b[0m\u001b[1;33m\u001b[0m\u001b[1;33m\u001b[0m\u001b[0m\n\u001b[0;32m     73\u001b[0m         \u001b[1;32mif\u001b[0m \u001b[0mversion\u001b[0m \u001b[1;33m%\u001b[0m \u001b[1;36m2\u001b[0m \u001b[1;33m==\u001b[0m \u001b[1;36m0\u001b[0m\u001b[1;33m:\u001b[0m\u001b[1;33m\u001b[0m\u001b[0m\n\u001b[1;32m---> 74\u001b[1;33m             \u001b[0mbst\u001b[0m\u001b[1;33m.\u001b[0m\u001b[0mupdate\u001b[0m\u001b[1;33m(\u001b[0m\u001b[0mdtrain\u001b[0m\u001b[1;33m,\u001b[0m \u001b[0mi\u001b[0m\u001b[1;33m,\u001b[0m \u001b[0mobj\u001b[0m\u001b[1;33m)\u001b[0m\u001b[1;33m\u001b[0m\u001b[0m\n\u001b[0m\u001b[0;32m     75\u001b[0m             \u001b[0mbst\u001b[0m\u001b[1;33m.\u001b[0m\u001b[0msave_rabit_checkpoint\u001b[0m\u001b[1;33m(\u001b[0m\u001b[1;33m)\u001b[0m\u001b[1;33m\u001b[0m\u001b[0m\n\u001b[0;32m     76\u001b[0m             \u001b[0mversion\u001b[0m \u001b[1;33m+=\u001b[0m \u001b[1;36m1\u001b[0m\u001b[1;33m\u001b[0m\u001b[0m\n",
      "\u001b[1;32m/home/wei/anaconda2/envs/pt27/lib/python2.7/site-packages/xgboost-0.6-py2.7.egg/xgboost/core.pyc\u001b[0m in \u001b[0;36mupdate\u001b[1;34m(self, dtrain, iteration, fobj)\u001b[0m\n\u001b[0;32m    817\u001b[0m \u001b[1;33m\u001b[0m\u001b[0m\n\u001b[0;32m    818\u001b[0m         \u001b[1;32mif\u001b[0m \u001b[0mfobj\u001b[0m \u001b[1;32mis\u001b[0m \u001b[0mNone\u001b[0m\u001b[1;33m:\u001b[0m\u001b[1;33m\u001b[0m\u001b[0m\n\u001b[1;32m--> 819\u001b[1;33m             \u001b[0m_check_call\u001b[0m\u001b[1;33m(\u001b[0m\u001b[0m_LIB\u001b[0m\u001b[1;33m.\u001b[0m\u001b[0mXGBoosterUpdateOneIter\u001b[0m\u001b[1;33m(\u001b[0m\u001b[0mself\u001b[0m\u001b[1;33m.\u001b[0m\u001b[0mhandle\u001b[0m\u001b[1;33m,\u001b[0m \u001b[0miteration\u001b[0m\u001b[1;33m,\u001b[0m \u001b[0mdtrain\u001b[0m\u001b[1;33m.\u001b[0m\u001b[0mhandle\u001b[0m\u001b[1;33m)\u001b[0m\u001b[1;33m)\u001b[0m\u001b[1;33m\u001b[0m\u001b[0m\n\u001b[0m\u001b[0;32m    820\u001b[0m         \u001b[1;32melse\u001b[0m\u001b[1;33m:\u001b[0m\u001b[1;33m\u001b[0m\u001b[0m\n\u001b[0;32m    821\u001b[0m             \u001b[0mpred\u001b[0m \u001b[1;33m=\u001b[0m \u001b[0mself\u001b[0m\u001b[1;33m.\u001b[0m\u001b[0mpredict\u001b[0m\u001b[1;33m(\u001b[0m\u001b[0mdtrain\u001b[0m\u001b[1;33m)\u001b[0m\u001b[1;33m\u001b[0m\u001b[0m\n",
      "\u001b[1;31mKeyboardInterrupt\u001b[0m: "
     ]
    }
   ],
   "source": [
    "import models.models as models\n",
    "for depth in [5, 10, 15, 20, 30]:\n",
    "    for eta in [0.1, 0.15, 0.2, 0.3]:\n",
    "        for num_round in [50, 100, 150]:\n",
    "            xgb_clf = models.XGBoostMutliClass(nthread=8, eta=eta, \n",
    "                                               max_depth=depth, num_round=num_round, silent=0, booster='gbtree')\n",
    "            xgb_clf.fit(X_train, y_train)\n",
    "            yprob, preds = xgb_clf.predict_proba(X_test)\n",
    "            from sklearn.metrics import log_loss\n",
    "            logloss_score = log_loss(y_test, yprob)\n",
    "            with open('grid_search.txt','a') as out_file:\n",
    "                out_file.write(\"eta=%.2f max_depth=%d log_loss=%f\\n\" %(eta, depth, logloss_score))"
   ]
  },
  {
   "cell_type": "markdown",
   "metadata": {
    "collapsed": true
   },
   "source": [
    "eta=0.20 max_depth=20 log_loss=0.785147\n",
    "\n",
    "\n",
    "eta=0.20 max_depth=10 log_loss=0.726828\n",
    "\n",
    "eta=0.30 max_depth=10 log_loss=0.759261\n",
    "\n",
    "eta=0.30 max_depth=10 log_loss=0.772338\n"
   ]
  },
  {
   "cell_type": "code",
   "execution_count": 58,
   "metadata": {
    "collapsed": false
   },
   "outputs": [],
   "source": [
    "X_train, y, test = extractor.prepare_data(train, test)"
   ]
  },
  {
   "cell_type": "code",
   "execution_count": 205,
   "metadata": {
    "collapsed": false
   },
   "outputs": [
    {
     "ename": "NameError",
     "evalue": "name 'y' is not defined",
     "output_type": "error",
     "traceback": [
      "\u001b[1;31m---------------------------------------------------------------------------\u001b[0m",
      "\u001b[1;31mNameError\u001b[0m                                 Traceback (most recent call last)",
      "\u001b[1;32m<ipython-input-205-7c850f789158>\u001b[0m in \u001b[0;36m<module>\u001b[1;34m()\u001b[0m\n\u001b[0;32m      3\u001b[0m \u001b[1;33m\u001b[0m\u001b[0m\n\u001b[0;32m      4\u001b[0m \u001b[0mselectK\u001b[0m \u001b[1;33m=\u001b[0m \u001b[0mSelectKBest\u001b[0m\u001b[1;33m(\u001b[0m\u001b[0mf_classif\u001b[0m\u001b[1;33m,\u001b[0m \u001b[0mk\u001b[0m\u001b[1;33m=\u001b[0m\u001b[1;36m24000\u001b[0m\u001b[1;33m)\u001b[0m\u001b[1;33m\u001b[0m\u001b[0m\n\u001b[1;32m----> 5\u001b[1;33m \u001b[0mselectK\u001b[0m\u001b[1;33m.\u001b[0m\u001b[0mfit\u001b[0m\u001b[1;33m(\u001b[0m\u001b[0mX_train\u001b[0m\u001b[1;33m,\u001b[0m \u001b[0my\u001b[0m\u001b[1;33m)\u001b[0m\u001b[1;33m\u001b[0m\u001b[0m\n\u001b[0m\u001b[0;32m      6\u001b[0m \u001b[0mX_train\u001b[0m \u001b[1;33m=\u001b[0m \u001b[0mselectK\u001b[0m\u001b[1;33m.\u001b[0m\u001b[0mtransform\u001b[0m\u001b[1;33m(\u001b[0m\u001b[0mX_train\u001b[0m\u001b[1;33m)\u001b[0m\u001b[1;33m\u001b[0m\u001b[0m\n\u001b[0;32m      7\u001b[0m \u001b[0mX_test\u001b[0m \u001b[1;33m=\u001b[0m \u001b[0mselectK\u001b[0m\u001b[1;33m.\u001b[0m\u001b[0mtransform\u001b[0m\u001b[1;33m(\u001b[0m\u001b[0mtest\u001b[0m\u001b[1;33m)\u001b[0m\u001b[1;33m\u001b[0m\u001b[0m\n",
      "\u001b[1;31mNameError\u001b[0m: name 'y' is not defined"
     ]
    }
   ],
   "source": [
    "from sklearn.feature_selection import SelectKBest\n",
    "from sklearn.feature_selection import f_classif\n",
    "\n",
    "selectK = SelectKBest(f_classif, k=24000)\n",
    "selectK.fit(X_train, y)\n",
    "X_train = selectK.transform(X_train)\n",
    "X_test = selectK.transform(test)"
   ]
  },
  {
   "cell_type": "code",
   "execution_count": 60,
   "metadata": {
    "collapsed": false
   },
   "outputs": [
    {
     "data": {
      "text/plain": [
       "XGBoostMutliClass(booster='gbtree', eta=0.1, max_depth=10, nthread=8,\n",
       "         num_round=300, silent=1)"
      ]
     },
     "execution_count": 60,
     "metadata": {},
     "output_type": "execute_result"
    }
   ],
   "source": [
    "import models.models as models\n",
    "xgb_clf = models.XGBoostMutliClass(nthread=8, eta=0.1, max_depth=10, num_round=300, silent=1)\n",
    "xgb_clf.fit(X_train, y)\n"
   ]
  },
  {
   "cell_type": "code",
   "execution_count": 61,
   "metadata": {
    "collapsed": false
   },
   "outputs": [],
   "source": [
    "yprob, classes = xgb_clf.predict_proba(X_test)"
   ]
  },
  {
   "cell_type": "code",
   "execution_count": 64,
   "metadata": {
    "collapsed": false
   },
   "outputs": [],
   "source": [
    "column_names = ['VisitNumber']\n",
    "for cls in classes:\n",
    "    column_names.append('TripType_' + str(cls))\n",
    "out = pd.DataFrame(columns=column_names)\n",
    "out['VisitNumber'] = test['VisitNumber'].unique()\n",
    "out.ix[:,'TripType_3':] = yprob\n",
    "out.to_csv('submission.csv', sep=',', index=False)"
   ]
  },
  {
   "cell_type": "code",
   "execution_count": 66,
   "metadata": {
    "collapsed": false,
    "scrolled": true
   },
   "outputs": [
    {
     "data": {
      "text/plain": [
       "(95674, 39)"
      ]
     },
     "execution_count": 66,
     "metadata": {},
     "output_type": "execute_result"
    }
   ],
   "source": [
    "out.shape"
   ]
  },
  {
   "cell_type": "code",
   "execution_count": 257,
   "metadata": {
    "collapsed": false
   },
   "outputs": [],
   "source": [
    "X_train, X_test, y_train, y_test, feature_names = extractor.train_cross_validation(train)"
   ]
  },
  {
   "cell_type": "code",
   "execution_count": 258,
   "metadata": {
    "collapsed": false
   },
   "outputs": [
    {
     "data": {
      "text/plain": [
       "(64101, 64021)"
      ]
     },
     "execution_count": 258,
     "metadata": {},
     "output_type": "execute_result"
    }
   ],
   "source": [
    "X_train.shape"
   ]
  },
  {
   "cell_type": "code",
   "execution_count": 259,
   "metadata": {
    "collapsed": false
   },
   "outputs": [],
   "source": [
    "from sklearn.feature_selection import SelectKBest\n",
    "from sklearn.feature_selection import f_classif\n",
    "\n",
    "selectK = SelectKBest(f_classif, k=24000)\n",
    "selectK.fit(X_train, y_train)\n",
    "X_train = selectK.transform(X_train)\n",
    "X_test = selectK.transform(X_test)"
   ]
  },
  {
   "cell_type": "code",
   "execution_count": 260,
   "metadata": {
    "collapsed": false,
    "scrolled": true
   },
   "outputs": [
    {
     "name": "stdout",
     "output_type": "stream",
     "text": [
      "eta=0.10 max_depth=10 num_round=500 log_loss=0.875188\n",
      "\n"
     ]
    }
   ],
   "source": [
    "import models.models as models\n",
    "depth = 10\n",
    "eta = 0.1\n",
    "num_round = 500\n",
    "xgb_clf = models.XGBoostMutliClass(nthread=8, eta=eta, max_depth=depth, num_round=num_round, silent=0, booster='gbtree')\n",
    "xgb_clf.fit(X_train, y_train)\n",
    "yprob, preds = xgb_clf.predict_proba(X_test)\n",
    "from sklearn.metrics import log_loss\n",
    "logloss_score = log_loss(y_test, yprob)\n",
    "print(\"eta=%.2f max_depth=%d num_round=%d log_loss=%f\\n\" %(eta, depth, num_round, logloss_score))"
   ]
  },
  {
   "cell_type": "code",
   "execution_count": null,
   "metadata": {
    "collapsed": true
   },
   "outputs": [],
   "source": []
  },
  {
   "cell_type": "markdown",
   "metadata": {},
   "source": [
    "eta=0.10 max_depth=10 num_round=50 log_loss=0.953793\n",
    "\n",
    "eta=0.10 max_depth=10 num_round=50 log_loss=0.807270\n",
    "\n",
    "eta=0.10 max_depth=10 num_round=50 log_loss=0.931928\n",
    "\n",
    "eta=0.10 max_depth=10 num_round=100 log_loss=0.728793\n",
    "\n",
    "no_of_features=14000 eta=0.10 max_depth=10 num_round=300 log_loss=0.707287 + weekday dummies\n",
    "\n",
    "\n",
    "no_of_features=14000 eta=0.10 max_depth=10 num_round=300 log_loss=0.708080\n",
    "\n",
    "no_of_features=10000 eta=0.10 max_depth=10 num_round=300 log_loss=0.709836\n",
    "\n"
   ]
  },
  {
   "cell_type": "code",
   "execution_count": 208,
   "metadata": {
    "collapsed": false
   },
   "outputs": [
    {
     "data": {
      "text/plain": [
       "(64101, 24000)"
      ]
     },
     "execution_count": 208,
     "metadata": {},
     "output_type": "execute_result"
    }
   ],
   "source": [
    "X_train.shape"
   ]
  },
  {
   "cell_type": "code",
   "execution_count": null,
   "metadata": {
    "collapsed": false
   },
   "outputs": [],
   "source": [
    "X_train = svds(X_train, k=1000)\n",
    "from scipy.sparse.linalg import svds\n"
   ]
  },
  {
   "cell_type": "code",
   "execution_count": null,
   "metadata": {
    "collapsed": false
   },
   "outputs": [],
   "source": [
    "from sklearn.decomposition import TruncatedSVD\n",
    "svd = TruncatedSVD(n_components=50, random_state=42)\n",
    "X_train = svd.fit_transform(X_train)"
   ]
  }
 ],
 "metadata": {
  "kernelspec": {
   "display_name": "Python 2",
   "language": "python",
   "name": "python2"
  },
  "language_info": {
   "codemirror_mode": {
    "name": "ipython",
    "version": 2
   },
   "file_extension": ".py",
   "mimetype": "text/x-python",
   "name": "python",
   "nbconvert_exporter": "python",
   "pygments_lexer": "ipython2",
   "version": "2.7.13"
  }
 },
 "nbformat": 4,
 "nbformat_minor": 0
}
