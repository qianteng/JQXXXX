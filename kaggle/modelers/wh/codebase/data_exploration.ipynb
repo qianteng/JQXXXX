{
 "cells": [
  {
   "cell_type": "code",
   "execution_count": 1,
   "metadata": {
    "collapsed": false
   },
   "outputs": [],
   "source": [
    "from __future__ import print_function, division\n",
    "import pandas as pd"
   ]
  },
  {
   "cell_type": "code",
   "execution_count": 2,
   "metadata": {
    "collapsed": false
   },
   "outputs": [],
   "source": [
    "proj_path = '~/Coding/qishi/Kaggle3/JQXXXX/kaggle/walmart/'\n",
    "data_path = proj_path + 'data/'"
   ]
  },
  {
   "cell_type": "code",
   "execution_count": 3,
   "metadata": {
    "collapsed": false
   },
   "outputs": [],
   "source": [
    "train_data = pd.read_csv(data_path + 'train.csv', sep=',')"
   ]
  },
  {
   "cell_type": "markdown",
   "metadata": {},
   "source": [
    "* **TripType** - a categorical id representing the type of shopping trip the customer made. This is the ground truth that you are predicting. TripType_999 is an \"other\" category.\n",
    "* **VisitNumber** - an id corresponding to a single trip by a single customer\n",
    "* **Weekday** - the weekday of the trip\n",
    "* **Upc** - the UPC number of the product purchased\n",
    "* **ScanCount** - the number of the given item that was purchased. A negative value indicates a product return.\n",
    "* **DepartmentDescription** - a high-level description of the item's department\n",
    "* **FinelineNumber** - a more refined category for each of the products, created by Walmart"
   ]
  },
  {
   "cell_type": "code",
   "execution_count": 4,
   "metadata": {
    "collapsed": false
   },
   "outputs": [
    {
     "data": {
      "text/html": [
       "<div>\n",
       "<table border=\"1\" class=\"dataframe\">\n",
       "  <thead>\n",
       "    <tr style=\"text-align: right;\">\n",
       "      <th></th>\n",
       "      <th>TripType</th>\n",
       "      <th>VisitNumber</th>\n",
       "      <th>Weekday</th>\n",
       "      <th>Upc</th>\n",
       "      <th>ScanCount</th>\n",
       "      <th>DepartmentDescription</th>\n",
       "      <th>FinelineNumber</th>\n",
       "    </tr>\n",
       "  </thead>\n",
       "  <tbody>\n",
       "    <tr>\n",
       "      <th>0</th>\n",
       "      <td>999</td>\n",
       "      <td>5</td>\n",
       "      <td>Friday</td>\n",
       "      <td>6.811315e+10</td>\n",
       "      <td>-1</td>\n",
       "      <td>FINANCIAL SERVICES</td>\n",
       "      <td>1000.0</td>\n",
       "    </tr>\n",
       "    <tr>\n",
       "      <th>1</th>\n",
       "      <td>30</td>\n",
       "      <td>7</td>\n",
       "      <td>Friday</td>\n",
       "      <td>6.053882e+10</td>\n",
       "      <td>1</td>\n",
       "      <td>SHOES</td>\n",
       "      <td>8931.0</td>\n",
       "    </tr>\n",
       "    <tr>\n",
       "      <th>2</th>\n",
       "      <td>30</td>\n",
       "      <td>7</td>\n",
       "      <td>Friday</td>\n",
       "      <td>7.410811e+09</td>\n",
       "      <td>1</td>\n",
       "      <td>PERSONAL CARE</td>\n",
       "      <td>4504.0</td>\n",
       "    </tr>\n",
       "    <tr>\n",
       "      <th>3</th>\n",
       "      <td>26</td>\n",
       "      <td>8</td>\n",
       "      <td>Friday</td>\n",
       "      <td>2.238404e+09</td>\n",
       "      <td>2</td>\n",
       "      <td>PAINT AND ACCESSORIES</td>\n",
       "      <td>3565.0</td>\n",
       "    </tr>\n",
       "    <tr>\n",
       "      <th>4</th>\n",
       "      <td>26</td>\n",
       "      <td>8</td>\n",
       "      <td>Friday</td>\n",
       "      <td>2.006614e+09</td>\n",
       "      <td>2</td>\n",
       "      <td>PAINT AND ACCESSORIES</td>\n",
       "      <td>1017.0</td>\n",
       "    </tr>\n",
       "  </tbody>\n",
       "</table>\n",
       "</div>"
      ],
      "text/plain": [
       "   TripType  VisitNumber Weekday           Upc  ScanCount  \\\n",
       "0       999            5  Friday  6.811315e+10         -1   \n",
       "1        30            7  Friday  6.053882e+10          1   \n",
       "2        30            7  Friday  7.410811e+09          1   \n",
       "3        26            8  Friday  2.238404e+09          2   \n",
       "4        26            8  Friday  2.006614e+09          2   \n",
       "\n",
       "   DepartmentDescription  FinelineNumber  \n",
       "0     FINANCIAL SERVICES          1000.0  \n",
       "1                  SHOES          8931.0  \n",
       "2          PERSONAL CARE          4504.0  \n",
       "3  PAINT AND ACCESSORIES          3565.0  \n",
       "4  PAINT AND ACCESSORIES          1017.0  "
      ]
     },
     "execution_count": 4,
     "metadata": {},
     "output_type": "execute_result"
    }
   ],
   "source": [
    "train_data.head()"
   ]
  },
  {
   "cell_type": "code",
   "execution_count": 5,
   "metadata": {
    "collapsed": false
   },
   "outputs": [
    {
     "data": {
      "text/html": [
       "<div>\n",
       "<table border=\"1\" class=\"dataframe\">\n",
       "  <thead>\n",
       "    <tr style=\"text-align: right;\">\n",
       "      <th></th>\n",
       "      <th>TripType</th>\n",
       "      <th>VisitNumber</th>\n",
       "      <th>Upc</th>\n",
       "      <th>ScanCount</th>\n",
       "      <th>FinelineNumber</th>\n",
       "    </tr>\n",
       "  </thead>\n",
       "  <tbody>\n",
       "    <tr>\n",
       "      <th>count</th>\n",
       "      <td>647054.000000</td>\n",
       "      <td>647054.000000</td>\n",
       "      <td>6.429250e+05</td>\n",
       "      <td>647054.000000</td>\n",
       "      <td>642925.000000</td>\n",
       "    </tr>\n",
       "    <tr>\n",
       "      <th>mean</th>\n",
       "      <td>58.584511</td>\n",
       "      <td>96167.640078</td>\n",
       "      <td>3.060698e+10</td>\n",
       "      <td>1.108878</td>\n",
       "      <td>3726.884567</td>\n",
       "    </tr>\n",
       "    <tr>\n",
       "      <th>std</th>\n",
       "      <td>157.635533</td>\n",
       "      <td>55545.485154</td>\n",
       "      <td>9.120134e+10</td>\n",
       "      <td>0.700776</td>\n",
       "      <td>2780.966158</td>\n",
       "    </tr>\n",
       "    <tr>\n",
       "      <th>min</th>\n",
       "      <td>3.000000</td>\n",
       "      <td>5.000000</td>\n",
       "      <td>8.340000e+02</td>\n",
       "      <td>-12.000000</td>\n",
       "      <td>0.000000</td>\n",
       "    </tr>\n",
       "    <tr>\n",
       "      <th>25%</th>\n",
       "      <td>27.000000</td>\n",
       "      <td>49268.000000</td>\n",
       "      <td>3.400001e+09</td>\n",
       "      <td>1.000000</td>\n",
       "      <td>1404.000000</td>\n",
       "    </tr>\n",
       "    <tr>\n",
       "      <th>50%</th>\n",
       "      <td>39.000000</td>\n",
       "      <td>97074.000000</td>\n",
       "      <td>7.050103e+09</td>\n",
       "      <td>1.000000</td>\n",
       "      <td>3352.000000</td>\n",
       "    </tr>\n",
       "    <tr>\n",
       "      <th>75%</th>\n",
       "      <td>40.000000</td>\n",
       "      <td>144316.000000</td>\n",
       "      <td>3.006531e+10</td>\n",
       "      <td>1.000000</td>\n",
       "      <td>5501.000000</td>\n",
       "    </tr>\n",
       "    <tr>\n",
       "      <th>max</th>\n",
       "      <td>999.000000</td>\n",
       "      <td>191347.000000</td>\n",
       "      <td>9.789707e+11</td>\n",
       "      <td>71.000000</td>\n",
       "      <td>9998.000000</td>\n",
       "    </tr>\n",
       "  </tbody>\n",
       "</table>\n",
       "</div>"
      ],
      "text/plain": [
       "            TripType    VisitNumber           Upc      ScanCount  \\\n",
       "count  647054.000000  647054.000000  6.429250e+05  647054.000000   \n",
       "mean       58.584511   96167.640078  3.060698e+10       1.108878   \n",
       "std       157.635533   55545.485154  9.120134e+10       0.700776   \n",
       "min         3.000000       5.000000  8.340000e+02     -12.000000   \n",
       "25%        27.000000   49268.000000  3.400001e+09       1.000000   \n",
       "50%        39.000000   97074.000000  7.050103e+09       1.000000   \n",
       "75%        40.000000  144316.000000  3.006531e+10       1.000000   \n",
       "max       999.000000  191347.000000  9.789707e+11      71.000000   \n",
       "\n",
       "       FinelineNumber  \n",
       "count   642925.000000  \n",
       "mean      3726.884567  \n",
       "std       2780.966158  \n",
       "min          0.000000  \n",
       "25%       1404.000000  \n",
       "50%       3352.000000  \n",
       "75%       5501.000000  \n",
       "max       9998.000000  "
      ]
     },
     "execution_count": 5,
     "metadata": {},
     "output_type": "execute_result"
    }
   ],
   "source": [
    "train_data.describe()"
   ]
  },
  {
   "cell_type": "code",
   "execution_count": 6,
   "metadata": {
    "collapsed": true
   },
   "outputs": [],
   "source": [
    "test_data = pd.read_csv(data_path + 'test.csv', sep=',')"
   ]
  },
  {
   "cell_type": "code",
   "execution_count": 7,
   "metadata": {
    "collapsed": false,
    "scrolled": true
   },
   "outputs": [
    {
     "data": {
      "text/html": [
       "<div>\n",
       "<table border=\"1\" class=\"dataframe\">\n",
       "  <thead>\n",
       "    <tr style=\"text-align: right;\">\n",
       "      <th></th>\n",
       "      <th>VisitNumber</th>\n",
       "      <th>Weekday</th>\n",
       "      <th>Upc</th>\n",
       "      <th>ScanCount</th>\n",
       "      <th>DepartmentDescription</th>\n",
       "      <th>FinelineNumber</th>\n",
       "    </tr>\n",
       "  </thead>\n",
       "  <tbody>\n",
       "    <tr>\n",
       "      <th>0</th>\n",
       "      <td>1</td>\n",
       "      <td>Friday</td>\n",
       "      <td>7.250339e+10</td>\n",
       "      <td>1</td>\n",
       "      <td>SHOES</td>\n",
       "      <td>3002.0</td>\n",
       "    </tr>\n",
       "    <tr>\n",
       "      <th>1</th>\n",
       "      <td>1</td>\n",
       "      <td>Friday</td>\n",
       "      <td>1.707711e+09</td>\n",
       "      <td>1</td>\n",
       "      <td>DAIRY</td>\n",
       "      <td>1526.0</td>\n",
       "    </tr>\n",
       "    <tr>\n",
       "      <th>2</th>\n",
       "      <td>1</td>\n",
       "      <td>Friday</td>\n",
       "      <td>8.947000e+10</td>\n",
       "      <td>1</td>\n",
       "      <td>DAIRY</td>\n",
       "      <td>1431.0</td>\n",
       "    </tr>\n",
       "    <tr>\n",
       "      <th>3</th>\n",
       "      <td>1</td>\n",
       "      <td>Friday</td>\n",
       "      <td>8.849121e+10</td>\n",
       "      <td>1</td>\n",
       "      <td>GROCERY DRY GOODS</td>\n",
       "      <td>3555.0</td>\n",
       "    </tr>\n",
       "    <tr>\n",
       "      <th>4</th>\n",
       "      <td>2</td>\n",
       "      <td>Friday</td>\n",
       "      <td>2.840015e+09</td>\n",
       "      <td>1</td>\n",
       "      <td>DSD GROCERY</td>\n",
       "      <td>4408.0</td>\n",
       "    </tr>\n",
       "  </tbody>\n",
       "</table>\n",
       "</div>"
      ],
      "text/plain": [
       "   VisitNumber Weekday           Upc  ScanCount DepartmentDescription  \\\n",
       "0            1  Friday  7.250339e+10          1                 SHOES   \n",
       "1            1  Friday  1.707711e+09          1                 DAIRY   \n",
       "2            1  Friday  8.947000e+10          1                 DAIRY   \n",
       "3            1  Friday  8.849121e+10          1     GROCERY DRY GOODS   \n",
       "4            2  Friday  2.840015e+09          1           DSD GROCERY   \n",
       "\n",
       "   FinelineNumber  \n",
       "0          3002.0  \n",
       "1          1526.0  \n",
       "2          1431.0  \n",
       "3          3555.0  \n",
       "4          4408.0  "
      ]
     },
     "execution_count": 7,
     "metadata": {},
     "output_type": "execute_result"
    }
   ],
   "source": [
    "test_data.head()"
   ]
  },
  {
   "cell_type": "code",
   "execution_count": 8,
   "metadata": {
    "collapsed": false
   },
   "outputs": [
    {
     "data": {
      "image/png": "[encoded data removed]",
      "text/plain": [
       "<matplotlib.figure.Figure at 0x7f7ba7b78c50>"
      ]
     },
     "metadata": {},
     "output_type": "display_data"
    }
   ],
   "source": [
    "import matplotlib.pyplot as plt\n",
    "% matplotlib inline\n",
    "mask = (train_data['VisitNumber'] < 5000) & (train_data['VisitNumber'] > 0) \n",
    "train_data[mask]['VisitNumber'].hist(bins=1000)\n",
    "plt.show()"
   ]
  },
  {
   "cell_type": "code",
   "execution_count": 9,
   "metadata": {
    "collapsed": false
   },
   "outputs": [
    {
     "data": {
      "text/plain": [
       "Sunday       133975\n",
       "Saturday     122096\n",
       "Friday        96247\n",
       "Monday        83130\n",
       "Tuesday       72529\n",
       "Wednesday     71115\n",
       "Thursday      67962\n",
       "Name: Weekday, dtype: int64"
      ]
     },
     "execution_count": 9,
     "metadata": {},
     "output_type": "execute_result"
    }
   ],
   "source": [
    "train_data['Weekday'].value_counts()"
   ]
  },
  {
   "cell_type": "code",
   "execution_count": 69,
   "metadata": {
    "collapsed": false
   },
   "outputs": [
    {
     "data": {
      "text/plain": [
       "DepartmentDescription       69\n",
       "FinelineNumber            5196\n",
       "VisitNumber              95674\n",
       "Upc                      97715\n",
       "dtype: int64"
      ]
     },
     "execution_count": 69,
     "metadata": {},
     "output_type": "execute_result"
    }
   ],
   "source": [
    "train_data[['DepartmentDescription',\\\n",
    "            'FinelineNumber','VisitNumber','Upc']].apply(lambda x : np.unique(x).size)"
   ]
  },
  {
   "cell_type": "code",
   "execution_count": 13,
   "metadata": {
    "collapsed": false
   },
   "outputs": [
    {
     "data": {
      "text/plain": [
       "647054"
      ]
     },
     "execution_count": 13,
     "metadata": {},
     "output_type": "execute_result"
    }
   ],
   "source": [
    "len(train_data)"
   ]
  },
  {
   "cell_type": "code",
   "execution_count": 15,
   "metadata": {
    "collapsed": false,
    "scrolled": true
   },
   "outputs": [
    {
     "data": {
      "text/plain": [
       "4.011000e+03    7657\n",
       "6.053886e+10    2501\n",
       "7.874235e+09    2067\n",
       "7.874235e+09    1883\n",
       "4.046000e+03    1652\n",
       "6.811311e+10    1515\n",
       "6.053887e+10    1487\n",
       "3.338320e+09    1405\n",
       "4.087000e+03    1370\n",
       "6.053887e+10    1343\n",
       "4.900000e+09    1018\n",
       "4.062000e+03     973\n",
       "4.065000e+03     953\n",
       "4.900003e+09     896\n",
       "3.338365e+09     856\n",
       "7.874235e+09     828\n",
       "4.900005e+09     815\n",
       "6.811316e+10     778\n",
       "6.053890e+10     778\n",
       "4.078000e+03     750\n",
       "6.992216e+10     745\n",
       "7.874211e+09     719\n",
       "4.093000e+03     698\n",
       "4.900001e+09     697\n",
       "2.096650e+10     686\n",
       "6.053882e+10     644\n",
       "7.874235e+09     622\n",
       "4.051000e+03     620\n",
       "7.225004e+09     618\n",
       "3.151000e+03     561\n",
       "                ... \n",
       "7.413001e+09       1\n",
       "8.806156e+11       1\n",
       "7.278511e+09       1\n",
       "7.144151e+10       1\n",
       "6.811311e+10       1\n",
       "7.169143e+09       1\n",
       "7.583857e+10       1\n",
       "7.943761e+10       1\n",
       "7.871544e+09       1\n",
       "2.700042e+09       1\n",
       "7.659406e+10       1\n",
       "7.163396e+07       1\n",
       "7.595452e+10       1\n",
       "7.617070e+10       1\n",
       "8.434540e+10       1\n",
       "7.575587e+10       1\n",
       "4.402124e+09       1\n",
       "8.809378e+11       1\n",
       "8.108210e+10       1\n",
       "7.163405e+07       1\n",
       "8.511845e+09       1\n",
       "6.821022e+10       1\n",
       "2.898194e+09       1\n",
       "1.675132e+09       1\n",
       "8.888232e+10       1\n",
       "8.437471e+10       1\n",
       "7.644011e+09       1\n",
       "1.119231e+09       1\n",
       "7.670528e+10       1\n",
       "8.669413e+09       1\n",
       "Name: Upc, dtype: int64"
      ]
     },
     "execution_count": 15,
     "metadata": {},
     "output_type": "execute_result"
    }
   ],
   "source": [
    "train_data['Upc'].value_counts()"
   ]
  },
  {
   "cell_type": "code",
   "execution_count": 16,
   "metadata": {
    "collapsed": false
   },
   "outputs": [
    {
     "data": {
      "text/plain": [
       "<matplotlib.axes._subplots.AxesSubplot at 0x7f7bb1d95790>"
      ]
     },
     "execution_count": 16,
     "metadata": {},
     "output_type": "execute_result"
    },
    {
     "data": {
      "image/png": "[encoded data removed]",
      "text/plain": [
       "<matplotlib.figure.Figure at 0x7f7ba471f250>"
      ]
     },
     "metadata": {},
     "output_type": "display_data"
    }
   ],
   "source": [
    "mask = (train_data['ScanCount'] == -1)\n",
    "train_data[mask]['TripType'].hist(bins=100)"
   ]
  },
  {
   "cell_type": "markdown",
   "metadata": {
    "collapsed": true
   },
   "source": [
    "Encode categorical variable (DepartmentDescription) to int"
   ]
  },
  {
   "cell_type": "code",
   "execution_count": 17,
   "metadata": {
    "collapsed": false
   },
   "outputs": [],
   "source": [
    "from sklearn import preprocessing"
   ]
  },
  {
   "cell_type": "code",
   "execution_count": 18,
   "metadata": {
    "collapsed": false,
    "scrolled": true
   },
   "outputs": [
    {
     "name": "stderr",
     "output_type": "stream",
     "text": [
      "/home/wei/anaconda2/envs/pt27/lib/python2.7/site-packages/numpy/lib/arraysetops.py:200: FutureWarning: numpy not_equal will not check object identity in the future. The comparison did not return the same result as suggested by the identity (`is`)) and will change.\n",
      "  flag = np.concatenate(([True], aux[1:] != aux[:-1]))\n"
     ]
    },
    {
     "data": {
      "text/plain": [
       "LabelEncoder()"
      ]
     },
     "execution_count": 18,
     "metadata": {},
     "output_type": "execute_result"
    }
   ],
   "source": [
    "dd_le = preprocessing.LabelEncoder()\n",
    "dd_le.fit(train_data['DepartmentDescription'])"
   ]
  },
  {
   "cell_type": "code",
   "execution_count": 19,
   "metadata": {
    "collapsed": false
   },
   "outputs": [
    {
     "name": "stderr",
     "output_type": "stream",
     "text": [
      "/home/wei/anaconda2/envs/pt27/lib/python2.7/site-packages/numpy/lib/arraysetops.py:259: FutureWarning: numpy equal will not check object identity in the future. The comparison did not return the same result as suggested by the identity (`is`)) and will change.\n",
      "  return aux[:-1][aux[1:] == aux[:-1]]\n"
     ]
    }
   ],
   "source": [
    "train_data['Encoded_DepDes'] = dd_le.transform(train_data['DepartmentDescription'])"
   ]
  },
  {
   "cell_type": "code",
   "execution_count": 20,
   "metadata": {
    "collapsed": false
   },
   "outputs": [],
   "source": [
    "import numpy as np\n",
    "train_data['Upc'] = train_data['Upc'].fillna(0)"
   ]
  },
  {
   "cell_type": "code",
   "execution_count": 21,
   "metadata": {
    "collapsed": false
   },
   "outputs": [],
   "source": [
    "upc_le = preprocessing.LabelEncoder()\n",
    "upc_le.fit(train_data['Upc'])\n",
    "train_data['Encoded_Upc'] = upc_le.transform(train_data['Upc'])"
   ]
  },
  {
   "cell_type": "code",
   "execution_count": 22,
   "metadata": {
    "collapsed": false
   },
   "outputs": [],
   "source": [
    "wd_dict = {'Monday':1, 'Tuesday':2, 'Wednesday':3, 'Thursday':4, 'Friday':5, 'Saturday':6, 'Sunday':7}\n",
    "for key, value in wd_dict.items():\n",
    "    train_data['Weekday'].replace(key, value, inplace=True)"
   ]
  },
  {
   "cell_type": "code",
   "execution_count": 23,
   "metadata": {
    "collapsed": true
   },
   "outputs": [],
   "source": [
    "train_data['Encoded_Weekday'] = train_data['Weekday']"
   ]
  },
  {
   "cell_type": "code",
   "execution_count": 24,
   "metadata": {
    "collapsed": false
   },
   "outputs": [],
   "source": [
    "train_data['FinelineNumber'] \\\n",
    "= train_data['FinelineNumber'].fillna(-1).astype('int')"
   ]
  },
  {
   "cell_type": "code",
   "execution_count": 25,
   "metadata": {
    "collapsed": false
   },
   "outputs": [],
   "source": [
    "cleaned_train_data \\\n",
    "= train_data.drop(['Weekday', 'Upc', 'DepartmentDescription'], axis=1)"
   ]
  },
  {
   "cell_type": "code",
   "execution_count": 26,
   "metadata": {
    "collapsed": false,
    "scrolled": false
   },
   "outputs": [
    {
     "data": {
      "text/html": [
       "<div>\n",
       "<table border=\"1\" class=\"dataframe\">\n",
       "  <thead>\n",
       "    <tr style=\"text-align: right;\">\n",
       "      <th></th>\n",
       "      <th>TripType</th>\n",
       "      <th>VisitNumber</th>\n",
       "      <th>ScanCount</th>\n",
       "      <th>FinelineNumber</th>\n",
       "      <th>Encoded_DepDes</th>\n",
       "      <th>Encoded_Upc</th>\n",
       "      <th>Encoded_Weekday</th>\n",
       "    </tr>\n",
       "  </thead>\n",
       "  <tbody>\n",
       "    <tr>\n",
       "      <th>0</th>\n",
       "      <td>999</td>\n",
       "      <td>5</td>\n",
       "      <td>-1</td>\n",
       "      <td>1000</td>\n",
       "      <td>21</td>\n",
       "      <td>66661</td>\n",
       "      <td>5</td>\n",
       "    </tr>\n",
       "    <tr>\n",
       "      <th>1</th>\n",
       "      <td>30</td>\n",
       "      <td>7</td>\n",
       "      <td>1</td>\n",
       "      <td>8931</td>\n",
       "      <td>63</td>\n",
       "      <td>58982</td>\n",
       "      <td>5</td>\n",
       "    </tr>\n",
       "    <tr>\n",
       "      <th>2</th>\n",
       "      <td>30</td>\n",
       "      <td>7</td>\n",
       "      <td>1</td>\n",
       "      <td>4504</td>\n",
       "      <td>51</td>\n",
       "      <td>41387</td>\n",
       "      <td>5</td>\n",
       "    </tr>\n",
       "    <tr>\n",
       "      <th>3</th>\n",
       "      <td>26</td>\n",
       "      <td>8</td>\n",
       "      <td>2</td>\n",
       "      <td>3565</td>\n",
       "      <td>50</td>\n",
       "      <td>9252</td>\n",
       "      <td>5</td>\n",
       "    </tr>\n",
       "    <tr>\n",
       "      <th>4</th>\n",
       "      <td>26</td>\n",
       "      <td>8</td>\n",
       "      <td>2</td>\n",
       "      <td>1017</td>\n",
       "      <td>50</td>\n",
       "      <td>7860</td>\n",
       "      <td>5</td>\n",
       "    </tr>\n",
       "  </tbody>\n",
       "</table>\n",
       "</div>"
      ],
      "text/plain": [
       "   TripType  VisitNumber  ScanCount  FinelineNumber  Encoded_DepDes  \\\n",
       "0       999            5         -1            1000              21   \n",
       "1        30            7          1            8931              63   \n",
       "2        30            7          1            4504              51   \n",
       "3        26            8          2            3565              50   \n",
       "4        26            8          2            1017              50   \n",
       "\n",
       "   Encoded_Upc  Encoded_Weekday  \n",
       "0        66661                5  \n",
       "1        58982                5  \n",
       "2        41387                5  \n",
       "3         9252                5  \n",
       "4         7860                5  "
      ]
     },
     "execution_count": 26,
     "metadata": {},
     "output_type": "execute_result"
    }
   ],
   "source": [
    "cleaned_train_data.head()"
   ]
  },
  {
   "cell_type": "code",
   "execution_count": 27,
   "metadata": {
    "collapsed": false,
    "scrolled": true
   },
   "outputs": [
    {
     "data": {
      "text/html": [
       "<div>\n",
       "<table border=\"1\" class=\"dataframe\">\n",
       "  <thead>\n",
       "    <tr style=\"text-align: right;\">\n",
       "      <th></th>\n",
       "      <th>TripType</th>\n",
       "      <th>VisitNumber</th>\n",
       "      <th>ScanCount</th>\n",
       "      <th>FinelineNumber</th>\n",
       "      <th>Encoded_DepDes</th>\n",
       "      <th>Encoded_Upc</th>\n",
       "      <th>Encoded_Weekday</th>\n",
       "    </tr>\n",
       "  </thead>\n",
       "  <tbody>\n",
       "    <tr>\n",
       "      <th>0</th>\n",
       "      <td>0</td>\n",
       "      <td>5</td>\n",
       "      <td>-1</td>\n",
       "      <td>1000</td>\n",
       "      <td>21</td>\n",
       "      <td>66661</td>\n",
       "      <td>5</td>\n",
       "    </tr>\n",
       "    <tr>\n",
       "      <th>1</th>\n",
       "      <td>30</td>\n",
       "      <td>7</td>\n",
       "      <td>1</td>\n",
       "      <td>8931</td>\n",
       "      <td>63</td>\n",
       "      <td>58982</td>\n",
       "      <td>5</td>\n",
       "    </tr>\n",
       "    <tr>\n",
       "      <th>2</th>\n",
       "      <td>30</td>\n",
       "      <td>7</td>\n",
       "      <td>1</td>\n",
       "      <td>4504</td>\n",
       "      <td>51</td>\n",
       "      <td>41387</td>\n",
       "      <td>5</td>\n",
       "    </tr>\n",
       "    <tr>\n",
       "      <th>3</th>\n",
       "      <td>26</td>\n",
       "      <td>8</td>\n",
       "      <td>2</td>\n",
       "      <td>3565</td>\n",
       "      <td>50</td>\n",
       "      <td>9252</td>\n",
       "      <td>5</td>\n",
       "    </tr>\n",
       "    <tr>\n",
       "      <th>4</th>\n",
       "      <td>26</td>\n",
       "      <td>8</td>\n",
       "      <td>2</td>\n",
       "      <td>1017</td>\n",
       "      <td>50</td>\n",
       "      <td>7860</td>\n",
       "      <td>5</td>\n",
       "    </tr>\n",
       "    <tr>\n",
       "      <th>5</th>\n",
       "      <td>26</td>\n",
       "      <td>8</td>\n",
       "      <td>2</td>\n",
       "      <td>1017</td>\n",
       "      <td>50</td>\n",
       "      <td>7871</td>\n",
       "      <td>5</td>\n",
       "    </tr>\n",
       "    <tr>\n",
       "      <th>6</th>\n",
       "      <td>26</td>\n",
       "      <td>8</td>\n",
       "      <td>1</td>\n",
       "      <td>1017</td>\n",
       "      <td>50</td>\n",
       "      <td>7859</td>\n",
       "      <td>5</td>\n",
       "    </tr>\n",
       "    <tr>\n",
       "      <th>7</th>\n",
       "      <td>26</td>\n",
       "      <td>8</td>\n",
       "      <td>1</td>\n",
       "      <td>2802</td>\n",
       "      <td>50</td>\n",
       "      <td>35057</td>\n",
       "      <td>5</td>\n",
       "    </tr>\n",
       "    <tr>\n",
       "      <th>8</th>\n",
       "      <td>26</td>\n",
       "      <td>8</td>\n",
       "      <td>1</td>\n",
       "      <td>4501</td>\n",
       "      <td>50</td>\n",
       "      <td>9272</td>\n",
       "      <td>5</td>\n",
       "    </tr>\n",
       "    <tr>\n",
       "      <th>9</th>\n",
       "      <td>26</td>\n",
       "      <td>8</td>\n",
       "      <td>-1</td>\n",
       "      <td>3565</td>\n",
       "      <td>50</td>\n",
       "      <td>9245</td>\n",
       "      <td>5</td>\n",
       "    </tr>\n",
       "    <tr>\n",
       "      <th>10</th>\n",
       "      <td>26</td>\n",
       "      <td>8</td>\n",
       "      <td>1</td>\n",
       "      <td>4606</td>\n",
       "      <td>18</td>\n",
       "      <td>32950</td>\n",
       "      <td>5</td>\n",
       "    </tr>\n",
       "    <tr>\n",
       "      <th>11</th>\n",
       "      <td>26</td>\n",
       "      <td>8</td>\n",
       "      <td>2</td>\n",
       "      <td>3504</td>\n",
       "      <td>50</td>\n",
       "      <td>89611</td>\n",
       "      <td>5</td>\n",
       "    </tr>\n",
       "    <tr>\n",
       "      <th>12</th>\n",
       "      <td>26</td>\n",
       "      <td>8</td>\n",
       "      <td>1</td>\n",
       "      <td>6009</td>\n",
       "      <td>42</td>\n",
       "      <td>55249</td>\n",
       "      <td>5</td>\n",
       "    </tr>\n",
       "    <tr>\n",
       "      <th>13</th>\n",
       "      <td>26</td>\n",
       "      <td>8</td>\n",
       "      <td>1</td>\n",
       "      <td>7</td>\n",
       "      <td>50</td>\n",
       "      <td>9242</td>\n",
       "      <td>5</td>\n",
       "    </tr>\n",
       "    <tr>\n",
       "      <th>14</th>\n",
       "      <td>26</td>\n",
       "      <td>8</td>\n",
       "      <td>-1</td>\n",
       "      <td>3504</td>\n",
       "      <td>50</td>\n",
       "      <td>89611</td>\n",
       "      <td>5</td>\n",
       "    </tr>\n",
       "    <tr>\n",
       "      <th>15</th>\n",
       "      <td>26</td>\n",
       "      <td>8</td>\n",
       "      <td>2</td>\n",
       "      <td>3565</td>\n",
       "      <td>50</td>\n",
       "      <td>9245</td>\n",
       "      <td>5</td>\n",
       "    </tr>\n",
       "    <tr>\n",
       "      <th>16</th>\n",
       "      <td>26</td>\n",
       "      <td>8</td>\n",
       "      <td>1</td>\n",
       "      <td>2801</td>\n",
       "      <td>50</td>\n",
       "      <td>14637</td>\n",
       "      <td>5</td>\n",
       "    </tr>\n",
       "    <tr>\n",
       "      <th>17</th>\n",
       "      <td>26</td>\n",
       "      <td>8</td>\n",
       "      <td>1</td>\n",
       "      <td>1028</td>\n",
       "      <td>50</td>\n",
       "      <td>70353</td>\n",
       "      <td>5</td>\n",
       "    </tr>\n",
       "    <tr>\n",
       "      <th>18</th>\n",
       "      <td>26</td>\n",
       "      <td>8</td>\n",
       "      <td>2</td>\n",
       "      <td>1305</td>\n",
       "      <td>17</td>\n",
       "      <td>55575</td>\n",
       "      <td>5</td>\n",
       "    </tr>\n",
       "    <tr>\n",
       "      <th>19</th>\n",
       "      <td>26</td>\n",
       "      <td>8</td>\n",
       "      <td>1</td>\n",
       "      <td>3300</td>\n",
       "      <td>52</td>\n",
       "      <td>10097</td>\n",
       "      <td>5</td>\n",
       "    </tr>\n",
       "    <tr>\n",
       "      <th>20</th>\n",
       "      <td>26</td>\n",
       "      <td>8</td>\n",
       "      <td>2</td>\n",
       "      <td>1018</td>\n",
       "      <td>50</td>\n",
       "      <td>70342</td>\n",
       "      <td>5</td>\n",
       "    </tr>\n",
       "    <tr>\n",
       "      <th>21</th>\n",
       "      <td>26</td>\n",
       "      <td>8</td>\n",
       "      <td>1</td>\n",
       "      <td>707</td>\n",
       "      <td>31</td>\n",
       "      <td>47596</td>\n",
       "      <td>5</td>\n",
       "    </tr>\n",
       "    <tr>\n",
       "      <th>22</th>\n",
       "      <td>26</td>\n",
       "      <td>8</td>\n",
       "      <td>1</td>\n",
       "      <td>4415</td>\n",
       "      <td>50</td>\n",
       "      <td>32488</td>\n",
       "      <td>5</td>\n",
       "    </tr>\n",
       "    <tr>\n",
       "      <th>23</th>\n",
       "      <td>26</td>\n",
       "      <td>8</td>\n",
       "      <td>1</td>\n",
       "      <td>4415</td>\n",
       "      <td>50</td>\n",
       "      <td>32572</td>\n",
       "      <td>5</td>\n",
       "    </tr>\n",
       "    <tr>\n",
       "      <th>24</th>\n",
       "      <td>26</td>\n",
       "      <td>8</td>\n",
       "      <td>3</td>\n",
       "      <td>1001</td>\n",
       "      <td>52</td>\n",
       "      <td>15820</td>\n",
       "      <td>5</td>\n",
       "    </tr>\n",
       "    <tr>\n",
       "      <th>25</th>\n",
       "      <td>26</td>\n",
       "      <td>8</td>\n",
       "      <td>1</td>\n",
       "      <td>-1</td>\n",
       "      <td>0</td>\n",
       "      <td>0</td>\n",
       "      <td>5</td>\n",
       "    </tr>\n",
       "    <tr>\n",
       "      <th>26</th>\n",
       "      <td>8</td>\n",
       "      <td>9</td>\n",
       "      <td>1</td>\n",
       "      <td>115</td>\n",
       "      <td>33</td>\n",
       "      <td>958</td>\n",
       "      <td>5</td>\n",
       "    </tr>\n",
       "    <tr>\n",
       "      <th>27</th>\n",
       "      <td>8</td>\n",
       "      <td>9</td>\n",
       "      <td>1</td>\n",
       "      <td>103</td>\n",
       "      <td>58</td>\n",
       "      <td>7</td>\n",
       "      <td>5</td>\n",
       "    </tr>\n",
       "    <tr>\n",
       "      <th>28</th>\n",
       "      <td>8</td>\n",
       "      <td>9</td>\n",
       "      <td>1</td>\n",
       "      <td>5501</td>\n",
       "      <td>58</td>\n",
       "      <td>23</td>\n",
       "      <td>5</td>\n",
       "    </tr>\n",
       "    <tr>\n",
       "      <th>29</th>\n",
       "      <td>8</td>\n",
       "      <td>10</td>\n",
       "      <td>1</td>\n",
       "      <td>2008</td>\n",
       "      <td>18</td>\n",
       "      <td>34345</td>\n",
       "      <td>5</td>\n",
       "    </tr>\n",
       "    <tr>\n",
       "      <th>...</th>\n",
       "      <td>...</td>\n",
       "      <td>...</td>\n",
       "      <td>...</td>\n",
       "      <td>...</td>\n",
       "      <td>...</td>\n",
       "      <td>...</td>\n",
       "      <td>...</td>\n",
       "    </tr>\n",
       "    <tr>\n",
       "      <th>647024</th>\n",
       "      <td>39</td>\n",
       "      <td>191345</td>\n",
       "      <td>2</td>\n",
       "      <td>5532</td>\n",
       "      <td>53</td>\n",
       "      <td>57259</td>\n",
       "      <td>7</td>\n",
       "    </tr>\n",
       "    <tr>\n",
       "      <th>647025</th>\n",
       "      <td>39</td>\n",
       "      <td>191345</td>\n",
       "      <td>1</td>\n",
       "      <td>2764</td>\n",
       "      <td>25</td>\n",
       "      <td>20485</td>\n",
       "      <td>7</td>\n",
       "    </tr>\n",
       "    <tr>\n",
       "      <th>647026</th>\n",
       "      <td>39</td>\n",
       "      <td>191345</td>\n",
       "      <td>1</td>\n",
       "      <td>2764</td>\n",
       "      <td>25</td>\n",
       "      <td>20489</td>\n",
       "      <td>7</td>\n",
       "    </tr>\n",
       "    <tr>\n",
       "      <th>647027</th>\n",
       "      <td>39</td>\n",
       "      <td>191345</td>\n",
       "      <td>1</td>\n",
       "      <td>3702</td>\n",
       "      <td>14</td>\n",
       "      <td>39385</td>\n",
       "      <td>7</td>\n",
       "    </tr>\n",
       "    <tr>\n",
       "      <th>647028</th>\n",
       "      <td>39</td>\n",
       "      <td>191345</td>\n",
       "      <td>1</td>\n",
       "      <td>9513</td>\n",
       "      <td>18</td>\n",
       "      <td>45847</td>\n",
       "      <td>7</td>\n",
       "    </tr>\n",
       "    <tr>\n",
       "      <th>647029</th>\n",
       "      <td>39</td>\n",
       "      <td>191345</td>\n",
       "      <td>1</td>\n",
       "      <td>1266</td>\n",
       "      <td>19</td>\n",
       "      <td>4419</td>\n",
       "      <td>7</td>\n",
       "    </tr>\n",
       "    <tr>\n",
       "      <th>647030</th>\n",
       "      <td>39</td>\n",
       "      <td>191345</td>\n",
       "      <td>2</td>\n",
       "      <td>3719</td>\n",
       "      <td>14</td>\n",
       "      <td>30179</td>\n",
       "      <td>7</td>\n",
       "    </tr>\n",
       "    <tr>\n",
       "      <th>647031</th>\n",
       "      <td>39</td>\n",
       "      <td>191345</td>\n",
       "      <td>1</td>\n",
       "      <td>4503</td>\n",
       "      <td>6</td>\n",
       "      <td>56135</td>\n",
       "      <td>7</td>\n",
       "    </tr>\n",
       "    <tr>\n",
       "      <th>647032</th>\n",
       "      <td>39</td>\n",
       "      <td>191345</td>\n",
       "      <td>2</td>\n",
       "      <td>3903</td>\n",
       "      <td>18</td>\n",
       "      <td>14609</td>\n",
       "      <td>7</td>\n",
       "    </tr>\n",
       "    <tr>\n",
       "      <th>647033</th>\n",
       "      <td>39</td>\n",
       "      <td>191345</td>\n",
       "      <td>1</td>\n",
       "      <td>3510</td>\n",
       "      <td>31</td>\n",
       "      <td>40096</td>\n",
       "      <td>7</td>\n",
       "    </tr>\n",
       "    <tr>\n",
       "      <th>647034</th>\n",
       "      <td>39</td>\n",
       "      <td>191345</td>\n",
       "      <td>1</td>\n",
       "      <td>1006</td>\n",
       "      <td>32</td>\n",
       "      <td>19050</td>\n",
       "      <td>7</td>\n",
       "    </tr>\n",
       "    <tr>\n",
       "      <th>647035</th>\n",
       "      <td>39</td>\n",
       "      <td>191346</td>\n",
       "      <td>1</td>\n",
       "      <td>1104</td>\n",
       "      <td>25</td>\n",
       "      <td>19586</td>\n",
       "      <td>7</td>\n",
       "    </tr>\n",
       "    <tr>\n",
       "      <th>647036</th>\n",
       "      <td>39</td>\n",
       "      <td>191346</td>\n",
       "      <td>1</td>\n",
       "      <td>7601</td>\n",
       "      <td>58</td>\n",
       "      <td>16151</td>\n",
       "      <td>7</td>\n",
       "    </tr>\n",
       "    <tr>\n",
       "      <th>647037</th>\n",
       "      <td>39</td>\n",
       "      <td>191346</td>\n",
       "      <td>1</td>\n",
       "      <td>2302</td>\n",
       "      <td>25</td>\n",
       "      <td>23038</td>\n",
       "      <td>7</td>\n",
       "    </tr>\n",
       "    <tr>\n",
       "      <th>647038</th>\n",
       "      <td>39</td>\n",
       "      <td>191346</td>\n",
       "      <td>1</td>\n",
       "      <td>2351</td>\n",
       "      <td>25</td>\n",
       "      <td>4169</td>\n",
       "      <td>7</td>\n",
       "    </tr>\n",
       "    <tr>\n",
       "      <th>647039</th>\n",
       "      <td>39</td>\n",
       "      <td>191346</td>\n",
       "      <td>1</td>\n",
       "      <td>4636</td>\n",
       "      <td>18</td>\n",
       "      <td>48898</td>\n",
       "      <td>7</td>\n",
       "    </tr>\n",
       "    <tr>\n",
       "      <th>647040</th>\n",
       "      <td>39</td>\n",
       "      <td>191346</td>\n",
       "      <td>1</td>\n",
       "      <td>8910</td>\n",
       "      <td>31</td>\n",
       "      <td>18588</td>\n",
       "      <td>7</td>\n",
       "    </tr>\n",
       "    <tr>\n",
       "      <th>647041</th>\n",
       "      <td>39</td>\n",
       "      <td>191346</td>\n",
       "      <td>1</td>\n",
       "      <td>2409</td>\n",
       "      <td>25</td>\n",
       "      <td>33763</td>\n",
       "      <td>7</td>\n",
       "    </tr>\n",
       "    <tr>\n",
       "      <th>647042</th>\n",
       "      <td>39</td>\n",
       "      <td>191346</td>\n",
       "      <td>1</td>\n",
       "      <td>6158</td>\n",
       "      <td>42</td>\n",
       "      <td>9712</td>\n",
       "      <td>7</td>\n",
       "    </tr>\n",
       "    <tr>\n",
       "      <th>647043</th>\n",
       "      <td>39</td>\n",
       "      <td>191346</td>\n",
       "      <td>1</td>\n",
       "      <td>1110</td>\n",
       "      <td>53</td>\n",
       "      <td>18092</td>\n",
       "      <td>7</td>\n",
       "    </tr>\n",
       "    <tr>\n",
       "      <th>647044</th>\n",
       "      <td>39</td>\n",
       "      <td>191346</td>\n",
       "      <td>1</td>\n",
       "      <td>3107</td>\n",
       "      <td>25</td>\n",
       "      <td>31624</td>\n",
       "      <td>7</td>\n",
       "    </tr>\n",
       "    <tr>\n",
       "      <th>647045</th>\n",
       "      <td>39</td>\n",
       "      <td>191346</td>\n",
       "      <td>1</td>\n",
       "      <td>7955</td>\n",
       "      <td>17</td>\n",
       "      <td>47480</td>\n",
       "      <td>7</td>\n",
       "    </tr>\n",
       "    <tr>\n",
       "      <th>647046</th>\n",
       "      <td>39</td>\n",
       "      <td>191346</td>\n",
       "      <td>1</td>\n",
       "      <td>4639</td>\n",
       "      <td>18</td>\n",
       "      <td>15065</td>\n",
       "      <td>7</td>\n",
       "    </tr>\n",
       "    <tr>\n",
       "      <th>647047</th>\n",
       "      <td>39</td>\n",
       "      <td>191346</td>\n",
       "      <td>1</td>\n",
       "      <td>4639</td>\n",
       "      <td>18</td>\n",
       "      <td>15086</td>\n",
       "      <td>7</td>\n",
       "    </tr>\n",
       "    <tr>\n",
       "      <th>647048</th>\n",
       "      <td>39</td>\n",
       "      <td>191346</td>\n",
       "      <td>1</td>\n",
       "      <td>8947</td>\n",
       "      <td>31</td>\n",
       "      <td>19249</td>\n",
       "      <td>7</td>\n",
       "    </tr>\n",
       "    <tr>\n",
       "      <th>647049</th>\n",
       "      <td>39</td>\n",
       "      <td>191346</td>\n",
       "      <td>1</td>\n",
       "      <td>1118</td>\n",
       "      <td>53</td>\n",
       "      <td>56981</td>\n",
       "      <td>7</td>\n",
       "    </tr>\n",
       "    <tr>\n",
       "      <th>647050</th>\n",
       "      <td>39</td>\n",
       "      <td>191346</td>\n",
       "      <td>1</td>\n",
       "      <td>1752</td>\n",
       "      <td>22</td>\n",
       "      <td>47692</td>\n",
       "      <td>7</td>\n",
       "    </tr>\n",
       "    <tr>\n",
       "      <th>647051</th>\n",
       "      <td>39</td>\n",
       "      <td>191346</td>\n",
       "      <td>1</td>\n",
       "      <td>4170</td>\n",
       "      <td>58</td>\n",
       "      <td>67</td>\n",
       "      <td>7</td>\n",
       "    </tr>\n",
       "    <tr>\n",
       "      <th>647052</th>\n",
       "      <td>8</td>\n",
       "      <td>191347</td>\n",
       "      <td>1</td>\n",
       "      <td>1512</td>\n",
       "      <td>17</td>\n",
       "      <td>24000</td>\n",
       "      <td>7</td>\n",
       "    </tr>\n",
       "    <tr>\n",
       "      <th>647053</th>\n",
       "      <td>8</td>\n",
       "      <td>191347</td>\n",
       "      <td>1</td>\n",
       "      <td>3600</td>\n",
       "      <td>25</td>\n",
       "      <td>19933</td>\n",
       "      <td>7</td>\n",
       "    </tr>\n",
       "  </tbody>\n",
       "</table>\n",
       "<p>647054 rows × 7 columns</p>\n",
       "</div>"
      ],
      "text/plain": [
       "        TripType  VisitNumber  ScanCount  FinelineNumber  Encoded_DepDes  \\\n",
       "0              0            5         -1            1000              21   \n",
       "1             30            7          1            8931              63   \n",
       "2             30            7          1            4504              51   \n",
       "3             26            8          2            3565              50   \n",
       "4             26            8          2            1017              50   \n",
       "5             26            8          2            1017              50   \n",
       "6             26            8          1            1017              50   \n",
       "7             26            8          1            2802              50   \n",
       "8             26            8          1            4501              50   \n",
       "9             26            8         -1            3565              50   \n",
       "10            26            8          1            4606              18   \n",
       "11            26            8          2            3504              50   \n",
       "12            26            8          1            6009              42   \n",
       "13            26            8          1               7              50   \n",
       "14            26            8         -1            3504              50   \n",
       "15            26            8          2            3565              50   \n",
       "16            26            8          1            2801              50   \n",
       "17            26            8          1            1028              50   \n",
       "18            26            8          2            1305              17   \n",
       "19            26            8          1            3300              52   \n",
       "20            26            8          2            1018              50   \n",
       "21            26            8          1             707              31   \n",
       "22            26            8          1            4415              50   \n",
       "23            26            8          1            4415              50   \n",
       "24            26            8          3            1001              52   \n",
       "25            26            8          1              -1               0   \n",
       "26             8            9          1             115              33   \n",
       "27             8            9          1             103              58   \n",
       "28             8            9          1            5501              58   \n",
       "29             8           10          1            2008              18   \n",
       "...          ...          ...        ...             ...             ...   \n",
       "647024        39       191345          2            5532              53   \n",
       "647025        39       191345          1            2764              25   \n",
       "647026        39       191345          1            2764              25   \n",
       "647027        39       191345          1            3702              14   \n",
       "647028        39       191345          1            9513              18   \n",
       "647029        39       191345          1            1266              19   \n",
       "647030        39       191345          2            3719              14   \n",
       "647031        39       191345          1            4503               6   \n",
       "647032        39       191345          2            3903              18   \n",
       "647033        39       191345          1            3510              31   \n",
       "647034        39       191345          1            1006              32   \n",
       "647035        39       191346          1            1104              25   \n",
       "647036        39       191346          1            7601              58   \n",
       "647037        39       191346          1            2302              25   \n",
       "647038        39       191346          1            2351              25   \n",
       "647039        39       191346          1            4636              18   \n",
       "647040        39       191346          1            8910              31   \n",
       "647041        39       191346          1            2409              25   \n",
       "647042        39       191346          1            6158              42   \n",
       "647043        39       191346          1            1110              53   \n",
       "647044        39       191346          1            3107              25   \n",
       "647045        39       191346          1            7955              17   \n",
       "647046        39       191346          1            4639              18   \n",
       "647047        39       191346          1            4639              18   \n",
       "647048        39       191346          1            8947              31   \n",
       "647049        39       191346          1            1118              53   \n",
       "647050        39       191346          1            1752              22   \n",
       "647051        39       191346          1            4170              58   \n",
       "647052         8       191347          1            1512              17   \n",
       "647053         8       191347          1            3600              25   \n",
       "\n",
       "        Encoded_Upc  Encoded_Weekday  \n",
       "0             66661                5  \n",
       "1             58982                5  \n",
       "2             41387                5  \n",
       "3              9252                5  \n",
       "4              7860                5  \n",
       "5              7871                5  \n",
       "6              7859                5  \n",
       "7             35057                5  \n",
       "8              9272                5  \n",
       "9              9245                5  \n",
       "10            32950                5  \n",
       "11            89611                5  \n",
       "12            55249                5  \n",
       "13             9242                5  \n",
       "14            89611                5  \n",
       "15             9245                5  \n",
       "16            14637                5  \n",
       "17            70353                5  \n",
       "18            55575                5  \n",
       "19            10097                5  \n",
       "20            70342                5  \n",
       "21            47596                5  \n",
       "22            32488                5  \n",
       "23            32572                5  \n",
       "24            15820                5  \n",
       "25                0                5  \n",
       "26              958                5  \n",
       "27                7                5  \n",
       "28               23                5  \n",
       "29            34345                5  \n",
       "...             ...              ...  \n",
       "647024        57259                7  \n",
       "647025        20485                7  \n",
       "647026        20489                7  \n",
       "647027        39385                7  \n",
       "647028        45847                7  \n",
       "647029         4419                7  \n",
       "647030        30179                7  \n",
       "647031        56135                7  \n",
       "647032        14609                7  \n",
       "647033        40096                7  \n",
       "647034        19050                7  \n",
       "647035        19586                7  \n",
       "647036        16151                7  \n",
       "647037        23038                7  \n",
       "647038         4169                7  \n",
       "647039        48898                7  \n",
       "647040        18588                7  \n",
       "647041        33763                7  \n",
       "647042         9712                7  \n",
       "647043        18092                7  \n",
       "647044        31624                7  \n",
       "647045        47480                7  \n",
       "647046        15065                7  \n",
       "647047        15086                7  \n",
       "647048        19249                7  \n",
       "647049        56981                7  \n",
       "647050        47692                7  \n",
       "647051           67                7  \n",
       "647052        24000                7  \n",
       "647053        19933                7  \n",
       "\n",
       "[647054 rows x 7 columns]"
      ]
     },
     "execution_count": 27,
     "metadata": {},
     "output_type": "execute_result"
    }
   ],
   "source": [
    "cleaned_train_data.set_value(cleaned_train_data['TripType']==999,'TripType', 0)"
   ]
  },
  {
   "cell_type": "code",
   "execution_count": 28,
   "metadata": {
    "collapsed": false
   },
   "outputs": [],
   "source": [
    "#import seaborn as sns\n",
    "#pair_corr = sns.pairplot(cleaned_train_data)"
   ]
  },
  {
   "cell_type": "code",
   "execution_count": 29,
   "metadata": {
    "collapsed": false
   },
   "outputs": [],
   "source": [
    "#wd_vn_corr = sns.pairplot(cleaned_train_data, x_vars=[\"Encoded_Weekday\"], y_vars=[\"VisitNumber\"])"
   ]
  },
  {
   "cell_type": "code",
   "execution_count": 30,
   "metadata": {
    "collapsed": false
   },
   "outputs": [],
   "source": [
    "#from bokeh.charts import Scatter, output_file, show\n",
    "\n",
    "#p = Scatter(cleaned_train_data, x='Encoded_Weekday', y='VisitNumber', title=\"Weekday vs VisitNumber\", color=\"navy\",\n",
    "#            xlabel=\"Encoded_Weekday\", ylabel=\"VisitNumber\")\n",
    "\n",
    "#output_file(\"scatter.html\")\n",
    "\n",
    "#show(p)"
   ]
  },
  {
   "cell_type": "code",
   "execution_count": 31,
   "metadata": {
    "collapsed": false
   },
   "outputs": [],
   "source": [
    "#from bokeh.charts import Histogram\n",
    "#hist = Histogram(cleaned_train_data['ScanCount'], title=\"Histogram of ScanCount\")\n",
    "#show(hist)"
   ]
  },
  {
   "cell_type": "code",
   "execution_count": 32,
   "metadata": {
    "collapsed": false
   },
   "outputs": [
    {
     "data": {
      "text/plain": [
       "array([[<matplotlib.axes._subplots.AxesSubplot object at 0x7f7ba450fbd0>,\n",
       "        <matplotlib.axes._subplots.AxesSubplot object at 0x7f7ba44b0c90>,\n",
       "        <matplotlib.axes._subplots.AxesSubplot object at 0x7f7ba43c5910>],\n",
       "       [<matplotlib.axes._subplots.AxesSubplot object at 0x7f7ba43ade90>,\n",
       "        <matplotlib.axes._subplots.AxesSubplot object at 0x7f7ba4342290>,\n",
       "        <matplotlib.axes._subplots.AxesSubplot object at 0x7f7ba434af50>],\n",
       "       [<matplotlib.axes._subplots.AxesSubplot object at 0x7f7ba41d1b90>,\n",
       "        <matplotlib.axes._subplots.AxesSubplot object at 0x7f7ba41626d0>,\n",
       "        <matplotlib.axes._subplots.AxesSubplot object at 0x7f7ba47fd950>]], dtype=object)"
      ]
     },
     "execution_count": 32,
     "metadata": {},
     "output_type": "execute_result"
    },
    {
     "data": {
      "image/png": "[encoded data removed]",
      "text/plain": [
       "<matplotlib.figure.Figure at 0x7f7ba452ae50>"
      ]
     },
     "metadata": {},
     "output_type": "display_data"
    }
   ],
   "source": [
    "cleaned_train_data['ScanCount'].hist(by=cleaned_train_data['Encoded_Weekday'], bins=100, range=(-1,5))"
   ]
  },
  {
   "cell_type": "code",
   "execution_count": 33,
   "metadata": {
    "collapsed": false
   },
   "outputs": [
    {
     "data": {
      "text/plain": [
       "Encoded_Weekday\n",
       "1     92440\n",
       "2     80667\n",
       "3     78711\n",
       "4     75433\n",
       "5    106945\n",
       "6    135158\n",
       "7    148150\n",
       "Name: ScanCount, dtype: int64"
      ]
     },
     "execution_count": 33,
     "metadata": {},
     "output_type": "execute_result"
    }
   ],
   "source": [
    "cleaned_train_data.groupby('Encoded_Weekday')['ScanCount'].sum()"
   ]
  },
  {
   "cell_type": "code",
   "execution_count": 34,
   "metadata": {
    "collapsed": false
   },
   "outputs": [],
   "source": [
    "#from bokeh.charts import BoxPlot\n",
    "#p = BoxPlot(cleaned_train_data, label='Encoded_Weekday', values='ScanCount')\n",
    "#show(p)\n"
   ]
  },
  {
   "cell_type": "code",
   "execution_count": 35,
   "metadata": {
    "collapsed": false
   },
   "outputs": [],
   "source": [
    "#from bokeh.charts import Scatter, output_file, show\n",
    "\n",
    "#p = Scatter(cleaned_train_data, x='Encoded_DepDes', y='Encoded_Upc', title=\"DepDes vs Upc\", color=\"navy\",\n",
    "#            xlabel=\"DepDes\", ylabel=\"Upc\")\n",
    "\n",
    "#output_file(\"scatter.html\")\n",
    "\n",
    "#show(p)"
   ]
  },
  {
   "cell_type": "markdown",
   "metadata": {},
   "source": [
    "**One visit can have only one trip type:**"
   ]
  },
  {
   "cell_type": "code",
   "execution_count": 36,
   "metadata": {
    "collapsed": false
   },
   "outputs": [
    {
     "data": {
      "text/plain": [
       "0"
      ]
     },
     "execution_count": 36,
     "metadata": {},
     "output_type": "execute_result"
    }
   ],
   "source": [
    "temp = cleaned_train_data.groupby('VisitNumber')['TripType'].apply(set).str.len() > 1\n",
    "temp.sum()"
   ]
  },
  {
   "cell_type": "markdown",
   "metadata": {},
   "source": [
    "**Feature list:(To be continued)** \n",
    "\n",
    "* number of items purchased per visit\n",
    "* number of items purchased per Department per visit\n",
    "* number of items returned per visit"
   ]
  },
  {
   "cell_type": "code",
   "execution_count": 37,
   "metadata": {
    "collapsed": false
   },
   "outputs": [
    {
     "data": {
      "text/plain": [
       "68"
      ]
     },
     "execution_count": 37,
     "metadata": {},
     "output_type": "execute_result"
    }
   ],
   "source": [
    "cleaned_train_data['Encoded_DepDes'].max()"
   ]
  },
  {
   "cell_type": "code",
   "execution_count": 38,
   "metadata": {
    "collapsed": false
   },
   "outputs": [
    {
     "data": {
      "text/plain": [
       "5196"
      ]
     },
     "execution_count": 38,
     "metadata": {},
     "output_type": "execute_result"
    }
   ],
   "source": [
    "len(set(cleaned_train_data['FinelineNumber']))"
   ]
  },
  {
   "cell_type": "code",
   "execution_count": 39,
   "metadata": {
    "collapsed": true
   },
   "outputs": [],
   "source": [
    "vn = cleaned_train_data['VisitNumber']\n",
    "vn_shift = cleaned_train_data['VisitNumber'].shift(1)"
   ]
  },
  {
   "cell_type": "code",
   "execution_count": 40,
   "metadata": {
    "collapsed": false
   },
   "outputs": [],
   "source": [
    "reindexed_rows = (vn != vn_shift).cumsum()"
   ]
  },
  {
   "cell_type": "code",
   "execution_count": 41,
   "metadata": {
    "collapsed": true
   },
   "outputs": [],
   "source": [
    "cleaned_train_data['indexed_by_VisitNumber'] = reindexed_rows"
   ]
  },
  {
   "cell_type": "code",
   "execution_count": 42,
   "metadata": {
    "collapsed": false
   },
   "outputs": [],
   "source": [
    "scancount_sum_by_vn = cleaned_train_data.groupby('VisitNumber', as_index=False)['ScanCount'].sum()\n"
   ]
  },
  {
   "cell_type": "code",
   "execution_count": 43,
   "metadata": {
    "collapsed": false,
    "scrolled": true
   },
   "outputs": [],
   "source": [
    "cleaned_train_data = cleaned_train_data.join(scancount_sum_by_vn.set_index('VisitNumber'), on='VisitNumber', rsuffix='_sum_by_vn')"
   ]
  },
  {
   "cell_type": "code",
   "execution_count": 44,
   "metadata": {
    "collapsed": true
   },
   "outputs": [],
   "source": [
    "depdes_num_by_vn = cleaned_train_data.groupby('VisitNumber', as_index=False).agg({'Encoded_DepDes':pd.Series.nunique})"
   ]
  },
  {
   "cell_type": "code",
   "execution_count": 45,
   "metadata": {
    "collapsed": false
   },
   "outputs": [],
   "source": [
    "cleaned_train_data = cleaned_train_data.join(depdes_num_by_vn.set_index('VisitNumber'), on='VisitNumber', rsuffix='_by_vn')"
   ]
  },
  {
   "cell_type": "code",
   "execution_count": 46,
   "metadata": {
    "collapsed": false
   },
   "outputs": [],
   "source": [
    "fineline_num_by_vn = cleaned_train_data.groupby('VisitNumber', as_index=False).agg({'FinelineNumber':pd.Series.nunique})"
   ]
  },
  {
   "cell_type": "code",
   "execution_count": 47,
   "metadata": {
    "collapsed": true
   },
   "outputs": [],
   "source": [
    "cleaned_train_data = cleaned_train_data.join(fineline_num_by_vn.set_index('VisitNumber'), on='VisitNumber', rsuffix='_by_vn')"
   ]
  },
  {
   "cell_type": "markdown",
   "metadata": {},
   "source": [
    "** To be explored **\n",
    "* number of different UPCs\n",
    "* max number of items purchased from one single department \n",
    "* min number of items purchased from one single department\n",
    "* max number of items purchased with the same fineline number\n",
    "* min number of itmes purchased with the same fineline number"
   ]
  },
  {
   "cell_type": "code",
   "execution_count": 48,
   "metadata": {
    "collapsed": true
   },
   "outputs": [],
   "source": [
    "# number of different UPCs for each visit\n",
    "upc_num_by_vn = cleaned_train_data.groupby('VisitNumber', as_index=False).agg({'Encoded_Upc':pd.Series.nunique})\n",
    "cleaned_train_data = cleaned_train_data.join(upc_num_by_vn.set_index('VisitNumber'), on='VisitNumber', rsuffix='_by_vn')"
   ]
  },
  {
   "cell_type": "code",
   "execution_count": 49,
   "metadata": {
    "collapsed": false,
    "scrolled": true
   },
   "outputs": [
    {
     "data": {
      "text/plain": [
       "ModeResult(mode=array([[8, 1, 0, 0]]), count=array([[4, 1, 1, 1]]))"
      ]
     },
     "execution_count": 49,
     "metadata": {},
     "output_type": "execute_result"
    }
   ],
   "source": [
    "a = np.array([[8, 8, 3, 0],[8, 2, 1, 7],[8, 1, 8, 4],[8, 3, 0, 5],[4, 7, 5, 9]])\n",
    "from scipy import stats\n",
    "stats.mode(a)"
   ]
  },
  {
   "cell_type": "code",
   "execution_count": 50,
   "metadata": {
    "collapsed": true
   },
   "outputs": [],
   "source": [
    "from scipy import stats\n",
    "# max number of items purchased from one single department\n",
    "max_num_from_single_dep_by_vn =  \\\n",
    "cleaned_train_data[['VisitNumber','Encoded_DepDes']].groupby('VisitNumber', as_index=False)\\\n",
    ".agg(lambda x: stats.mode(x['Encoded_DepDes']).count[0])\n",
    "cleaned_train_data = \\\n",
    "cleaned_train_data.join(max_num_from_single_dep_by_vn.set_index('VisitNumber'), on='VisitNumber', rsuffix='_max_from_dep_by_vn')"
   ]
  },
  {
   "cell_type": "code",
   "execution_count": 51,
   "metadata": {
    "collapsed": false
   },
   "outputs": [],
   "source": [
    "from scipy import stats\n",
    "# dep number from which the max number of items is purchased \n",
    "max_num_from_single_dep_by_vn =  \\\n",
    "cleaned_train_data[['VisitNumber','Encoded_DepDes']].groupby('VisitNumber', as_index=False)\\\n",
    ".agg(lambda x: stats.mode(x['Encoded_DepDes'])[0])\n",
    "cleaned_train_data = \\\n",
    "cleaned_train_data.join(max_num_from_single_dep_by_vn.set_index('VisitNumber'), \\\n",
    "                        on='VisitNumber', rsuffix='_dep_has_max_by_vn')"
   ]
  },
  {
   "cell_type": "code",
   "execution_count": 52,
   "metadata": {
    "collapsed": true
   },
   "outputs": [],
   "source": [
    "from scipy import stats\n",
    "# fineline number from which the max number of items is purchased \n",
    "max_num_from_single_dep_by_vn =  \\\n",
    "cleaned_train_data[['VisitNumber','FinelineNumber']].groupby('VisitNumber', as_index=False)\\\n",
    ".agg(lambda x: stats.mode(x['FinelineNumber']).count[0])\n",
    "cleaned_train_data = \\\n",
    "cleaned_train_data.join(max_num_from_single_dep_by_vn.set_index('VisitNumber'), \\\n",
    "                        on='VisitNumber', rsuffix='_max_from_FinelineNumber_by_vn')"
   ]
  },
  {
   "cell_type": "code",
   "execution_count": 53,
   "metadata": {
    "collapsed": true
   },
   "outputs": [],
   "source": [
    "from scipy import stats\n",
    "# fineline number from which the max number of items is purchased \n",
    "max_num_from_single_dep_by_vn =  \\\n",
    "cleaned_train_data[['VisitNumber','FinelineNumber']].groupby('VisitNumber', as_index=False)\\\n",
    ".agg(lambda x: stats.mode(x['FinelineNumber'])[0])\n",
    "cleaned_train_data = \\\n",
    "cleaned_train_data.join(max_num_from_single_dep_by_vn.set_index('VisitNumber'), \\\n",
    "                        on='VisitNumber', rsuffix='_FinelineNumber_has_max_by_vn')"
   ]
  },
  {
   "cell_type": "code",
   "execution_count": null,
   "metadata": {
    "collapsed": false,
    "scrolled": true
   },
   "outputs": [],
   "source": []
  },
  {
   "cell_type": "code",
   "execution_count": 54,
   "metadata": {
    "collapsed": false
   },
   "outputs": [],
   "source": [
    "#from bokeh.charts import Scatter, output_file, show\n",
    "\n",
    "#p = Scatter(triptype_vnsum, x='ScanCount_sum_by_vn',y='TripType', title=\"TripType vs ScanCount_sum_by_vn\",\n",
    "#            xlabel=\"ScanCount_sum_by_vn\", ylabel=\"TripType\")\n",
    "\n",
    "#output_file(\"scatter.html\")\n",
    "\n",
    "#show(p)"
   ]
  },
  {
   "cell_type": "markdown",
   "metadata": {},
   "source": [
    "**K-fold cross validation**"
   ]
  },
  {
   "cell_type": "code",
   "execution_count": 55,
   "metadata": {
    "collapsed": false
   },
   "outputs": [],
   "source": [
    "y = cleaned_train_data['TripType']"
   ]
  },
  {
   "cell_type": "code",
   "execution_count": 56,
   "metadata": {
    "collapsed": false
   },
   "outputs": [],
   "source": [
    "X = cleaned_train_data.drop(['TripType','indexed_by_VisitNumber'], axis=1)"
   ]
  },
  {
   "cell_type": "code",
   "execution_count": 57,
   "metadata": {
    "collapsed": false
   },
   "outputs": [],
   "source": [
    "from sklearn.model_selection import train_test_split"
   ]
  },
  {
   "cell_type": "code",
   "execution_count": 59,
   "metadata": {
    "collapsed": false
   },
   "outputs": [],
   "source": [
    "X_train, X_test, y_train, y_test = train_test_split(X, y, test_size=0.4, random_state=0)"
   ]
  },
  {
   "cell_type": "code",
   "execution_count": 230,
   "metadata": {
    "collapsed": true
   },
   "outputs": [],
   "source": []
  },
  {
   "cell_type": "markdown",
   "metadata": {},
   "source": [
    "**SVM**"
   ]
  },
  {
   "cell_type": "code",
   "execution_count": 121,
   "metadata": {
    "collapsed": true
   },
   "outputs": [],
   "source": [
    "#from sklearn import svm\n",
    "#clf = svm.SVC(kernel='linear', C=1).fit(X_train, y_train)\n",
    "#clf.score(X_test, y_test)\n"
   ]
  },
  {
   "cell_type": "markdown",
   "metadata": {
    "collapsed": true
   },
   "source": [
    "**Random Forest**"
   ]
  },
  {
   "cell_type": "code",
   "execution_count": 60,
   "metadata": {
    "collapsed": false,
    "scrolled": false
   },
   "outputs": [],
   "source": [
    "\n",
    "from sklearn.ensemble import RandomForestClassifier\n",
    "clf = RandomForestClassifier(n_estimators=50, n_jobs=4)\n",
    "clf.fit(X_train,y_train)\n",
    "clf_probs = clf.predict_proba(X_test)\n",
    "\n"
   ]
  },
  {
   "cell_type": "code",
   "execution_count": 64,
   "metadata": {
    "collapsed": false
   },
   "outputs": [
    {
     "data": {
      "text/plain": [
       "(258822, 38)"
      ]
     },
     "execution_count": 64,
     "metadata": {},
     "output_type": "execute_result"
    }
   ],
   "source": [
    "clf_probs.shape"
   ]
  },
  {
   "cell_type": "code",
   "execution_count": 61,
   "metadata": {
    "collapsed": true
   },
   "outputs": [],
   "source": [
    "from sklearn.metrics import log_loss\n",
    "logloss_score = log_loss(y_test, clf_probs)\n"
   ]
  },
  {
   "cell_type": "code",
   "execution_count": 62,
   "metadata": {
    "collapsed": false,
    "scrolled": true
   },
   "outputs": [
    {
     "data": {
      "text/plain": [
       "0.55014133818934252"
      ]
     },
     "execution_count": 62,
     "metadata": {},
     "output_type": "execute_result"
    }
   ],
   "source": [
    "logloss_score"
   ]
  },
  {
   "cell_type": "code",
   "execution_count": null,
   "metadata": {
    "collapsed": true
   },
   "outputs": [],
   "source": []
  },
  {
   "cell_type": "code",
   "execution_count": null,
   "metadata": {
    "collapsed": true
   },
   "outputs": [],
   "source": [
    "importances = clf.feature_importances_\n",
    "std = np.std([tree.feature_importances_ for tree in clf.estimators_],\n",
    "             axis=0)\n",
    "indices = np.argsort(importances)[::-1]\n",
    "\n",
    "# Print the feature ranking\n",
    "print(\"Feature ranking:\")\n",
    "\n",
    "\n",
    "for f in range(X.shape[1]):\n",
    "    print(\"%d. feature %d : %s (%f)\" % (f + 1, indices[f], X.columns[indices[f]],importances[indices[f]]))\n",
    "from sklearn.model_selection import cross_val_score\n",
    "scores = cross_val_score(clf, X_test, y_test.values)\n",
    "print(scores)"
   ]
  },
  {
   "cell_type": "code",
   "execution_count": 251,
   "metadata": {
    "collapsed": false,
    "scrolled": true
   },
   "outputs": [],
   "source": [
    "from sklearn.metrics import roc_curve\n",
    "\n",
    "y_pred_rf = clf.predict_proba(X_test)[:, 1]\n",
    "fpr_rf, tpr_rf, _ = roc_curve(y_test, y_pred_rf)"
   ]
  },
  {
   "cell_type": "markdown",
   "metadata": {},
   "source": [
    "Feature ranking:\n",
    "1. feature 6 : ScanCount_sum_by_vn (0.148285)\n",
    "2. feature 11 : Encoded_DepDes_dep_has_max_by_vn (0.125108)\n",
    "3. feature 13 : FinelineNumber_FinelineNumber_has_max_by_vn (0.104053)\n",
    "4. feature 0 : VisitNumber (0.094574)\n",
    "5. feature 9 : Encoded_Upc_by_vn (0.081003)\n",
    "6. feature 8 : FinelineNumber_by_vn (0.076640)\n",
    "7. feature 4 : Encoded_Upc (0.059058)\n",
    "8. feature 7 : Encoded_DepDes_by_vn (0.057108)\n",
    "9. feature 3 : Encoded_DepDes (0.056789)\n",
    "10. feature 10 : Encoded_DepDes_max_from_dep_by_vn (0.053836)\n",
    "11. feature 2 : FinelineNumber (0.051653)\n",
    "12. feature 5 : Encoded_Weekday (0.051104)\n",
    "13. feature 12 : FinelineNumber_max_from_FinelineNumber_by_vn (0.029180)\n",
    "14. feature 1 : ScanCount (0.011609)\n",
    "[ 0.84469271  0.85359097  0.85366843]\n",
    "\n",
    "Feature ranking:\n",
    "1. feature 11 (0.130586)\n",
    "2. feature 6 (0.128156)\n",
    "3. feature 12 (0.106438)\n",
    "4. feature 9 (0.098013)\n",
    "5. feature 0 (0.097655)\n",
    "6. feature 8 (0.082776)\n",
    "7. feature 7 (0.066037)\n",
    "8. feature 4 (0.060937)\n",
    "9. feature 3 (0.056772)\n",
    "10. feature 10 (0.056044)\n",
    "11. feature 2 (0.053217)\n",
    "12. feature 5 (0.051643)\n",
    "13. feature 1 (0.011724)\n",
    "[ 0.84574733  0.8475867   0.84802291]\n",
    "\n",
    "Feature ranking:\n",
    "1. feature 6 (0.158740)\n",
    "2. feature 11 (0.140095)\n",
    "3. feature 0 (0.117877)\n",
    "4. feature 9 (0.086389)\n",
    "5. feature 4 (0.077089)\n",
    "6. feature 8 (0.075116)\n",
    "7. feature 2 (0.071402)\n",
    "8. feature 7 (0.068468)\n",
    "9. feature 3 (0.066481)\n",
    "10. feature 10 (0.064238)\n",
    "11. feature 5 (0.059339)\n",
    "12. feature 1 (0.014764)\n",
    "[ 0.81314682  0.81389095  0.81558722]\n",
    "\n",
    "Feature ranking:\n",
    "1. feature 6 (0.170532)\n",
    "2. feature 0 (0.143676)\n",
    "3. feature 4 (0.107128)\n",
    "4. feature 3 (0.097775)\n",
    "5. feature 2 (0.097184)\n",
    "6. feature 8 (0.090636)\n",
    "7. feature 9 (0.086081)\n",
    "8. feature 5 (0.066485)\n",
    "9. feature 7 (0.063492)\n",
    "10. feature 10 (0.061763)\n",
    "11. feature 1 (0.015248)\n",
    "[ 0.72123263  0.71942229  0.72091163]\n",
    "\n",
    "Previous experiment\n",
    "Feature ranking:\n",
    "1. feature 6 (0.193196)\n",
    "2. feature 0 (0.166470)\n",
    "3. feature 4 (0.131090)\n",
    "4. feature 8 (0.125677)\n",
    "5. feature 2 (0.116519)\n",
    "6. feature 3 (0.102076)\n",
    "7. feature 7 (0.076694)\n",
    "8. feature 5 (0.069855)\n",
    "9. feature 1 (0.018423)\n",
    "[ 0.67276647  0.67349777  0.67243198]"
   ]
  },
  {
   "cell_type": "code",
   "execution_count": 54,
   "metadata": {
    "collapsed": false
   },
   "outputs": [],
   "source": [
    "from sklearn.ensemble import RandomForestClassifier\n",
    "clf0  = RandomForestClassifier(n_estimators=50, n_jobs=4)"
   ]
  },
  {
   "cell_type": "code",
   "execution_count": 55,
   "metadata": {
    "collapsed": false
   },
   "outputs": [
    {
     "data": {
      "text/plain": [
       "RandomForestClassifier(bootstrap=True, class_weight=None, criterion='gini',\n",
       "            max_depth=None, max_features='auto', max_leaf_nodes=None,\n",
       "            min_impurity_split=1e-07, min_samples_leaf=1,\n",
       "            min_samples_split=2, min_weight_fraction_leaf=0.0,\n",
       "            n_estimators=50, n_jobs=4, oob_score=False, random_state=None,\n",
       "            verbose=0, warm_start=False)"
      ]
     },
     "execution_count": 55,
     "metadata": {},
     "output_type": "execute_result"
    }
   ],
   "source": [
    "clf0.fit(X_train.ix[:,:'Encoded_Weekday'],y_train)"
   ]
  },
  {
   "cell_type": "code",
   "execution_count": 56,
   "metadata": {
    "collapsed": false
   },
   "outputs": [
    {
     "name": "stdout",
     "output_type": "stream",
     "text": [
      "Feature ranking:\n",
      "1. feature 0 (0.422432)\n",
      "2. feature 4 (0.259484)\n",
      "3. feature 2 (0.162345)\n",
      "4. feature 3 (0.069524)\n",
      "5. feature 5 (0.058636)\n",
      "6. feature 1 (0.027580)\n"
     ]
    }
   ],
   "source": [
    "importances = clf0.feature_importances_\n",
    "std = np.std([tree.feature_importances_ for tree in clf0.estimators_],\n",
    "             axis=0)\n",
    "indices = np.argsort(importances)[::-1]\n",
    "\n",
    "# Print the feature ranking\n",
    "print(\"Feature ranking:\")\n",
    "\n",
    "for f in range(X.shape[1]-1):\n",
    "    print(\"%d. feature %d (%f)\" % (f + 1, indices[f], importances[indices[f]]))"
   ]
  },
  {
   "cell_type": "code",
   "execution_count": 57,
   "metadata": {
    "collapsed": true
   },
   "outputs": [],
   "source": [
    "from sklearn.model_selection import cross_val_score\n",
    "scores = cross_val_score(clf0, X_test.ix[:,:'Encoded_Weekday'], y_test)"
   ]
  },
  {
   "cell_type": "code",
   "execution_count": 58,
   "metadata": {
    "collapsed": false
   },
   "outputs": [
    {
     "data": {
      "text/plain": [
       "array([ 0.31458968,  0.31297524,  0.31616104])"
      ]
     },
     "execution_count": 58,
     "metadata": {},
     "output_type": "execute_result"
    }
   ],
   "source": [
    "scores"
   ]
  },
  {
   "cell_type": "code",
   "execution_count": null,
   "metadata": {
    "collapsed": true
   },
   "outputs": [],
   "source": []
  }
 ],
 "metadata": {
  "kernelspec": {
   "display_name": "Python 2",
   "language": "python",
   "name": "python2"
  },
  "language_info": {
   "codemirror_mode": {
    "name": "ipython",
    "version": 2
   },
   "file_extension": ".py",
   "mimetype": "text/x-python",
   "name": "python",
   "nbconvert_exporter": "python",
   "pygments_lexer": "ipython2",
   "version": "2.7.13"
  }
 },
 "nbformat": 4,
 "nbformat_minor": 0
}
