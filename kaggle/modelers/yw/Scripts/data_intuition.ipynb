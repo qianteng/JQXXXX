{
 "cells": [
  {
   "cell_type": "code",
   "execution_count": 1,
   "metadata": {
    "collapsed": false
   },
   "outputs": [],
   "source": [
    "import os\n",
    "import pandas as pd\n",
    "import warnings\n",
    "\n",
    "%matplotlib inline \n",
    "\n",
    "warnings.filterwarnings(\"ignore\")"
   ]
  },
  {
   "cell_type": "code",
   "execution_count": 2,
   "metadata": {
    "collapsed": true
   },
   "outputs": [],
   "source": [
    "data_dir = r'C:\\Users\\Yijia\\GITPROJ\\JQXXXX\\kaggle\\modelers\\yw\\Data'\n",
    "train_csv_path = os.path.join(data_dir, 'train.csv')"
   ]
  },
  {
   "cell_type": "code",
   "execution_count": 3,
   "metadata": {
    "collapsed": false
   },
   "outputs": [],
   "source": [
    "train_df = pd.read_csv(train_csv_path)\n",
    "# Data Description:\n",
    "# https://www.kaggle.com/c/walmart-recruiting-trip-type-classification/data"
   ]
  },
  {
   "cell_type": "code",
   "execution_count": 4,
   "metadata": {
    "collapsed": false
   },
   "outputs": [
    {
     "name": "stdout",
     "output_type": "stream",
     "text": [
      "   TripType  VisitNumber Weekday           Upc  ScanCount  \\\n",
      "0       999            5  Friday  6.811315e+10         -1   \n",
      "1        30            7  Friday  6.053882e+10          1   \n",
      "2        30            7  Friday  7.410811e+09          1   \n",
      "3        26            8  Friday  2.238404e+09          2   \n",
      "4        26            8  Friday  2.006614e+09          2   \n",
      "\n",
      "   DepartmentDescription  FinelineNumber  \n",
      "0     FINANCIAL SERVICES          1000.0  \n",
      "1                  SHOES          8931.0  \n",
      "2          PERSONAL CARE          4504.0  \n",
      "3  PAINT AND ACCESSORIES          3565.0  \n",
      "4  PAINT AND ACCESSORIES          1017.0  \n"
     ]
    },
    {
     "data": {
      "text/html": [
       "<div>\n",
       "<table border=\"1\" class=\"dataframe\">\n",
       "  <thead>\n",
       "    <tr style=\"text-align: right;\">\n",
       "      <th></th>\n",
       "      <th>TripType</th>\n",
       "      <th>VisitNumber</th>\n",
       "      <th>Upc</th>\n",
       "      <th>ScanCount</th>\n",
       "      <th>FinelineNumber</th>\n",
       "    </tr>\n",
       "  </thead>\n",
       "  <tbody>\n",
       "    <tr>\n",
       "      <th>count</th>\n",
       "      <td>647054.000000</td>\n",
       "      <td>647054.000000</td>\n",
       "      <td>6.429250e+05</td>\n",
       "      <td>647054.000000</td>\n",
       "      <td>642925.000000</td>\n",
       "    </tr>\n",
       "    <tr>\n",
       "      <th>mean</th>\n",
       "      <td>58.584511</td>\n",
       "      <td>96167.640078</td>\n",
       "      <td>3.060698e+10</td>\n",
       "      <td>1.108878</td>\n",
       "      <td>3726.884567</td>\n",
       "    </tr>\n",
       "    <tr>\n",
       "      <th>std</th>\n",
       "      <td>157.635533</td>\n",
       "      <td>55545.485154</td>\n",
       "      <td>9.120134e+10</td>\n",
       "      <td>0.700776</td>\n",
       "      <td>2780.966158</td>\n",
       "    </tr>\n",
       "    <tr>\n",
       "      <th>min</th>\n",
       "      <td>3.000000</td>\n",
       "      <td>5.000000</td>\n",
       "      <td>8.340000e+02</td>\n",
       "      <td>-12.000000</td>\n",
       "      <td>0.000000</td>\n",
       "    </tr>\n",
       "    <tr>\n",
       "      <th>25%</th>\n",
       "      <td>27.000000</td>\n",
       "      <td>49268.000000</td>\n",
       "      <td>3.400001e+09</td>\n",
       "      <td>1.000000</td>\n",
       "      <td>1404.000000</td>\n",
       "    </tr>\n",
       "    <tr>\n",
       "      <th>50%</th>\n",
       "      <td>39.000000</td>\n",
       "      <td>97074.000000</td>\n",
       "      <td>7.050103e+09</td>\n",
       "      <td>1.000000</td>\n",
       "      <td>3352.000000</td>\n",
       "    </tr>\n",
       "    <tr>\n",
       "      <th>75%</th>\n",
       "      <td>40.000000</td>\n",
       "      <td>144316.000000</td>\n",
       "      <td>3.006531e+10</td>\n",
       "      <td>1.000000</td>\n",
       "      <td>5501.000000</td>\n",
       "    </tr>\n",
       "    <tr>\n",
       "      <th>max</th>\n",
       "      <td>999.000000</td>\n",
       "      <td>191347.000000</td>\n",
       "      <td>9.789707e+11</td>\n",
       "      <td>71.000000</td>\n",
       "      <td>9998.000000</td>\n",
       "    </tr>\n",
       "  </tbody>\n",
       "</table>\n",
       "</div>"
      ],
      "text/plain": [
       "            TripType    VisitNumber           Upc      ScanCount  \\\n",
       "count  647054.000000  647054.000000  6.429250e+05  647054.000000   \n",
       "mean       58.584511   96167.640078  3.060698e+10       1.108878   \n",
       "std       157.635533   55545.485154  9.120134e+10       0.700776   \n",
       "min         3.000000       5.000000  8.340000e+02     -12.000000   \n",
       "25%        27.000000   49268.000000  3.400001e+09       1.000000   \n",
       "50%        39.000000   97074.000000  7.050103e+09       1.000000   \n",
       "75%        40.000000  144316.000000  3.006531e+10       1.000000   \n",
       "max       999.000000  191347.000000  9.789707e+11      71.000000   \n",
       "\n",
       "       FinelineNumber  \n",
       "count   642925.000000  \n",
       "mean      3726.884567  \n",
       "std       2780.966158  \n",
       "min          0.000000  \n",
       "25%       1404.000000  \n",
       "50%       3352.000000  \n",
       "75%       5501.000000  \n",
       "max       9998.000000  "
      ]
     },
     "execution_count": 4,
     "metadata": {},
     "output_type": "execute_result"
    }
   ],
   "source": [
    "print(train_df.head())\n",
    "train_df.describe()\n",
    "\n",
    "# === > DepartmentDescription, Weekday should be re-mapped into numbers"
   ]
  },
  {
   "cell_type": "code",
   "execution_count": 50,
   "metadata": {
    "collapsed": false
   },
   "outputs": [
    {
     "data": {
      "text/plain": [
       "array([[<matplotlib.axes._subplots.AxesSubplot object at 0x000000000A513F98>,\n",
       "        <matplotlib.axes._subplots.AxesSubplot object at 0x000000000C925FD0>],\n",
       "       [<matplotlib.axes._subplots.AxesSubplot object at 0x000000000CB1CAC8>,\n",
       "        <matplotlib.axes._subplots.AxesSubplot object at 0x000000000D29E5C0>],\n",
       "       [<matplotlib.axes._subplots.AxesSubplot object at 0x0000000015C2CFD0>,\n",
       "        <matplotlib.axes._subplots.AxesSubplot object at 0x0000000016022828>]], dtype=object)"
      ]
     },
     "execution_count": 50,
     "metadata": {},
     "output_type": "execute_result"
    },
    {
     "data": {
      "image/png": "[encoded data removed]",
      "text/plain": [
       "<matplotlib.figure.Figure at 0xaf81160>"
      ]
     },
     "metadata": {},
     "output_type": "display_data"
    }
   ],
   "source": [
    "train_df.hist()"
   ]
  },
  {
   "cell_type": "code",
   "execution_count": 52,
   "metadata": {
    "collapsed": false
   },
   "outputs": [
    {
     "data": {
      "text/html": [
       "<div>\n",
       "<table border=\"1\" class=\"dataframe\">\n",
       "  <thead>\n",
       "    <tr style=\"text-align: right;\">\n",
       "      <th></th>\n",
       "      <th>Upc_count</th>\n",
       "    </tr>\n",
       "    <tr>\n",
       "      <th>Upc</th>\n",
       "      <th></th>\n",
       "    </tr>\n",
       "  </thead>\n",
       "  <tbody>\n",
       "    <tr>\n",
       "      <th>4.011000e+03</th>\n",
       "      <td>7657</td>\n",
       "    </tr>\n",
       "    <tr>\n",
       "      <th>6.053886e+10</th>\n",
       "      <td>2501</td>\n",
       "    </tr>\n",
       "    <tr>\n",
       "      <th>7.874235e+09</th>\n",
       "      <td>2067</td>\n",
       "    </tr>\n",
       "    <tr>\n",
       "      <th>7.874235e+09</th>\n",
       "      <td>1883</td>\n",
       "    </tr>\n",
       "    <tr>\n",
       "      <th>4.046000e+03</th>\n",
       "      <td>1652</td>\n",
       "    </tr>\n",
       "  </tbody>\n",
       "</table>\n",
       "</div>"
      ],
      "text/plain": [
       "              Upc_count\n",
       "Upc                    \n",
       "4.011000e+03       7657\n",
       "6.053886e+10       2501\n",
       "7.874235e+09       2067\n",
       "7.874235e+09       1883\n",
       "4.046000e+03       1652"
      ]
     },
     "execution_count": 52,
     "metadata": {},
     "output_type": "execute_result"
    }
   ],
   "source": [
    "df = train_df[['Upc']]\n",
    "df['Upc_count'] = train_df.groupby('Upc')['Upc'].transform(sum)\n",
    "df.groupby('Upc').count().sort_values(by='Upc_count',ascending=False).head()\n",
    "\n",
    "# ===> Upc should be re categorized to range(len(unique_Upc))\n",
    "# The UPC (Universal Product Number) symbol is the barcode representation of the GTIN-12 which consists of twelve numeric characters that uniquely identify a company's individual product.\n",
    "# http://www.gtin.info/upc/"
   ]
  },
  {
   "cell_type": "code",
   "execution_count": 62,
   "metadata": {
    "collapsed": false
   },
   "outputs": [
    {
     "data": {
      "text/plain": [
       "<matplotlib.axes._subplots.AxesSubplot at 0x22fe5b70>"
      ]
     },
     "execution_count": 62,
     "metadata": {},
     "output_type": "execute_result"
    },
    {
     "data": {
      "image/png": "[encoded data removed]",
      "text/plain": [
       "<matplotlib.figure.Figure at 0x1b8e5a90>"
      ]
     },
     "metadata": {},
     "output_type": "display_data"
    },
    {
     "data": {
      "image/png": "[encoded data removed]",
      "text/plain": [
       "<matplotlib.figure.Figure at 0x2126b080>"
      ]
     },
     "metadata": {},
     "output_type": "display_data"
    }
   ],
   "source": [
    "train_df[['FinelineNumber']].sort_values(by='FinelineNumber', ascending=True).reset_index(drop=True).plot()\n",
    "train_df[['FinelineNumber']].sort_values(by='FinelineNumber', ascending=True).reset_index(drop=True).diff(1).plot()\n",
    "\n",
    "# ===> FinlineNumber is already some well scaled number\n",
    "# Fineline is a Walmart assigned item group, Fineline is one level above the item.\n",
    "# http://www.suppliercommunity.org/showthread.php?tid=16"
   ]
  },
  {
   "cell_type": "code",
   "execution_count": null,
   "metadata": {
    "collapsed": false
   },
   "outputs": [],
   "source": [
    "from sklearn.preprocessing import LabelEncoder\n",
    "\n",
    "#Auto encodes any dataframe column of type category or object.\n",
    "def one_hot(df, cols):\n",
    "    \"\"\"\n",
    "    @param df pandas DataFrame\n",
    "    @param cols a list of columns to encode \n",
    "    @return a DataFrame with one-hot encoding\n",
    "    \"\"\"\n",
    "    for each in cols:\n",
    "        dummies = pd.get_dummies(df[each], prefix=each, drop_first=False)\n",
    "        df = pd.concat([df, dummies], axis=1)\n",
    "    return df\n",
    "\n",
    "category_cols = ['DepartmentDescription', 'Weekday', 'Upc', 'FinlineNumber']\n",
    "train_df_1 = one_hot(train_df, cols=category_cols)"
   ]
  },
  {
   "cell_type": "code",
   "execution_count": 6,
   "metadata": {
    "collapsed": false,
    "scrolled": true
   },
   "outputs": [
    {
     "name": "stdout",
     "output_type": "stream",
     "text": [
      "                      unique_values_count\n",
      "TripType                               38\n",
      "VisitNumber                         95674\n",
      "Weekday                                 7\n",
      "Upc                                 97715\n",
      "ScanCount                              39\n",
      "DepartmentDescription                  69\n",
      "FinelineNumber                       5196\n",
      "all_orig                           647054\n",
      "all_unique                         641350\n",
      "   TripType  VisitNumber Weekday           Upc  ScanCount  \\\n",
      "0       999            5  Friday  6.811315e+10         -1   \n",
      "1        30            7  Friday  6.053882e+10          1   \n",
      "2        30            7  Friday  7.410811e+09          1   \n",
      "3        26            8  Friday  2.238404e+09          2   \n",
      "4        26            8  Friday  2.006614e+09          2   \n",
      "\n",
      "   DepartmentDescription  FinelineNumber  \n",
      "0     FINANCIAL SERVICES          1000.0  \n",
      "1                  SHOES          8931.0  \n",
      "2          PERSONAL CARE          4504.0  \n",
      "3  PAINT AND ACCESSORIES          3565.0  \n",
      "4  PAINT AND ACCESSORIES          1017.0  \n"
     ]
    }
   ],
   "source": [
    "# distinct number counts\n",
    "df_unique_value_counts = pd.DataFrame([], index=train_df.columns, columns=['unique_values_count'])\n",
    "for col in train_df.columns:\n",
    "    df_unique_value_counts.ix[col] = len(train_df[[col]].drop_duplicates())\n",
    "\n",
    "df_unique_value_counts.ix['all_orig'] = len(train_df)    \n",
    "df_unique_value_counts.ix['all_unique'] = len(train_df.drop_duplicates())    \n",
    "print(df_unique_value_counts)    \n",
    "print(train_df.head())"
   ]
  },
  {
   "cell_type": "code",
   "execution_count": 13,
   "metadata": {
    "collapsed": false
   },
   "outputs": [
    {
     "name": "stdout",
     "output_type": "stream",
     "text": [
      "647054\n",
      "647054\n",
      "647054\n"
     ]
    }
   ],
   "source": [
    "print(len(train_df[['VisitNumber', 'TripType']]))\n",
    "print(len(train_df[['VisitNumber', 'TripType', 'Weekday']]))\n",
    "print(len(train_df['VisitNumber']))"
   ]
  },
  {
   "cell_type": "code",
   "execution_count": 17,
   "metadata": {
    "collapsed": false
   },
   "outputs": [
    {
     "data": {
      "text/html": [
       "<div>\n",
       "<table border=\"1\" class=\"dataframe\">\n",
       "  <thead>\n",
       "    <tr style=\"text-align: right;\">\n",
       "      <th></th>\n",
       "      <th>TripType</th>\n",
       "      <th>Weekday</th>\n",
       "      <th>Upc</th>\n",
       "      <th>ScanCount</th>\n",
       "      <th>DepartmentDescription</th>\n",
       "      <th>FinelineNumber</th>\n",
       "    </tr>\n",
       "    <tr>\n",
       "      <th>VisitNumber</th>\n",
       "      <th></th>\n",
       "      <th></th>\n",
       "      <th></th>\n",
       "      <th></th>\n",
       "      <th></th>\n",
       "      <th></th>\n",
       "    </tr>\n",
       "  </thead>\n",
       "  <tbody>\n",
       "    <tr>\n",
       "      <th>5</th>\n",
       "      <td>1</td>\n",
       "      <td>1</td>\n",
       "      <td>1</td>\n",
       "      <td>1</td>\n",
       "      <td>1</td>\n",
       "      <td>1</td>\n",
       "    </tr>\n",
       "    <tr>\n",
       "      <th>7</th>\n",
       "      <td>2</td>\n",
       "      <td>2</td>\n",
       "      <td>2</td>\n",
       "      <td>2</td>\n",
       "      <td>2</td>\n",
       "      <td>2</td>\n",
       "    </tr>\n",
       "    <tr>\n",
       "      <th>8</th>\n",
       "      <td>23</td>\n",
       "      <td>23</td>\n",
       "      <td>22</td>\n",
       "      <td>23</td>\n",
       "      <td>22</td>\n",
       "      <td>22</td>\n",
       "    </tr>\n",
       "    <tr>\n",
       "      <th>9</th>\n",
       "      <td>3</td>\n",
       "      <td>3</td>\n",
       "      <td>3</td>\n",
       "      <td>3</td>\n",
       "      <td>3</td>\n",
       "      <td>3</td>\n",
       "    </tr>\n",
       "    <tr>\n",
       "      <th>10</th>\n",
       "      <td>3</td>\n",
       "      <td>3</td>\n",
       "      <td>3</td>\n",
       "      <td>3</td>\n",
       "      <td>3</td>\n",
       "      <td>3</td>\n",
       "    </tr>\n",
       "  </tbody>\n",
       "</table>\n",
       "</div>"
      ],
      "text/plain": [
       "             TripType  Weekday  Upc  ScanCount  DepartmentDescription  \\\n",
       "VisitNumber                                                             \n",
       "5                   1        1    1          1                      1   \n",
       "7                   2        2    2          2                      2   \n",
       "8                  23       23   22         23                     22   \n",
       "9                   3        3    3          3                      3   \n",
       "10                  3        3    3          3                      3   \n",
       "\n",
       "             FinelineNumber  \n",
       "VisitNumber                  \n",
       "5                         1  \n",
       "7                         2  \n",
       "8                        22  \n",
       "9                         3  \n",
       "10                        3  "
      ]
     },
     "execution_count": 17,
     "metadata": {},
     "output_type": "execute_result"
    }
   ],
   "source": [
    "train_df.groupby(['VisitNumber']).count().head()"
   ]
  },
  {
   "cell_type": "code",
   "execution_count": 14,
   "metadata": {
    "collapsed": true
   },
   "outputs": [],
   "source": [
    "def apply_func_groupby_VisitNumber(df):\n",
    "    trip_type = df[:,0].mean()\n",
    "    weekday = df[:,1].mean()\n",
    "    upc = df[:,2].count()\n",
    "    scan_count = df[:,3].sum()\n",
    "    department_dscription = df[:,4].drop_duplicates().count()\n",
    "    finline_number = df[:,5].drop_duplicates().count()\n",
    "    res = [trip_type, weekday, upc, scan_count, department_dscription, finline_number]\n",
    "    return res"
   ]
  },
  {
   "cell_type": "code",
   "execution_count": null,
   "metadata": {
    "collapsed": true
   },
   "outputs": [],
   "source": [
    "train_df.groupby(['VisitNumber']).apply(apply_func_groupby_VisitNumber)"
   ]
  }
 ],
 "metadata": {
  "anaconda-cloud": {},
  "kernelspec": {
   "display_name": "Python [conda env:venv27]",
   "language": "python",
   "name": "conda-env-venv27-py"
  },
  "language_info": {
   "codemirror_mode": {
    "name": "ipython",
    "version": 2.0
   },
   "file_extension": ".py",
   "mimetype": "text/x-python",
   "name": "python",
   "nbconvert_exporter": "python",
   "pygments_lexer": "ipython2",
   "version": "2.7.13"
  }
 },
 "nbformat": 4,
 "nbformat_minor": 0
}