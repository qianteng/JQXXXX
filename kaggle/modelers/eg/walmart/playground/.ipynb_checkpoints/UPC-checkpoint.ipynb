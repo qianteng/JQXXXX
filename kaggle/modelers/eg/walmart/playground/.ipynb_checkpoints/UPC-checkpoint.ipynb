{
 "cells": [
  {
   "cell_type": "code",
   "execution_count": 1,
   "metadata": {
    "collapsed": true
   },
   "outputs": [],
   "source": [
    "import pandas as pd"
   ]
  },
  {
   "cell_type": "code",
   "execution_count": 2,
   "metadata": {
    "collapsed": true
   },
   "outputs": [],
   "source": [
    "train = pd.read_csv('~/Kaggle/walmart/train.csv', dtype={'Upc': str})"
   ]
  },
  {
   "cell_type": "code",
   "execution_count": 3,
   "metadata": {
    "collapsed": false
   },
   "outputs": [],
   "source": [
    "UPClen = train['Upc'].apply(str).apply(len)"
   ]
  },
  {
   "cell_type": "code",
   "execution_count": 4,
   "metadata": {
    "collapsed": false
   },
   "outputs": [
    {
     "data": {
      "text/plain": [
       "Upc\n",
       "775014200016    85\n",
       "896400099840    42\n",
       "890800513400    38\n",
       "692249579995    36\n",
       "471251189040    32\n",
       "Name: Upc, dtype: int64"
      ]
     },
     "execution_count": 4,
     "metadata": {},
     "output_type": "execute_result"
    }
   ],
   "source": [
    "train[UPClen == 12].groupby('Upc')['Upc'].count().sort_values(ascending=False).head()"
   ]
  },
  {
   "cell_type": "code",
   "execution_count": 5,
   "metadata": {
    "collapsed": true
   },
   "outputs": [],
   "source": [
    "UPC = '471251189040'"
   ]
  },
  {
   "cell_type": "code",
   "execution_count": 6,
   "metadata": {
    "collapsed": false
   },
   "outputs": [
    {
     "data": {
      "text/html": [
       "<div>\n",
       "<table border=\"1\" class=\"dataframe\">\n",
       "  <thead>\n",
       "    <tr style=\"text-align: right;\">\n",
       "      <th></th>\n",
       "      <th>TripType</th>\n",
       "      <th>VisitNumber</th>\n",
       "      <th>Weekday</th>\n",
       "      <th>Upc</th>\n",
       "      <th>ScanCount</th>\n",
       "      <th>DepartmentDescription</th>\n",
       "      <th>FinelineNumber</th>\n",
       "    </tr>\n",
       "  </thead>\n",
       "  <tbody>\n",
       "    <tr>\n",
       "      <th>41117</th>\n",
       "      <td>999</td>\n",
       "      <td>12196</td>\n",
       "      <td>Saturday</td>\n",
       "      <td>471251189040</td>\n",
       "      <td>1</td>\n",
       "      <td>HARDWARE</td>\n",
       "      <td>9806.0</td>\n",
       "    </tr>\n",
       "    <tr>\n",
       "      <th>90915</th>\n",
       "      <td>39</td>\n",
       "      <td>25755</td>\n",
       "      <td>Monday</td>\n",
       "      <td>471251189040</td>\n",
       "      <td>1</td>\n",
       "      <td>HARDWARE</td>\n",
       "      <td>9806.0</td>\n",
       "    </tr>\n",
       "    <tr>\n",
       "      <th>121945</th>\n",
       "      <td>36</td>\n",
       "      <td>36195</td>\n",
       "      <td>Wednesday</td>\n",
       "      <td>471251189040</td>\n",
       "      <td>1</td>\n",
       "      <td>HARDWARE</td>\n",
       "      <td>9806.0</td>\n",
       "    </tr>\n",
       "    <tr>\n",
       "      <th>123195</th>\n",
       "      <td>26</td>\n",
       "      <td>36565</td>\n",
       "      <td>Wednesday</td>\n",
       "      <td>471251189040</td>\n",
       "      <td>1</td>\n",
       "      <td>HARDWARE</td>\n",
       "      <td>9806.0</td>\n",
       "    </tr>\n",
       "    <tr>\n",
       "      <th>164067</th>\n",
       "      <td>26</td>\n",
       "      <td>49877</td>\n",
       "      <td>Saturday</td>\n",
       "      <td>471251189040</td>\n",
       "      <td>1</td>\n",
       "      <td>HARDWARE</td>\n",
       "      <td>9806.0</td>\n",
       "    </tr>\n",
       "  </tbody>\n",
       "</table>\n",
       "</div>"
      ],
      "text/plain": [
       "        TripType  VisitNumber    Weekday           Upc  ScanCount  \\\n",
       "41117        999        12196   Saturday  471251189040          1   \n",
       "90915         39        25755     Monday  471251189040          1   \n",
       "121945        36        36195  Wednesday  471251189040          1   \n",
       "123195        26        36565  Wednesday  471251189040          1   \n",
       "164067        26        49877   Saturday  471251189040          1   \n",
       "\n",
       "       DepartmentDescription  FinelineNumber  \n",
       "41117               HARDWARE          9806.0  \n",
       "90915               HARDWARE          9806.0  \n",
       "121945              HARDWARE          9806.0  \n",
       "123195              HARDWARE          9806.0  \n",
       "164067              HARDWARE          9806.0  "
      ]
     },
     "execution_count": 6,
     "metadata": {},
     "output_type": "execute_result"
    }
   ],
   "source": [
    "train[train['Upc'] == UPC].head()"
   ]
  },
  {
   "cell_type": "code",
   "execution_count": 7,
   "metadata": {
    "collapsed": false
   },
   "outputs": [
    {
     "name": "stdout",
     "output_type": "stream",
     "text": [
      "b'{\"query\":\"471251189040\",\"sort\":\"relevance\",\"responseGroup\":\"base\",\"totalResults\":1,\"start\":1,\"numItems\":1,\"items\":[{\"itemId\":17129010,\"parentItemId\":17129010,\"name\":\"Mainstays High Velocity Portable Fan, 9\\\\\"\",\"msrp\":15.88,\"salePrice\":14.24,\"upc\":\"712511890402\",\"categoryPath\":\"Home Improvement/Heating, Cooling, & Air Quality/Portable Fans/All Fans\",\"shortDescription\":\"Keeping your home cool can be a challenge, but this Massey High-Velocity Fan can help you out. It comes with a three-speed rotary switch so you have better control of the air flow. You can run it on low to get a gentle breeze or you can crank it all the way up to high if you need to cool the room quickly. It\\'s built with durable metal materials and it adjusts vertically for greater versatility. Conveniently, this high-velocity floor fan arrives fully assembled. It tilts so you can direct the airflow wherever you need it.\",\"longDescription\":\"&lt;p&gt;&lt;b&gt;&lt;br&gt;Massey High-Velocity Fan, 9&quot;:&lt;/b&gt;&lt;/p&gt;&lt;ul&gt;&lt;li&gt;High-velocity floor fan&lt;/li&gt;&lt;li&gt;Durable metal construction&lt;/li&gt;&lt;li&gt;Manual control&lt;/li&gt;&lt;li&gt;3-speed rotary switch&lt;/li&gt;&lt;li&gt;Vertically adjustable 9&quot; fan&lt;/li&gt;&lt;li&gt;Tilt for directing airflow&lt;/li&gt;&lt;li&gt;Fully assembled&lt;/li&gt;&lt;li&gt;High-velocity performance&lt;/li&gt;&lt;/ul&gt;\",\"thumbnailImage\":\"https://i5.walmartimages.com/asr/b4ee9e43-8f8e-47ae-8c82-a7a9a32a8335_1.80c841fdee21529981c694ce28ae2e29.jpeg?odnHeight=100&odnWidth=100&odnBg=FFFFFF\",\"mediumImage\":\"https://i5.walmartimages.com/asr/b4ee9e43-8f8e-47ae-8c82-a7a9a32a8335_1.80c841fdee21529981c694ce28ae2e29.jpeg?odnHeight=180&odnWidth=180&odnBg=FFFFFF\",\"largeImage\":\"https://i5.walmartimages.com/asr/b4ee9e43-8f8e-47ae-8c82-a7a9a32a8335_1.80c841fdee21529981c694ce28ae2e29.jpeg?odnHeight=450&odnWidth=450&odnBg=FFFFFF\",\"productTrackingUrl\":\"http://linksynergy.walmart.com/fs-bin/click?id=|LSNID|&offerid=223073.7200&type=14&catid=8&subid=0&hid=7200&tmpid=1082&RD_PARM1=https%253A%252F%252Fwww.walmart.com%252Fip%252FMassey-High-Velocity-Fan-9%252F17129010%253Faffp1%253DvLesqSx_uvUjslCSRhVBn7YaHy-JHozg3SwWn6sJ9sI%2526affilsrc%253Dapi\",\"standardShipRate\":5.99,\"marketplace\":false,\"modelNumber\":\"MF-9\",\"productUrl\":\"http://c.affil.walmart.com/t/api02?l=https%3A%2F%2Fwww.walmart.com%2Fip%2FMassey-High-Velocity-Fan-9%2F17129010%3Faffp1%3DvLesqSx_uvUjslCSRhVBn7YaHy-JHozg3SwWn6sJ9sI%26affilsrc%3Dapi%26veh%3Daff%26wmlspartner%3Dreadonlyapi\",\"customerRating\":\"4.447\",\"numReviews\":151,\"customerRatingImage\":\"http://i2.walmartimages.com/i/CustRating/4_4.gif\",\"categoryNode\":\"1072864_133032_1230511\",\"bundle\":false,\"stock\":\"Available\",\"addToCartUrl\":\"http://c.affil.walmart.com/t/api02?l=http%3A%2F%2Faffil.walmart.com%2Fcart%2FaddToCart%3Fitems%3D17129010%7C1%26affp1%3DvLesqSx_uvUjslCSRhVBn7YaHy-JHozg3SwWn6sJ9sI%26affilsrc%3Dapi%26veh%3Daff%26wmlspartner%3Dreadonlyapi\",\"affiliateAddToCartUrl\":\"http://linksynergy.walmart.com/fs-bin/click?id=|LSNID|&offerid=223073.7200&type=14&catid=8&subid=0&hid=7200&tmpid=1082&RD_PARM1=http%253A%252F%252Faffil.walmart.com%252Fcart%252FaddToCart%253Fitems%253D17129010%257C1%2526affp1%253DvLesqSx_uvUjslCSRhVBn7YaHy-JHozg3SwWn6sJ9sI%2526affilsrc%253Dapi\",\"giftOptions\":{\"allowGiftWrap\":false,\"allowGiftMessage\":false,\"allowGiftReceipt\":false},\"imageEntities\":[{\"thumbnailImage\":\"https://i5.walmartimages.com/asr/b00d982d-45b7-4506-8e95-9d7d3bce50c9_2.348c7d42bf4130181ca35d16cd7edadf.jpeg?odnHeight=100&odnWidth=100&odnBg=FFFFFF\",\"mediumImage\":\"https://i5.walmartimages.com/asr/b00d982d-45b7-4506-8e95-9d7d3bce50c9_2.348c7d42bf4130181ca35d16cd7edadf.jpeg?odnHeight=180&odnWidth=180&odnBg=FFFFFF\",\"largeImage\":\"https://i5.walmartimages.com/asr/b00d982d-45b7-4506-8e95-9d7d3bce50c9_2.348c7d42bf4130181ca35d16cd7edadf.jpeg?odnHeight=450&odnWidth=450&odnBg=FFFFFF\",\"entityType\":\"SECONDARY\"},{\"thumbnailImage\":\"https://i5.walmartimages.com/asr/70eb480f-b12b-4f55-8857-59537318a1a6_2.72143db2b2f2747414aa6572f98a8461.jpeg?odnHeight=100&odnWidth=100&odnBg=FFFFFF\",\"mediumImage\":\"https://i5.walmartimages.com/asr/70eb480f-b12b-4f55-8857-59537318a1a6_2.72143db2b2f2747414aa6572f98a8461.jpeg?odnHeight=180&odnWidth=180&odnBg=FFFFFF\",\"largeImage\":\"https://i5.walmartimages.com/asr/70eb480f-b12b-4f55-8857-59537318a1a6_2.72143db2b2f2747414aa6572f98a8461.jpeg?odnHeight=450&odnWidth=450&odnBg=FFFFFF\",\"entityType\":\"SECONDARY\"},{\"thumbnailImage\":\"https://i5.walmartimages.com/asr/30597825-ef38-471c-9d2f-bbff9cf05f82_1.0a8ced5bdb302d758138bb138c0c6cd9.jpeg?odnHeight=100&odnWidth=100&odnBg=FFFFFF\",\"mediumImage\":\"https://i5.walmartimages.com/asr/30597825-ef38-471c-9d2f-bbff9cf05f82_1.0a8ced5bdb302d758138bb138c0c6cd9.jpeg?odnHeight=180&odnWidth=180&odnBg=FFFFFF\",\"largeImage\":\"https://i5.walmartimages.com/asr/30597825-ef38-471c-9d2f-bbff9cf05f82_1.0a8ced5bdb302d758138bb138c0c6cd9.jpeg?odnHeight=450&odnWidth=450&odnBg=FFFFFF\",\"entityType\":\"SECONDARY\"},{\"thumbnailImage\":\"https://i5.walmartimages.com/asr/b4ee9e43-8f8e-47ae-8c82-a7a9a32a8335_1.80c841fdee21529981c694ce28ae2e29.jpeg?odnHeight=100&odnWidth=100&odnBg=FFFFFF\",\"mediumImage\":\"https://i5.walmartimages.com/asr/b4ee9e43-8f8e-47ae-8c82-a7a9a32a8335_1.80c841fdee21529981c694ce28ae2e29.jpeg?odnHeight=180&odnWidth=180&odnBg=FFFFFF\",\"largeImage\":\"https://i5.walmartimages.com/asr/b4ee9e43-8f8e-47ae-8c82-a7a9a32a8335_1.80c841fdee21529981c694ce28ae2e29.jpeg?odnHeight=450&odnWidth=450&odnBg=FFFFFF\",\"entityType\":\"PRIMARY\"},{\"thumbnailImage\":\"https://i5.walmartimages.com/asr/05602967-3e18-43e1-867b-593fa40277f8_1.795c979741e2c5b239a26ddbee4ee6ed.jpeg?odnHeight=100&odnWidth=100&odnBg=FFFFFF\",\"mediumImage\":\"https://i5.walmartimages.com/asr/05602967-3e18-43e1-867b-593fa40277f8_1.795c979741e2c5b239a26ddbee4ee6ed.jpeg?odnHeight=180&odnWidth=180&odnBg=FFFFFF\",\"largeImage\":\"https://i5.walmartimages.com/asr/05602967-3e18-43e1-867b-593fa40277f8_1.795c979741e2c5b239a26ddbee4ee6ed.jpeg?odnHeight=450&odnWidth=450&odnBg=FFFFFF\",\"entityType\":\"SECONDARY\"}],\"offerType\":\"ONLINE_AND_STORE\",\"isTwoDayShippingEligible\":true,\"availableOnline\":true}],\"facets\":[]}'\n"
     ]
    }
   ],
   "source": [
    "import urllib.request\n",
    "with urllib.request.urlopen('http://api.walmartlabs.com/v1/search?apiKey=wx3x3kwvjvz78s8kdtcybzfs&query={}'.format(UPC)) as f:\n",
    "    print(f.read())"
   ]
  }
 ],
 "metadata": {
  "kernelspec": {
   "display_name": "Python 3",
   "language": "python",
   "name": "python3"
  },
  "language_info": {
   "codemirror_mode": {
    "name": "ipython",
    "version": 3
   },
   "file_extension": ".py",
   "mimetype": "text/x-python",
   "name": "python",
   "nbconvert_exporter": "python",
   "pygments_lexer": "ipython3",
   "version": "3.4.5"
  }
 },
 "nbformat": 4,
 "nbformat_minor": 2
}
