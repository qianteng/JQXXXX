{
 "cells": [
  {
   "cell_type": "code",
   "execution_count": 1,
   "metadata": {
    "collapsed": true
   },
   "outputs": [],
   "source": [
    "from collections import Counter\n",
    "import sys\n",
    "\n",
    "import config\n",
    "from utils import csv_utils"
   ]
  },
  {
   "cell_type": "code",
   "execution_count": 2,
   "metadata": {
    "collapsed": true
   },
   "outputs": [],
   "source": [
    "dfTrain = csv_utils._load(config.TRAIN_DATA)\n",
    "dfTest  = csv_utils._load(config.TEST_DATA)"
   ]
  },
  {
   "cell_type": "code",
   "execution_count": 3,
   "metadata": {},
   "outputs": [
    {
     "name": "stdout",
     "output_type": "stream",
     "text": [
      "When do you use シ instead of し?"
     ]
    }
   ],
   "source": [
    "for c in unicode(dfTrain.iloc[8][\"question1\"], 'utf-8'):\n",
    "    sys.stdout.write(c)"
   ]
  },
  {
   "cell_type": "code",
   "execution_count": 4,
   "metadata": {},
   "outputs": [
    {
     "data": {
      "text/plain": [
       "Counter({u' ': 7,\n",
       "         u'?': 1,\n",
       "         u'W': 1,\n",
       "         u'a': 1,\n",
       "         u'd': 2,\n",
       "         u'e': 3,\n",
       "         u'f': 1,\n",
       "         u'h': 1,\n",
       "         u'i': 1,\n",
       "         u'n': 2,\n",
       "         u'o': 3,\n",
       "         u's': 2,\n",
       "         u't': 1,\n",
       "         u'u': 2,\n",
       "         u'y': 1,\n",
       "         u'\\u3057': 1,\n",
       "         u'\\u30b7': 1})"
      ]
     },
     "execution_count": 4,
     "metadata": {},
     "output_type": "execute_result"
    }
   ],
   "source": [
    "Counter(unicode(dfTrain.iloc[8][\"question1\"], 'utf-8'))"
   ]
  }
 ],
 "metadata": {
  "kernelspec": {
   "display_name": "Python 2",
   "language": "python",
   "name": "python2"
  },
  "language_info": {
   "codemirror_mode": {
    "name": "ipython",
    "version": 2
   },
   "file_extension": ".py",
   "mimetype": "text/x-python",
   "name": "python",
   "nbconvert_exporter": "python",
   "pygments_lexer": "ipython2",
   "version": "2.7.13"
  }
 },
 "nbformat": 4,
 "nbformat_minor": 2
}
