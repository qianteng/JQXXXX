{
 "cells": [
  {
   "cell_type": "code",
   "execution_count": 1,
   "metadata": {
    "collapsed": true
   },
   "outputs": [],
   "source": [
    "from sklearn.preprocessing import LabelEncoder, OneHotEncoder\n",
    "\n",
    "import calendar\n",
    "import numpy as np\n",
    "import pandas as pd\n",
    "import xgboost as xgb"
   ]
  },
  {
   "cell_type": "code",
   "execution_count": 2,
   "metadata": {
    "collapsed": true
   },
   "outputs": [],
   "source": [
    "train = pd.read_csv('~/Kaggle/walmart/train.csv', dtype={'Upc': str, 'FinelineNumber': str})"
   ]
  },
  {
   "cell_type": "code",
   "execution_count": 3,
   "metadata": {
    "collapsed": true
   },
   "outputs": [],
   "source": [
    "test = pd.read_csv('~/Kaggle/walmart/test.csv', dtype={'Upc': str, 'FinelineNumber': str})"
   ]
  },
  {
   "cell_type": "code",
   "execution_count": 4,
   "metadata": {},
   "outputs": [
    {
     "data": {
      "text/plain": [
       "'TripType'"
      ]
     },
     "execution_count": 4,
     "metadata": {},
     "output_type": "execute_result"
    }
   ],
   "source": [
    "target_column = train.columns[0]\n",
    "target_column"
   ]
  },
  {
   "cell_type": "code",
   "execution_count": 5,
   "metadata": {
    "collapsed": true
   },
   "outputs": [],
   "source": [
    "data = train.append(test)[train.columns]"
   ]
  },
  {
   "cell_type": "code",
   "execution_count": 6,
   "metadata": {
    "collapsed": true
   },
   "outputs": [],
   "source": [
    "feature_columns = []"
   ]
  },
  {
   "cell_type": "code",
   "execution_count": 7,
   "metadata": {
    "collapsed": true
   },
   "outputs": [],
   "source": [
    "data['NumberItems'] = data.groupby('VisitNumber')['VisitNumber'].transform('count')\n",
    "feature_columns += ['NumberItems']"
   ]
  },
  {
   "cell_type": "code",
   "execution_count": 8,
   "metadata": {
    "collapsed": true
   },
   "outputs": [],
   "source": [
    "day_number_by_name = {d: n for n, d in enumerate(calendar.day_name)}\n",
    "data['WeekdayNumber'] = data['Weekday'].map(day_number_by_name)\n",
    "data['IsWeekday'] = data['WeekdayNumber'] < 5\n",
    "feature_columns += ['WeekdayNumber', 'IsWeekday']"
   ]
  },
  {
   "cell_type": "code",
   "execution_count": 9,
   "metadata": {
    "collapsed": true
   },
   "outputs": [],
   "source": [
    "data['TotalScanCount'] = data.groupby('VisitNumber')['ScanCount'].transform('sum')\n",
    "feature_columns += ['ScanCount', 'TotalScanCount']"
   ]
  },
  {
   "cell_type": "code",
   "execution_count": 10,
   "metadata": {},
   "outputs": [],
   "source": [
    "departments = list(data['DepartmentDescription'].unique())\n",
    "feature_columns += departments\n",
    "\n",
    "for department in departments:\n",
    "    data[department] = data['DepartmentDescription'] == department"
   ]
  },
  {
   "cell_type": "code",
   "execution_count": 11,
   "metadata": {},
   "outputs": [
    {
     "data": {
      "text/plain": [
       "['NumberItems',\n",
       " 'WeekdayNumber',\n",
       " 'IsWeekday',\n",
       " 'ScanCount',\n",
       " 'TotalScanCount',\n",
       " 'FINANCIAL SERVICES',\n",
       " 'SHOES',\n",
       " 'PERSONAL CARE',\n",
       " 'PAINT AND ACCESSORIES',\n",
       " 'DSD GROCERY',\n",
       " 'MEAT - FRESH & FROZEN',\n",
       " 'DAIRY',\n",
       " 'PETS AND SUPPLIES',\n",
       " 'HOUSEHOLD CHEMICALS/SUPP',\n",
       " nan,\n",
       " 'IMPULSE MERCHANDISE',\n",
       " 'PRODUCE',\n",
       " 'CANDY, TOBACCO, COOKIES',\n",
       " 'GROCERY DRY GOODS',\n",
       " 'BOYS WEAR',\n",
       " 'FABRICS AND CRAFTS',\n",
       " 'JEWELRY AND SUNGLASSES',\n",
       " 'MENS WEAR',\n",
       " 'ACCESSORIES',\n",
       " 'HOME MANAGEMENT',\n",
       " 'FROZEN FOODS',\n",
       " 'SERVICE DELI',\n",
       " 'INFANT CONSUMABLE HARDLINES',\n",
       " 'PRE PACKED DELI',\n",
       " 'COOK AND DINE',\n",
       " 'PHARMACY OTC',\n",
       " 'LADIESWEAR',\n",
       " 'COMM BREAD',\n",
       " 'BAKERY',\n",
       " 'HOUSEHOLD PAPER GOODS',\n",
       " 'CELEBRATION',\n",
       " 'HARDWARE',\n",
       " 'BEAUTY',\n",
       " 'AUTOMOTIVE',\n",
       " 'BOOKS AND MAGAZINES',\n",
       " 'SEAFOOD',\n",
       " 'OFFICE SUPPLIES',\n",
       " 'LAWN AND GARDEN',\n",
       " 'SHEER HOSIERY',\n",
       " 'WIRELESS',\n",
       " 'BEDDING',\n",
       " 'BATH AND SHOWER',\n",
       " 'HORTICULTURE AND ACCESS',\n",
       " 'HOME DECOR',\n",
       " 'TOYS',\n",
       " 'INFANT APPAREL',\n",
       " 'LADIES SOCKS',\n",
       " 'PLUS AND MATERNITY',\n",
       " 'ELECTRONICS',\n",
       " 'GIRLS WEAR, 4-6X  AND 7-14',\n",
       " 'BRAS & SHAPEWEAR',\n",
       " 'LIQUOR,WINE,BEER',\n",
       " 'SLEEPWEAR/FOUNDATIONS',\n",
       " 'CAMERAS AND SUPPLIES',\n",
       " 'SPORTING GOODS',\n",
       " 'PLAYERS AND ELECTRONICS',\n",
       " 'PHARMACY RX',\n",
       " 'MENSWEAR',\n",
       " 'OPTICAL - FRAMES',\n",
       " 'SWIMWEAR/OUTERWEAR',\n",
       " 'OTHER DEPARTMENTS',\n",
       " 'MEDIA AND GAMING',\n",
       " 'FURNITURE',\n",
       " 'OPTICAL - LENSES',\n",
       " 'SEASONAL',\n",
       " 'LARGE HOUSEHOLD GOODS',\n",
       " '1-HR PHOTO',\n",
       " 'CONCEPT STORES',\n",
       " 'HEALTH AND BEAUTY AIDS']"
      ]
     },
     "execution_count": 11,
     "metadata": {},
     "output_type": "execute_result"
    }
   ],
   "source": [
    "feature_columns"
   ]
  },
  {
   "cell_type": "code",
   "execution_count": 12,
   "metadata": {},
   "outputs": [
    {
     "data": {
      "text/html": [
       "<div>\n",
       "<table border=\"1\" class=\"dataframe\">\n",
       "  <thead>\n",
       "    <tr style=\"text-align: right;\">\n",
       "      <th></th>\n",
       "      <th>TripType</th>\n",
       "      <th>VisitNumber</th>\n",
       "      <th>Weekday</th>\n",
       "      <th>Upc</th>\n",
       "      <th>ScanCount</th>\n",
       "      <th>DepartmentDescription</th>\n",
       "      <th>FinelineNumber</th>\n",
       "      <th>NumberItems</th>\n",
       "      <th>WeekdayNumber</th>\n",
       "      <th>IsWeekday</th>\n",
       "      <th>...</th>\n",
       "      <th>SWIMWEAR/OUTERWEAR</th>\n",
       "      <th>OTHER DEPARTMENTS</th>\n",
       "      <th>MEDIA AND GAMING</th>\n",
       "      <th>FURNITURE</th>\n",
       "      <th>OPTICAL - LENSES</th>\n",
       "      <th>SEASONAL</th>\n",
       "      <th>LARGE HOUSEHOLD GOODS</th>\n",
       "      <th>1-HR PHOTO</th>\n",
       "      <th>CONCEPT STORES</th>\n",
       "      <th>HEALTH AND BEAUTY AIDS</th>\n",
       "    </tr>\n",
       "  </thead>\n",
       "  <tbody>\n",
       "    <tr>\n",
       "      <th>0</th>\n",
       "      <td>999</td>\n",
       "      <td>5</td>\n",
       "      <td>Friday</td>\n",
       "      <td>68113152929</td>\n",
       "      <td>-1</td>\n",
       "      <td>FINANCIAL SERVICES</td>\n",
       "      <td>1000</td>\n",
       "      <td>1</td>\n",
       "      <td>4</td>\n",
       "      <td>True</td>\n",
       "      <td>...</td>\n",
       "      <td>False</td>\n",
       "      <td>False</td>\n",
       "      <td>False</td>\n",
       "      <td>False</td>\n",
       "      <td>False</td>\n",
       "      <td>False</td>\n",
       "      <td>False</td>\n",
       "      <td>False</td>\n",
       "      <td>False</td>\n",
       "      <td>False</td>\n",
       "    </tr>\n",
       "    <tr>\n",
       "      <th>1</th>\n",
       "      <td>30</td>\n",
       "      <td>7</td>\n",
       "      <td>Friday</td>\n",
       "      <td>60538815980</td>\n",
       "      <td>1</td>\n",
       "      <td>SHOES</td>\n",
       "      <td>8931</td>\n",
       "      <td>2</td>\n",
       "      <td>4</td>\n",
       "      <td>True</td>\n",
       "      <td>...</td>\n",
       "      <td>False</td>\n",
       "      <td>False</td>\n",
       "      <td>False</td>\n",
       "      <td>False</td>\n",
       "      <td>False</td>\n",
       "      <td>False</td>\n",
       "      <td>False</td>\n",
       "      <td>False</td>\n",
       "      <td>False</td>\n",
       "      <td>False</td>\n",
       "    </tr>\n",
       "    <tr>\n",
       "      <th>2</th>\n",
       "      <td>30</td>\n",
       "      <td>7</td>\n",
       "      <td>Friday</td>\n",
       "      <td>7410811099</td>\n",
       "      <td>1</td>\n",
       "      <td>PERSONAL CARE</td>\n",
       "      <td>4504</td>\n",
       "      <td>2</td>\n",
       "      <td>4</td>\n",
       "      <td>True</td>\n",
       "      <td>...</td>\n",
       "      <td>False</td>\n",
       "      <td>False</td>\n",
       "      <td>False</td>\n",
       "      <td>False</td>\n",
       "      <td>False</td>\n",
       "      <td>False</td>\n",
       "      <td>False</td>\n",
       "      <td>False</td>\n",
       "      <td>False</td>\n",
       "      <td>False</td>\n",
       "    </tr>\n",
       "    <tr>\n",
       "      <th>3</th>\n",
       "      <td>26</td>\n",
       "      <td>8</td>\n",
       "      <td>Friday</td>\n",
       "      <td>2238403510</td>\n",
       "      <td>2</td>\n",
       "      <td>PAINT AND ACCESSORIES</td>\n",
       "      <td>3565</td>\n",
       "      <td>23</td>\n",
       "      <td>4</td>\n",
       "      <td>True</td>\n",
       "      <td>...</td>\n",
       "      <td>False</td>\n",
       "      <td>False</td>\n",
       "      <td>False</td>\n",
       "      <td>False</td>\n",
       "      <td>False</td>\n",
       "      <td>False</td>\n",
       "      <td>False</td>\n",
       "      <td>False</td>\n",
       "      <td>False</td>\n",
       "      <td>False</td>\n",
       "    </tr>\n",
       "    <tr>\n",
       "      <th>4</th>\n",
       "      <td>26</td>\n",
       "      <td>8</td>\n",
       "      <td>Friday</td>\n",
       "      <td>2006613744</td>\n",
       "      <td>2</td>\n",
       "      <td>PAINT AND ACCESSORIES</td>\n",
       "      <td>1017</td>\n",
       "      <td>23</td>\n",
       "      <td>4</td>\n",
       "      <td>True</td>\n",
       "      <td>...</td>\n",
       "      <td>False</td>\n",
       "      <td>False</td>\n",
       "      <td>False</td>\n",
       "      <td>False</td>\n",
       "      <td>False</td>\n",
       "      <td>False</td>\n",
       "      <td>False</td>\n",
       "      <td>False</td>\n",
       "      <td>False</td>\n",
       "      <td>False</td>\n",
       "    </tr>\n",
       "  </tbody>\n",
       "</table>\n",
       "<p>5 rows × 80 columns</p>\n",
       "</div>"
      ],
      "text/plain": [
       "   TripType  VisitNumber Weekday          Upc  ScanCount  \\\n",
       "0       999            5  Friday  68113152929         -1   \n",
       "1        30            7  Friday  60538815980          1   \n",
       "2        30            7  Friday   7410811099          1   \n",
       "3        26            8  Friday   2238403510          2   \n",
       "4        26            8  Friday   2006613744          2   \n",
       "\n",
       "   DepartmentDescription FinelineNumber  NumberItems  WeekdayNumber IsWeekday  \\\n",
       "0     FINANCIAL SERVICES           1000            1              4      True   \n",
       "1                  SHOES           8931            2              4      True   \n",
       "2          PERSONAL CARE           4504            2              4      True   \n",
       "3  PAINT AND ACCESSORIES           3565           23              4      True   \n",
       "4  PAINT AND ACCESSORIES           1017           23              4      True   \n",
       "\n",
       "           ...            SWIMWEAR/OUTERWEAR OTHER DEPARTMENTS  \\\n",
       "0          ...                         False             False   \n",
       "1          ...                         False             False   \n",
       "2          ...                         False             False   \n",
       "3          ...                         False             False   \n",
       "4          ...                         False             False   \n",
       "\n",
       "  MEDIA AND GAMING FURNITURE OPTICAL - LENSES SEASONAL LARGE HOUSEHOLD GOODS  \\\n",
       "0            False     False            False    False                 False   \n",
       "1            False     False            False    False                 False   \n",
       "2            False     False            False    False                 False   \n",
       "3            False     False            False    False                 False   \n",
       "4            False     False            False    False                 False   \n",
       "\n",
       "  1-HR PHOTO CONCEPT STORES HEALTH AND BEAUTY AIDS  \n",
       "0      False          False                  False  \n",
       "1      False          False                  False  \n",
       "2      False          False                  False  \n",
       "3      False          False                  False  \n",
       "4      False          False                  False  \n",
       "\n",
       "[5 rows x 80 columns]"
      ]
     },
     "execution_count": 12,
     "metadata": {},
     "output_type": "execute_result"
    }
   ],
   "source": [
    "data.head()"
   ]
  },
  {
   "cell_type": "code",
   "execution_count": 13,
   "metadata": {},
   "outputs": [
    {
     "data": {
      "text/html": [
       "<div>\n",
       "<table border=\"1\" class=\"dataframe\">\n",
       "  <thead>\n",
       "    <tr style=\"text-align: right;\">\n",
       "      <th></th>\n",
       "      <th>TripType</th>\n",
       "      <th>VisitNumber</th>\n",
       "      <th>Weekday</th>\n",
       "      <th>Upc</th>\n",
       "      <th>ScanCount</th>\n",
       "      <th>DepartmentDescription</th>\n",
       "      <th>FinelineNumber</th>\n",
       "      <th>NumberItems</th>\n",
       "      <th>WeekdayNumber</th>\n",
       "      <th>IsWeekday</th>\n",
       "      <th>...</th>\n",
       "      <th>SWIMWEAR/OUTERWEAR</th>\n",
       "      <th>OTHER DEPARTMENTS</th>\n",
       "      <th>MEDIA AND GAMING</th>\n",
       "      <th>FURNITURE</th>\n",
       "      <th>OPTICAL - LENSES</th>\n",
       "      <th>SEASONAL</th>\n",
       "      <th>LARGE HOUSEHOLD GOODS</th>\n",
       "      <th>1-HR PHOTO</th>\n",
       "      <th>CONCEPT STORES</th>\n",
       "      <th>HEALTH AND BEAUTY AIDS</th>\n",
       "    </tr>\n",
       "  </thead>\n",
       "  <tbody>\n",
       "    <tr>\n",
       "      <th>653641</th>\n",
       "      <td>NaN</td>\n",
       "      <td>191348</td>\n",
       "      <td>Sunday</td>\n",
       "      <td>66572105763</td>\n",
       "      <td>1</td>\n",
       "      <td>BATH AND SHOWER</td>\n",
       "      <td>1505</td>\n",
       "      <td>7</td>\n",
       "      <td>6</td>\n",
       "      <td>False</td>\n",
       "      <td>...</td>\n",
       "      <td>False</td>\n",
       "      <td>False</td>\n",
       "      <td>False</td>\n",
       "      <td>False</td>\n",
       "      <td>False</td>\n",
       "      <td>False</td>\n",
       "      <td>False</td>\n",
       "      <td>False</td>\n",
       "      <td>False</td>\n",
       "      <td>False</td>\n",
       "    </tr>\n",
       "    <tr>\n",
       "      <th>653642</th>\n",
       "      <td>NaN</td>\n",
       "      <td>191348</td>\n",
       "      <td>Sunday</td>\n",
       "      <td>88181390024</td>\n",
       "      <td>1</td>\n",
       "      <td>BATH AND SHOWER</td>\n",
       "      <td>1099</td>\n",
       "      <td>7</td>\n",
       "      <td>6</td>\n",
       "      <td>False</td>\n",
       "      <td>...</td>\n",
       "      <td>False</td>\n",
       "      <td>False</td>\n",
       "      <td>False</td>\n",
       "      <td>False</td>\n",
       "      <td>False</td>\n",
       "      <td>False</td>\n",
       "      <td>False</td>\n",
       "      <td>False</td>\n",
       "      <td>False</td>\n",
       "      <td>False</td>\n",
       "    </tr>\n",
       "    <tr>\n",
       "      <th>653643</th>\n",
       "      <td>NaN</td>\n",
       "      <td>191348</td>\n",
       "      <td>Sunday</td>\n",
       "      <td>4282557050</td>\n",
       "      <td>1</td>\n",
       "      <td>MENS WEAR</td>\n",
       "      <td>8220</td>\n",
       "      <td>7</td>\n",
       "      <td>6</td>\n",
       "      <td>False</td>\n",
       "      <td>...</td>\n",
       "      <td>False</td>\n",
       "      <td>False</td>\n",
       "      <td>False</td>\n",
       "      <td>False</td>\n",
       "      <td>False</td>\n",
       "      <td>False</td>\n",
       "      <td>False</td>\n",
       "      <td>False</td>\n",
       "      <td>False</td>\n",
       "      <td>False</td>\n",
       "    </tr>\n",
       "    <tr>\n",
       "      <th>653644</th>\n",
       "      <td>NaN</td>\n",
       "      <td>191348</td>\n",
       "      <td>Sunday</td>\n",
       "      <td>80469193740</td>\n",
       "      <td>1</td>\n",
       "      <td>SWIMWEAR/OUTERWEAR</td>\n",
       "      <td>114</td>\n",
       "      <td>7</td>\n",
       "      <td>6</td>\n",
       "      <td>False</td>\n",
       "      <td>...</td>\n",
       "      <td>True</td>\n",
       "      <td>False</td>\n",
       "      <td>False</td>\n",
       "      <td>False</td>\n",
       "      <td>False</td>\n",
       "      <td>False</td>\n",
       "      <td>False</td>\n",
       "      <td>False</td>\n",
       "      <td>False</td>\n",
       "      <td>False</td>\n",
       "    </tr>\n",
       "    <tr>\n",
       "      <th>653645</th>\n",
       "      <td>NaN</td>\n",
       "      <td>191348</td>\n",
       "      <td>Sunday</td>\n",
       "      <td>7871535983</td>\n",
       "      <td>1</td>\n",
       "      <td>MENS WEAR</td>\n",
       "      <td>4923</td>\n",
       "      <td>7</td>\n",
       "      <td>6</td>\n",
       "      <td>False</td>\n",
       "      <td>...</td>\n",
       "      <td>False</td>\n",
       "      <td>False</td>\n",
       "      <td>False</td>\n",
       "      <td>False</td>\n",
       "      <td>False</td>\n",
       "      <td>False</td>\n",
       "      <td>False</td>\n",
       "      <td>False</td>\n",
       "      <td>False</td>\n",
       "      <td>False</td>\n",
       "    </tr>\n",
       "  </tbody>\n",
       "</table>\n",
       "<p>5 rows × 80 columns</p>\n",
       "</div>"
      ],
      "text/plain": [
       "        TripType  VisitNumber Weekday          Upc  ScanCount  \\\n",
       "653641       NaN       191348  Sunday  66572105763          1   \n",
       "653642       NaN       191348  Sunday  88181390024          1   \n",
       "653643       NaN       191348  Sunday   4282557050          1   \n",
       "653644       NaN       191348  Sunday  80469193740          1   \n",
       "653645       NaN       191348  Sunday   7871535983          1   \n",
       "\n",
       "       DepartmentDescription FinelineNumber  NumberItems  WeekdayNumber  \\\n",
       "653641       BATH AND SHOWER           1505            7              6   \n",
       "653642       BATH AND SHOWER           1099            7              6   \n",
       "653643             MENS WEAR           8220            7              6   \n",
       "653644    SWIMWEAR/OUTERWEAR            114            7              6   \n",
       "653645             MENS WEAR           4923            7              6   \n",
       "\n",
       "       IsWeekday          ...            SWIMWEAR/OUTERWEAR OTHER DEPARTMENTS  \\\n",
       "653641     False          ...                         False             False   \n",
       "653642     False          ...                         False             False   \n",
       "653643     False          ...                         False             False   \n",
       "653644     False          ...                          True             False   \n",
       "653645     False          ...                         False             False   \n",
       "\n",
       "       MEDIA AND GAMING FURNITURE OPTICAL - LENSES SEASONAL  \\\n",
       "653641            False     False            False    False   \n",
       "653642            False     False            False    False   \n",
       "653643            False     False            False    False   \n",
       "653644            False     False            False    False   \n",
       "653645            False     False            False    False   \n",
       "\n",
       "       LARGE HOUSEHOLD GOODS 1-HR PHOTO CONCEPT STORES HEALTH AND BEAUTY AIDS  \n",
       "653641                 False      False          False                  False  \n",
       "653642                 False      False          False                  False  \n",
       "653643                 False      False          False                  False  \n",
       "653644                 False      False          False                  False  \n",
       "653645                 False      False          False                  False  \n",
       "\n",
       "[5 rows x 80 columns]"
      ]
     },
     "execution_count": 13,
     "metadata": {},
     "output_type": "execute_result"
    }
   ],
   "source": [
    "data.tail()"
   ]
  },
  {
   "cell_type": "code",
   "execution_count": 14,
   "metadata": {
    "collapsed": true
   },
   "outputs": [],
   "source": [
    "train_mask = data[target_column].notnull()\n",
    "X_train = data[train_mask][feature_columns].as_matrix()\n",
    "y_train = data[train_mask][target_column].as_matrix()\n",
    "X_test = data[~train_mask][feature_columns].as_matrix()"
   ]
  },
  {
   "cell_type": "code",
   "execution_count": 15,
   "metadata": {},
   "outputs": [
    {
     "name": "stdout",
     "output_type": "stream",
     "text": [
      "CPU times: user 14min 42s, sys: 1.39 s, total: 14min 44s\n",
      "Wall time: 14min 44s\n"
     ]
    }
   ],
   "source": [
    "%%time\n",
    "gbm = xgb.XGBClassifier().fit(X_train, y_train)"
   ]
  },
  {
   "cell_type": "code",
   "execution_count": 16,
   "metadata": {},
   "outputs": [
    {
     "name": "stdout",
     "output_type": "stream",
     "text": [
      "CPU times: user 2 µs, sys: 0 ns, total: 2 µs\n",
      "Wall time: 6.2 µs\n"
     ]
    }
   ],
   "source": [
    "%time\n",
    "predictions = gbm.predict_proba(X_test)"
   ]
  },
  {
   "cell_type": "code",
   "execution_count": 17,
   "metadata": {},
   "outputs": [],
   "source": [
    "columns = ['TripType_{}'.format(int(t)) for t in gbm._le.inverse_transform(range(predictions.shape[1]))]"
   ]
  },
  {
   "cell_type": "code",
   "execution_count": 18,
   "metadata": {},
   "outputs": [],
   "source": [
    "submission = pd.concat([test['VisitNumber'], pd.DataFrame(predictions, columns=columns)], axis=1)"
   ]
  },
  {
   "cell_type": "code",
   "execution_count": 19,
   "metadata": {},
   "outputs": [],
   "source": [
    "submission = submission.groupby('VisitNumber').mean()"
   ]
  },
  {
   "cell_type": "code",
   "execution_count": 20,
   "metadata": {},
   "outputs": [],
   "source": [
    "submission.to_csv('submission.csv')"
   ]
  }
 ],
 "metadata": {
  "kernelspec": {
   "display_name": "Python 2",
   "language": "python",
   "name": "python2"
  },
  "language_info": {
   "codemirror_mode": {
    "name": "ipython",
    "version": 2
   },
   "file_extension": ".py",
   "mimetype": "text/x-python",
   "name": "python",
   "nbconvert_exporter": "python",
   "pygments_lexer": "ipython2",
   "version": "2.7.13"
  }
 },
 "nbformat": 4,
 "nbformat_minor": 2
}
